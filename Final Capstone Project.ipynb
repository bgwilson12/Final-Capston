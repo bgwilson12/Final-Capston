{
 "cells": [
  {
   "cell_type": "code",
   "execution_count": 1,
   "metadata": {},
   "outputs": [],
   "source": [
    "import pandas as pd\n",
    "import numpy as np\n",
    "import matplotlib.pyplot as plt\n",
    "import pickle"
   ]
  },
  {
   "cell_type": "markdown",
   "metadata": {},
   "source": [
    "# Cleaning the Student Essay Data\n",
    "I've got all of the student data I could ever need, with something like 650 essays from 100 or so different topics. I should be able to clean them all at once. I will also make sure that this step is done in a functional way in case I need to scrape more data."
   ]
  },
  {
   "cell_type": "code",
   "execution_count": 2,
   "metadata": {},
   "outputs": [
    {
     "name": "stdout",
     "output_type": "stream",
     "text": [
      "Number of student essays: 675\n"
     ]
    },
    {
     "data": {
      "text/html": [
       "<div>\n",
       "<style scoped>\n",
       "    .dataframe tbody tr th:only-of-type {\n",
       "        vertical-align: middle;\n",
       "    }\n",
       "\n",
       "    .dataframe tbody tr th {\n",
       "        vertical-align: top;\n",
       "    }\n",
       "\n",
       "    .dataframe thead th {\n",
       "        text-align: right;\n",
       "    }\n",
       "</style>\n",
       "<table border=\"1\" class=\"dataframe\">\n",
       "  <thead>\n",
       "    <tr style=\"text-align: right;\">\n",
       "      <th></th>\n",
       "      <th>subject</th>\n",
       "      <th>text</th>\n",
       "      <th>title</th>\n",
       "      <th>student</th>\n",
       "      <th>joined</th>\n",
       "    </tr>\n",
       "  </thead>\n",
       "  <tbody>\n",
       "    <tr>\n",
       "      <th>0</th>\n",
       "      <td>Ecommerce</td>\n",
       "      <td>[\\n, \\n, \\n, \\n, \\n, Face of consumerism throu...</td>\n",
       "      <td>Impact of E-commerce on the Hospitality Industry</td>\n",
       "      <td>1</td>\n",
       "      <td>\\n \\n \\n \\n \\n Face of consumerism through e-c...</td>\n",
       "    </tr>\n",
       "    <tr>\n",
       "      <th>1</th>\n",
       "      <td>Drama</td>\n",
       "      <td>[\\n, \\n, \\n, \\n, \\n,  ped importance, price el...</td>\n",
       "      <td>Importance of Elasticity Demand</td>\n",
       "      <td>1</td>\n",
       "      <td>\\n \\n \\n \\n \\n  ped importance, price elastici...</td>\n",
       "    </tr>\n",
       "    <tr>\n",
       "      <th>2</th>\n",
       "      <td>Design</td>\n",
       "      <td>[\\n, \\n, \\n, \\n, \\n, To export a reference to ...</td>\n",
       "      <td>Posters of the Second World War - An Analysis</td>\n",
       "      <td>1</td>\n",
       "      <td>\\n \\n \\n \\n \\n To export a reference to this a...</td>\n",
       "    </tr>\n",
       "    <tr>\n",
       "      <th>3</th>\n",
       "      <td>Data Analysis</td>\n",
       "      <td>[\\n, \\n, \\n, \\n, \\n, When we talk about the Ma...</td>\n",
       "      <td>Mathematical description of OFDM</td>\n",
       "      <td>1</td>\n",
       "      <td>\\n \\n \\n \\n \\n When we talk about the Mathemat...</td>\n",
       "    </tr>\n",
       "    <tr>\n",
       "      <th>4</th>\n",
       "      <td>Cultural Studies</td>\n",
       "      <td>[\\n, \\n, \\n, \\n, \\n, The culture of the educat...</td>\n",
       "      <td>Cultural Analysis of Pakistan</td>\n",
       "      <td>1</td>\n",
       "      <td>\\n \\n \\n \\n \\n The culture of the educational ...</td>\n",
       "    </tr>\n",
       "  </tbody>\n",
       "</table>\n",
       "</div>"
      ],
      "text/plain": [
       "             subject                                               text  \\\n",
       "0         Ecommerce   [\\n, \\n, \\n, \\n, \\n, Face of consumerism throu...   \n",
       "1             Drama   [\\n, \\n, \\n, \\n, \\n,  ped importance, price el...   \n",
       "2            Design   [\\n, \\n, \\n, \\n, \\n, To export a reference to ...   \n",
       "3     Data Analysis   [\\n, \\n, \\n, \\n, \\n, When we talk about the Ma...   \n",
       "4  Cultural Studies   [\\n, \\n, \\n, \\n, \\n, The culture of the educat...   \n",
       "\n",
       "                                              title  student  \\\n",
       "0  Impact of E-commerce on the Hospitality Industry        1   \n",
       "1                   Importance of Elasticity Demand        1   \n",
       "2     Posters of the Second World War - An Analysis        1   \n",
       "3                  Mathematical description of OFDM        1   \n",
       "4                     Cultural Analysis of Pakistan        1   \n",
       "\n",
       "                                              joined  \n",
       "0  \\n \\n \\n \\n \\n Face of consumerism through e-c...  \n",
       "1  \\n \\n \\n \\n \\n  ped importance, price elastici...  \n",
       "2  \\n \\n \\n \\n \\n To export a reference to this a...  \n",
       "3  \\n \\n \\n \\n \\n When we talk about the Mathemat...  \n",
       "4  \\n \\n \\n \\n \\n The culture of the educational ...  "
      ]
     },
     "execution_count": 2,
     "metadata": {},
     "output_type": "execute_result"
    }
   ],
   "source": [
    "df_student = pickle.load(open('../uk_students.pkl', 'rb'))\n",
    "print('Number of student essays:', len(df_student))\n",
    "\n",
    "# We can use this column to look at some summary statistics\n",
    "df_student['joined'] = ([' '.join(each) for each in df_student.loc[:, 'text']])\n",
    "\n",
    "df_student.head()"
   ]
  },
  {
   "cell_type": "code",
   "execution_count": 3,
   "metadata": {},
   "outputs": [
    {
     "data": {
      "text/plain": [
       "count      675.000000\n",
       "mean     14078.758519\n",
       "std      10753.897797\n",
       "min          9.000000\n",
       "25%       7998.000000\n",
       "50%      11906.000000\n",
       "75%      16596.500000\n",
       "max      62832.000000\n",
       "dtype: float64"
      ]
     },
     "execution_count": 3,
     "metadata": {},
     "output_type": "execute_result"
    }
   ],
   "source": [
    "lengths = pd.Series([len(each) for each in df_student.joined])\n",
    "df_student['lengths'] = lengths\n",
    "lengths.describe()"
   ]
  },
  {
   "cell_type": "markdown",
   "metadata": {},
   "source": [
    "Looks like we have some small essays"
   ]
  },
  {
   "cell_type": "code",
   "execution_count": 4,
   "metadata": {},
   "outputs": [
    {
     "data": {
      "image/png": "[encoded data removed]",
      "text/plain": [
       "<matplotlib.figure.Figure at 0x1f9681d9c88>"
      ]
     },
     "metadata": {},
     "output_type": "display_data"
    },
    {
     "data": {
      "image/png": "[encoded data removed]",
      "text/plain": [
       "<matplotlib.figure.Figure at 0x1f9681d9be0>"
      ]
     },
     "metadata": {},
     "output_type": "display_data"
    }
   ],
   "source": [
    "# I'm using a lot of bins because it is easier to see that there are a lot of very tiny essays\n",
    "plt.hist(df_student.lengths, bins=50)\n",
    "plt.title('Essay Length Frequency')\n",
    "plt.xlabel('Number of Characters')\n",
    "plt.ylabel('Frequency')\n",
    "plt.show()\n",
    "\n",
    "# Let's look a little closer at the left side\n",
    "plt.hist(sorted(lengths)[:70], bins=10)\n",
    "plt.title('Essay Length Frequency (Left Tail)')\n",
    "plt.xlabel('Number of Characters')\n",
    "plt.ylabel('Frequency')\n",
    "# plt.xlim([0, 1000])\n",
    "plt.show()"
   ]
  },
  {
   "cell_type": "markdown",
   "metadata": {},
   "source": [
    "Let's go ahead and throw those small essays out"
   ]
  },
  {
   "cell_type": "code",
   "execution_count": 5,
   "metadata": {},
   "outputs": [],
   "source": [
    "df_student = df_student[df_student['lengths'] > 1000]\n",
    "df_student.reset_index(drop=True, inplace=True)"
   ]
  },
  {
   "cell_type": "markdown",
   "metadata": {},
   "source": [
    "Okay, wow. That is a pretty big relief. The paragraphs are already separated for us, there are always 5 newlines at the beginning (you'll have to take my word for it), and the last two paragraphs are always a couple random characters and a statement about exporting the document. This will be really easy to clean up."
   ]
  },
  {
   "cell_type": "code",
   "execution_count": 6,
   "metadata": {},
   "outputs": [
    {
     "data": {
      "text/html": [
       "<div>\n",
       "<style scoped>\n",
       "    .dataframe tbody tr th:only-of-type {\n",
       "        vertical-align: middle;\n",
       "    }\n",
       "\n",
       "    .dataframe tbody tr th {\n",
       "        vertical-align: top;\n",
       "    }\n",
       "\n",
       "    .dataframe thead th {\n",
       "        text-align: right;\n",
       "    }\n",
       "</style>\n",
       "<table border=\"1\" class=\"dataframe\">\n",
       "  <thead>\n",
       "    <tr style=\"text-align: right;\">\n",
       "      <th></th>\n",
       "      <th>subject</th>\n",
       "      <th>text</th>\n",
       "      <th>title</th>\n",
       "      <th>student</th>\n",
       "      <th>joined</th>\n",
       "      <th>lengths</th>\n",
       "    </tr>\n",
       "  </thead>\n",
       "  <tbody>\n",
       "    <tr>\n",
       "      <th>0</th>\n",
       "      <td>Ecommerce</td>\n",
       "      <td>[Face of consumerism through e-commerce has ra...</td>\n",
       "      <td>Impact of E-commerce on the Hospitality Industry</td>\n",
       "      <td>1</td>\n",
       "      <td>\\n \\n \\n \\n \\n Face of consumerism through e-c...</td>\n",
       "      <td>8668</td>\n",
       "    </tr>\n",
       "    <tr>\n",
       "      <th>1</th>\n",
       "      <td>Drama</td>\n",
       "      <td>[ ped importance, price elasticity importance,...</td>\n",
       "      <td>Importance of Elasticity Demand</td>\n",
       "      <td>1</td>\n",
       "      <td>\\n \\n \\n \\n \\n  ped importance, price elastici...</td>\n",
       "      <td>8739</td>\n",
       "    </tr>\n",
       "    <tr>\n",
       "      <th>2</th>\n",
       "      <td>Data Analysis</td>\n",
       "      <td>[When we talk about the Mathematical descripti...</td>\n",
       "      <td>Mathematical description of OFDM</td>\n",
       "      <td>1</td>\n",
       "      <td>\\n \\n \\n \\n \\n When we talk about the Mathemat...</td>\n",
       "      <td>21128</td>\n",
       "    </tr>\n",
       "    <tr>\n",
       "      <th>3</th>\n",
       "      <td>Cultural Studies</td>\n",
       "      <td>[The culture of the educational system of Paki...</td>\n",
       "      <td>Cultural Analysis of Pakistan</td>\n",
       "      <td>1</td>\n",
       "      <td>\\n \\n \\n \\n \\n The culture of the educational ...</td>\n",
       "      <td>10377</td>\n",
       "    </tr>\n",
       "    <tr>\n",
       "      <th>4</th>\n",
       "      <td>Criminology</td>\n",
       "      <td>[John Dillinger was one of the Midwest and our...</td>\n",
       "      <td>Bank Robber: John Dillinger, a Biography</td>\n",
       "      <td>1</td>\n",
       "      <td>\\n \\n \\n \\n \\n John Dillinger was one of the M...</td>\n",
       "      <td>15710</td>\n",
       "    </tr>\n",
       "  </tbody>\n",
       "</table>\n",
       "</div>"
      ],
      "text/plain": [
       "             subject                                               text  \\\n",
       "0         Ecommerce   [Face of consumerism through e-commerce has ra...   \n",
       "1             Drama   [ ped importance, price elasticity importance,...   \n",
       "2     Data Analysis   [When we talk about the Mathematical descripti...   \n",
       "3  Cultural Studies   [The culture of the educational system of Paki...   \n",
       "4       Criminology   [John Dillinger was one of the Midwest and our...   \n",
       "\n",
       "                                              title  student  \\\n",
       "0  Impact of E-commerce on the Hospitality Industry        1   \n",
       "1                   Importance of Elasticity Demand        1   \n",
       "2                  Mathematical description of OFDM        1   \n",
       "3                     Cultural Analysis of Pakistan        1   \n",
       "4          Bank Robber: John Dillinger, a Biography        1   \n",
       "\n",
       "                                              joined  lengths  \n",
       "0  \\n \\n \\n \\n \\n Face of consumerism through e-c...     8668  \n",
       "1  \\n \\n \\n \\n \\n  ped importance, price elastici...     8739  \n",
       "2  \\n \\n \\n \\n \\n When we talk about the Mathemat...    21128  \n",
       "3  \\n \\n \\n \\n \\n The culture of the educational ...    10377  \n",
       "4  \\n \\n \\n \\n \\n John Dillinger was one of the M...    15710  "
      ]
     },
     "execution_count": 6,
     "metadata": {},
     "output_type": "execute_result"
    }
   ],
   "source": [
    "for i, text in enumerate(df_student.loc[:, 'text']):\n",
    "    df_student.at[i, 'text'] = text[5:-2]\n",
    "df_student.head()"
   ]
  },
  {
   "cell_type": "code",
   "execution_count": 7,
   "metadata": {},
   "outputs": [
    {
     "data": {
      "image/png": "[encoded data removed]",
      "text/plain": [
       "<matplotlib.figure.Figure at 0x1f9681d95f8>"
      ]
     },
     "metadata": {},
     "output_type": "display_data"
    }
   ],
   "source": [
    "# I'm using a lot of bins because it is easier to see that there are a lot of very tiny essays\n",
    "plt.hist(df_student.lengths, bins=50)\n",
    "plt.title('Essay Length Frequency')\n",
    "plt.xlabel('Number of Characters')\n",
    "plt.ylabel('Frequency')\n",
    "plt.show()"
   ]
  },
  {
   "cell_type": "markdown",
   "metadata": {},
   "source": [
    "# Header"
   ]
  },
  {
   "cell_type": "markdown",
   "metadata": {},
   "source": [
    "# Header"
   ]
  },
  {
   "cell_type": "markdown",
   "metadata": {},
   "source": [
    "# Header"
   ]
  },
  {
   "cell_type": "markdown",
   "metadata": {},
   "source": [
    "# Header"
   ]
  },
  {
   "cell_type": "markdown",
   "metadata": {},
   "source": [
    "# Header"
   ]
  },
  {
   "cell_type": "markdown",
   "metadata": {},
   "source": [
    "# Header"
   ]
  }
 ],
 "metadata": {
  "kernelspec": {
   "display_name": "Python 3",
   "language": "python",
   "name": "python3"
  },
  "language_info": {
   "codemirror_mode": {
    "name": "ipython",
    "version": 3
   },
   "file_extension": ".py",
   "mimetype": "text/x-python",
   "name": "python",
   "nbconvert_exporter": "python",
   "pygments_lexer": "ipython3",
   "version": "3.6.4"
  }
 },
 "nbformat": 4,
 "nbformat_minor": 2
}
