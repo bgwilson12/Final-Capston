{
 "cells": [
  {
   "cell_type": "code",
   "execution_count": 1,
   "metadata": {},
   "outputs": [],
   "source": [
    "import pandas as pd\n",
    "import numpy as np\n",
    "import matplotlib.pyplot as plt\n",
    "import pickle\n",
    "import spacy\n",
    "import re"
   ]
  },
  {
   "cell_type": "markdown",
   "metadata": {},
   "source": [
    "# Introduction"
   ]
  },
  {
   "cell_type": "markdown",
   "metadata": {},
   "source": [
    "# Wrangling the Data\n",
    "The data used in this project comes from two Scrapy Spiders that I wrote for the [UK Essays](https://www.ukessays.com) website. They are called UK_pro_scraper and UK_student_scraper and can be found in the same github repository as this one."
   ]
  },
  {
   "cell_type": "markdown",
   "metadata": {},
   "source": [
    "### Preprocessing the UK-Student Essay Data\n",
    "I've got all of the student data I could ever need, with thousands of student submitted essays to choose from. I should be able to clean them all at once. I will also make sure that this step is done in a pipeline sort of way in case I need to scrape more data. This first spider crawls a list of subjects, and each subject contains a list of links to student submissions. The student submission pages contained the entire essay. So, my student crawler went 3 pages deep for each essay. It is also important to note here that the student crawler only selected three categories: Nursing, Law, and Business. This is because the number of professional samples (samples written by the site's paid authors) was limited to just these three subjects. Fortunately, these are the three most popular subjects and there are thousands of student submissions to choose from for each essay. After each scraper was run, I pulled its json output into a dataframe and used pickle to save it. This allows me to run the scraper and my analysis separately."
   ]
  },
  {
   "cell_type": "code",
   "execution_count": 2,
   "metadata": {},
   "outputs": [
    {
     "name": "stdout",
     "output_type": "stream",
     "text": [
      "Number of student essays: 734\n"
     ]
    },
    {
     "data": {
      "text/html": [
       "<div>\n",
       "<style scoped>\n",
       "    .dataframe tbody tr th:only-of-type {\n",
       "        vertical-align: middle;\n",
       "    }\n",
       "\n",
       "    .dataframe tbody tr th {\n",
       "        vertical-align: top;\n",
       "    }\n",
       "\n",
       "    .dataframe thead th {\n",
       "        text-align: right;\n",
       "    }\n",
       "</style>\n",
       "<table border=\"1\" class=\"dataframe\">\n",
       "  <thead>\n",
       "    <tr style=\"text-align: right;\">\n",
       "      <th></th>\n",
       "      <th>subject</th>\n",
       "      <th>text</th>\n",
       "      <th>title</th>\n",
       "      <th>student</th>\n",
       "      <th>joined</th>\n",
       "    </tr>\n",
       "  </thead>\n",
       "  <tbody>\n",
       "    <tr>\n",
       "      <th>0</th>\n",
       "      <td>Nursing</td>\n",
       "      <td>[\\n, \\n, \\n, \\n, \\n, Total Word Count: , This ...</td>\n",
       "      <td>Inquiry into Patient Death</td>\n",
       "      <td>1</td>\n",
       "      <td>\\n \\n \\n \\n \\n Total Word Count:  This report ...</td>\n",
       "    </tr>\n",
       "    <tr>\n",
       "      <th>1</th>\n",
       "      <td>Nursing</td>\n",
       "      <td>[\\n, \\n, \\n, \\n, \\n, Leadership has been descr...</td>\n",
       "      <td>Motivation Skills Development Plan for Nursing</td>\n",
       "      <td>1</td>\n",
       "      <td>\\n \\n \\n \\n \\n Leadership has been described a...</td>\n",
       "    </tr>\n",
       "    <tr>\n",
       "      <th>2</th>\n",
       "      <td>Nursing</td>\n",
       "      <td>[\\n, \\n, \\n, \\n, \\n, Depression among pregnant...</td>\n",
       "      <td>Depression among Pregnant Adolescents: Literat...</td>\n",
       "      <td>1</td>\n",
       "      <td>\\n \\n \\n \\n \\n Depression among pregnant adole...</td>\n",
       "    </tr>\n",
       "    <tr>\n",
       "      <th>3</th>\n",
       "      <td>Nursing</td>\n",
       "      <td>[\\n, \\n, \\n, \\n, \\n, Davidson, E., Daly, J., B...</td>\n",
       "      <td>Family Support Programme for ICU Patient Relat...</td>\n",
       "      <td>1</td>\n",
       "      <td>\\n \\n \\n \\n \\n Davidson, E., Daly, J., Brady, ...</td>\n",
       "    </tr>\n",
       "    <tr>\n",
       "      <th>4</th>\n",
       "      <td>Nursing</td>\n",
       "      <td>[\\n, \\n, \\n, \\n, \\n, Idiopathic pulmonary fibr...</td>\n",
       "      <td>Idiopathic Pulmonary Fibrosis: An Overview</td>\n",
       "      <td>1</td>\n",
       "      <td>\\n \\n \\n \\n \\n Idiopathic pulmonary fibrosis (...</td>\n",
       "    </tr>\n",
       "  </tbody>\n",
       "</table>\n",
       "</div>"
      ],
      "text/plain": [
       "    subject                                               text  \\\n",
       "0  Nursing   [\\n, \\n, \\n, \\n, \\n, Total Word Count: , This ...   \n",
       "1  Nursing   [\\n, \\n, \\n, \\n, \\n, Leadership has been descr...   \n",
       "2  Nursing   [\\n, \\n, \\n, \\n, \\n, Depression among pregnant...   \n",
       "3  Nursing   [\\n, \\n, \\n, \\n, \\n, Davidson, E., Daly, J., B...   \n",
       "4  Nursing   [\\n, \\n, \\n, \\n, \\n, Idiopathic pulmonary fibr...   \n",
       "\n",
       "                                               title  student  \\\n",
       "0                         Inquiry into Patient Death        1   \n",
       "1     Motivation Skills Development Plan for Nursing        1   \n",
       "2  Depression among Pregnant Adolescents: Literat...        1   \n",
       "3  Family Support Programme for ICU Patient Relat...        1   \n",
       "4         Idiopathic Pulmonary Fibrosis: An Overview        1   \n",
       "\n",
       "                                              joined  \n",
       "0  \\n \\n \\n \\n \\n Total Word Count:  This report ...  \n",
       "1  \\n \\n \\n \\n \\n Leadership has been described a...  \n",
       "2  \\n \\n \\n \\n \\n Depression among pregnant adole...  \n",
       "3  \\n \\n \\n \\n \\n Davidson, E., Daly, J., Brady, ...  \n",
       "4  \\n \\n \\n \\n \\n Idiopathic pulmonary fibrosis (...  "
      ]
     },
     "execution_count": 2,
     "metadata": {},
     "output_type": "execute_result"
    }
   ],
   "source": [
    "df_student = pickle.load(open('../uk_students.pkl', 'rb'))\n",
    "\n",
    "# We can use this column to look at some summary statistics\n",
    "df_student['joined'] = ([' '.join(each) for each in df_student.loc[:, 'text']])\n",
    "\n",
    "# percent_remove = 0.2\n",
    "# n_remove = int(len(df_student) * percent_remove)\n",
    "# drop_indices = np.random.choice(df_student.index, n_remove, replace=False)\n",
    "# df_student.drop(drop_indices, inplace=True)\n",
    "df_student.reset_index(inplace=True, drop=True)\n",
    "\n",
    "print('Number of student essays:', len(df_student))\n",
    "df_student.head()"
   ]
  },
  {
   "cell_type": "code",
   "execution_count": 3,
   "metadata": {},
   "outputs": [
    {
     "data": {
      "text/plain": [
       "count      734.000000\n",
       "mean     12997.242507\n",
       "std       9506.293305\n",
       "min         87.000000\n",
       "25%       7777.750000\n",
       "50%      12173.000000\n",
       "75%      17417.750000\n",
       "max      61642.000000\n",
       "dtype: float64"
      ]
     },
     "execution_count": 3,
     "metadata": {},
     "output_type": "execute_result"
    }
   ],
   "source": [
    "lengths = pd.Series([len(each) for each in df_student.joined])\n",
    "df_student['lengths'] = lengths\n",
    "lengths.describe()"
   ]
  },
  {
   "cell_type": "markdown",
   "metadata": {},
   "source": [
    "Looks like we have some small essays"
   ]
  },
  {
   "cell_type": "code",
   "execution_count": 4,
   "metadata": {},
   "outputs": [
    {
     "data": {
      "image/png": "[encoded data removed]",
      "text/plain": [
       "<matplotlib.figure.Figure at 0x1cfc4aec748>"
      ]
     },
     "metadata": {},
     "output_type": "display_data"
    },
    {
     "data": {
      "image/png": "[encoded data removed]",
      "text/plain": [
       "<matplotlib.figure.Figure at 0x1cfc4c75588>"
      ]
     },
     "metadata": {},
     "output_type": "display_data"
    }
   ],
   "source": [
    "# I'm using a lot of bins because it is easier to see that there are a lot of very tiny essays\n",
    "plt.hist(df_student.lengths, bins=50)\n",
    "plt.title('Essay Length Frequency')\n",
    "plt.xlabel('Number of Characters')\n",
    "plt.ylabel('Frequency')\n",
    "plt.show()\n",
    "\n",
    "# Let's look a little closer at the left side\n",
    "plt.hist(sorted(lengths)[:200], bins=10)\n",
    "plt.title('Essay Length Frequency (Left Tail)')\n",
    "plt.xlabel('Number of Characters')\n",
    "plt.ylabel('Frequency')\n",
    "# plt.xlim([0, 1000])\n",
    "plt.show()"
   ]
  },
  {
   "cell_type": "markdown",
   "metadata": {},
   "source": [
    "Let's go ahead and throw those small essays out"
   ]
  },
  {
   "cell_type": "code",
   "execution_count": 5,
   "metadata": {},
   "outputs": [],
   "source": [
    "df_student = df_student[df_student['lengths'] > 1000]\n",
    "df_student.reset_index(drop=True, inplace=True)"
   ]
  },
  {
   "cell_type": "code",
   "execution_count": 6,
   "metadata": {},
   "outputs": [
    {
     "data": {
      "image/png": "[encoded data removed]",
      "text/plain": [
       "<matplotlib.figure.Figure at 0x1cfc4aec0b8>"
      ]
     },
     "metadata": {},
     "output_type": "display_data"
    }
   ],
   "source": [
    "# I'm using a lot of bins because it is easier to see that there are a lot of very tiny essays\n",
    "plt.hist(df_student.lengths, bins=50)\n",
    "plt.title('Essay Length Frequency')\n",
    "plt.xlabel('Number of Characters')\n",
    "plt.ylabel('Frequency')\n",
    "plt.show()"
   ]
  },
  {
   "cell_type": "code",
   "execution_count": 7,
   "metadata": {},
   "outputs": [
    {
     "data": {
      "text/plain": [
       "'\\n \\n \\n \\n \\n Total Word Count:  This report has been prepared for the Bunbury Regional Hospital’s quality and safety committee, following the death of Josephine Wilma Troy on 14 February 2006. Mrs. Troy was a 63 year old lady who had been diagnosed with leukemia in 2004 and was treated with chemotherapy initially. The diagnosis was later refined to prolymphocytic leukemia, a rare chronic leukemia, as Mrs. Troy’s leukemia persisted in her bone marrow after an initial course of chemotherapy. Disease together with chemotherapy compromised her blood production capacity. She had low white blood count, low platelet count and low hemoglobin and was susceptible to infection and febrile neutropenia. Mrs. Troy had been issued with febrile neutropenia card to warn health care workers regarding her susceptibility to febrile neutropenia. On 12/02/2006, Mrs. Troy had a temperature of 38°C and attended Bunbury Regional Hospital with her card. She was started on antibiotic and a full blood screen was ord'"
      ]
     },
     "execution_count": 7,
     "metadata": {},
     "output_type": "execute_result"
    }
   ],
   "source": [
    "df_student.joined[0][:1000]"
   ]
  },
  {
   "cell_type": "markdown",
   "metadata": {},
   "source": [
    "The paragraphs are already separated for us, there are always 5 newlines at the beginning (you'll have to take my word for it), and the last two paragraphs are always a couple random characters and a statement about exporting the document. This will be really easy to clean up."
   ]
  },
  {
   "cell_type": "code",
   "execution_count": 8,
   "metadata": {},
   "outputs": [
    {
     "data": {
      "text/html": [
       "<div>\n",
       "<style scoped>\n",
       "    .dataframe tbody tr th:only-of-type {\n",
       "        vertical-align: middle;\n",
       "    }\n",
       "\n",
       "    .dataframe tbody tr th {\n",
       "        vertical-align: top;\n",
       "    }\n",
       "\n",
       "    .dataframe thead th {\n",
       "        text-align: right;\n",
       "    }\n",
       "</style>\n",
       "<table border=\"1\" class=\"dataframe\">\n",
       "  <thead>\n",
       "    <tr style=\"text-align: right;\">\n",
       "      <th></th>\n",
       "      <th>subject</th>\n",
       "      <th>text</th>\n",
       "      <th>title</th>\n",
       "      <th>student</th>\n",
       "      <th>joined</th>\n",
       "      <th>lengths</th>\n",
       "    </tr>\n",
       "  </thead>\n",
       "  <tbody>\n",
       "    <tr>\n",
       "      <th>0</th>\n",
       "      <td>Nursing</td>\n",
       "      <td>[Total Word Count: , This report has been prep...</td>\n",
       "      <td>Inquiry into Patient Death</td>\n",
       "      <td>1</td>\n",
       "      <td>\\n \\n \\n \\n \\n Total Word Count:  This report ...</td>\n",
       "      <td>8974</td>\n",
       "    </tr>\n",
       "    <tr>\n",
       "      <th>1</th>\n",
       "      <td>Nursing</td>\n",
       "      <td>[Leadership has been described as \"a relationa...</td>\n",
       "      <td>Motivation Skills Development Plan for Nursing</td>\n",
       "      <td>1</td>\n",
       "      <td>\\n \\n \\n \\n \\n Leadership has been described a...</td>\n",
       "      <td>18285</td>\n",
       "    </tr>\n",
       "    <tr>\n",
       "      <th>2</th>\n",
       "      <td>Nursing</td>\n",
       "      <td>[Depression among pregnant adolescents as well...</td>\n",
       "      <td>Depression among Pregnant Adolescents: Literat...</td>\n",
       "      <td>1</td>\n",
       "      <td>\\n \\n \\n \\n \\n Depression among pregnant adole...</td>\n",
       "      <td>15238</td>\n",
       "    </tr>\n",
       "    <tr>\n",
       "      <th>3</th>\n",
       "      <td>Nursing</td>\n",
       "      <td>[Davidson, E., Daly, J., Brady, R. &amp; Higgins, ...</td>\n",
       "      <td>Family Support Programme for ICU Patient Relat...</td>\n",
       "      <td>1</td>\n",
       "      <td>\\n \\n \\n \\n \\n Davidson, E., Daly, J., Brady, ...</td>\n",
       "      <td>10071</td>\n",
       "    </tr>\n",
       "    <tr>\n",
       "      <th>4</th>\n",
       "      <td>Nursing</td>\n",
       "      <td>[Idiopathic pulmonary fibrosis (IPF) is a deva...</td>\n",
       "      <td>Idiopathic Pulmonary Fibrosis: An Overview</td>\n",
       "      <td>1</td>\n",
       "      <td>\\n \\n \\n \\n \\n Idiopathic pulmonary fibrosis (...</td>\n",
       "      <td>16981</td>\n",
       "    </tr>\n",
       "  </tbody>\n",
       "</table>\n",
       "</div>"
      ],
      "text/plain": [
       "    subject                                               text  \\\n",
       "0  Nursing   [Total Word Count: , This report has been prep...   \n",
       "1  Nursing   [Leadership has been described as \"a relationa...   \n",
       "2  Nursing   [Depression among pregnant adolescents as well...   \n",
       "3  Nursing   [Davidson, E., Daly, J., Brady, R. & Higgins, ...   \n",
       "4  Nursing   [Idiopathic pulmonary fibrosis (IPF) is a deva...   \n",
       "\n",
       "                                               title  student  \\\n",
       "0                         Inquiry into Patient Death        1   \n",
       "1     Motivation Skills Development Plan for Nursing        1   \n",
       "2  Depression among Pregnant Adolescents: Literat...        1   \n",
       "3  Family Support Programme for ICU Patient Relat...        1   \n",
       "4         Idiopathic Pulmonary Fibrosis: An Overview        1   \n",
       "\n",
       "                                              joined  lengths  \n",
       "0  \\n \\n \\n \\n \\n Total Word Count:  This report ...     8974  \n",
       "1  \\n \\n \\n \\n \\n Leadership has been described a...    18285  \n",
       "2  \\n \\n \\n \\n \\n Depression among pregnant adole...    15238  \n",
       "3  \\n \\n \\n \\n \\n Davidson, E., Daly, J., Brady, ...    10071  \n",
       "4  \\n \\n \\n \\n \\n Idiopathic pulmonary fibrosis (...    16981  "
      ]
     },
     "execution_count": 8,
     "metadata": {},
     "output_type": "execute_result"
    }
   ],
   "source": [
    "for i, text in enumerate(df_student.loc[:, 'text']):\n",
    "    df_student.at[i, 'text'] = text[5:-2]\n",
    "df_student.head()"
   ]
  },
  {
   "cell_type": "markdown",
   "metadata": {},
   "source": [
    "### Preprocessing the UK-Professional Essay Samples\n",
    "As mentioned before, there are only about 30 samples posted on their website in their three most popular categories. We will be dealing with an imbalanced dataset, but we can deal with that when it comes time to model. Let's clean up the data and get some algorithms running."
   ]
  },
  {
   "cell_type": "code",
   "execution_count": 9,
   "metadata": {},
   "outputs": [
    {
     "name": "stdout",
     "output_type": "stream",
     "text": [
      "(33, 4)\n"
     ]
    },
    {
     "data": {
      "text/html": [
       "<div>\n",
       "<style scoped>\n",
       "    .dataframe tbody tr th:only-of-type {\n",
       "        vertical-align: middle;\n",
       "    }\n",
       "\n",
       "    .dataframe tbody tr th {\n",
       "        vertical-align: top;\n",
       "    }\n",
       "\n",
       "    .dataframe thead th {\n",
       "        text-align: right;\n",
       "    }\n",
       "</style>\n",
       "<table border=\"1\" class=\"dataframe\">\n",
       "  <thead>\n",
       "    <tr style=\"text-align: right;\">\n",
       "      <th></th>\n",
       "      <th>subject</th>\n",
       "      <th>text</th>\n",
       "      <th>title</th>\n",
       "      <th>student</th>\n",
       "    </tr>\n",
       "  </thead>\n",
       "  <tbody>\n",
       "    <tr>\n",
       "      <th>0</th>\n",
       "      <td>nursing</td>\n",
       "      <td>[\\n, Discuss the impact of living with a long ...</td>\n",
       "      <td>Discuss the impact of living with a long term ...</td>\n",
       "      <td>0</td>\n",
       "    </tr>\n",
       "    <tr>\n",
       "      <th>1</th>\n",
       "      <td>nursing</td>\n",
       "      <td>[\\n, What is the Impact of Cutting down Nursin...</td>\n",
       "      <td>What is the Impact of Cutting down Nursing Stu...</td>\n",
       "      <td>0</td>\n",
       "    </tr>\n",
       "    <tr>\n",
       "      <th>2</th>\n",
       "      <td>nursing</td>\n",
       "      <td>[\\n, What is the Impact of Cutting down Nursin...</td>\n",
       "      <td>What is the Impact of Cutting down Nursing Stu...</td>\n",
       "      <td>0</td>\n",
       "    </tr>\n",
       "    <tr>\n",
       "      <th>3</th>\n",
       "      <td>nursing</td>\n",
       "      <td>[\\n, Discuss what effective leadership is and ...</td>\n",
       "      <td>Discuss what effective leadership is and argue...</td>\n",
       "      <td>0</td>\n",
       "    </tr>\n",
       "    <tr>\n",
       "      <th>4</th>\n",
       "      <td>law</td>\n",
       "      <td>[\\n, Case: Re: A (Children) (Conjoined Twins: ...</td>\n",
       "      <td>Case: Re: A (Children) (Conjoined Twins: Medic...</td>\n",
       "      <td>0</td>\n",
       "    </tr>\n",
       "  </tbody>\n",
       "</table>\n",
       "</div>"
      ],
      "text/plain": [
       "   subject                                               text  \\\n",
       "0  nursing  [\\n, Discuss the impact of living with a long ...   \n",
       "1  nursing  [\\n, What is the Impact of Cutting down Nursin...   \n",
       "2  nursing  [\\n, What is the Impact of Cutting down Nursin...   \n",
       "3  nursing  [\\n, Discuss what effective leadership is and ...   \n",
       "4      law  [\\n, Case: Re: A (Children) (Conjoined Twins: ...   \n",
       "\n",
       "                                               title  student  \n",
       "0  Discuss the impact of living with a long term ...        0  \n",
       "1  What is the Impact of Cutting down Nursing Stu...        0  \n",
       "2  What is the Impact of Cutting down Nursing Stu...        0  \n",
       "3  Discuss what effective leadership is and argue...        0  \n",
       "4  Case: Re: A (Children) (Conjoined Twins: Medic...        0  "
      ]
     },
     "execution_count": 9,
     "metadata": {},
     "output_type": "execute_result"
    }
   ],
   "source": [
    "# Pull in the dataframe produced by our UK_pro_scraper notebook\n",
    "df_pro = pickle.load(open('../uk_pro.pkl', 'rb'))\n",
    "print(df_pro.shape)\n",
    "df_pro.head()"
   ]
  },
  {
   "cell_type": "code",
   "execution_count": 10,
   "metadata": {},
   "outputs": [
    {
     "data": {
      "text/html": [
       "<div>\n",
       "<style scoped>\n",
       "    .dataframe tbody tr th:only-of-type {\n",
       "        vertical-align: middle;\n",
       "    }\n",
       "\n",
       "    .dataframe tbody tr th {\n",
       "        vertical-align: top;\n",
       "    }\n",
       "\n",
       "    .dataframe thead th {\n",
       "        text-align: right;\n",
       "    }\n",
       "</style>\n",
       "<table border=\"1\" class=\"dataframe\">\n",
       "  <thead>\n",
       "    <tr style=\"text-align: right;\">\n",
       "      <th></th>\n",
       "      <th>subject</th>\n",
       "      <th>text</th>\n",
       "      <th>title</th>\n",
       "      <th>student</th>\n",
       "      <th>joined</th>\n",
       "      <th>lengths</th>\n",
       "    </tr>\n",
       "  </thead>\n",
       "  <tbody>\n",
       "    <tr>\n",
       "      <th>0</th>\n",
       "      <td>nursing</td>\n",
       "      <td>[\\n, Discuss the impact of living with a long ...</td>\n",
       "      <td>Discuss the impact of living with a long term ...</td>\n",
       "      <td>0</td>\n",
       "      <td>\\n Discuss the impact of living with a long te...</td>\n",
       "      <td>17674</td>\n",
       "    </tr>\n",
       "    <tr>\n",
       "      <th>1</th>\n",
       "      <td>nursing</td>\n",
       "      <td>[\\n, What is the Impact of Cutting down Nursin...</td>\n",
       "      <td>What is the Impact of Cutting down Nursing Stu...</td>\n",
       "      <td>0</td>\n",
       "      <td>\\n What is the Impact of Cutting down Nursing ...</td>\n",
       "      <td>18948</td>\n",
       "    </tr>\n",
       "    <tr>\n",
       "      <th>2</th>\n",
       "      <td>nursing</td>\n",
       "      <td>[\\n, What is the Impact of Cutting down Nursin...</td>\n",
       "      <td>What is the Impact of Cutting down Nursing Stu...</td>\n",
       "      <td>0</td>\n",
       "      <td>\\n What is the Impact of Cutting down Nursing ...</td>\n",
       "      <td>15455</td>\n",
       "    </tr>\n",
       "    <tr>\n",
       "      <th>3</th>\n",
       "      <td>nursing</td>\n",
       "      <td>[\\n, Discuss what effective leadership is and ...</td>\n",
       "      <td>Discuss what effective leadership is and argue...</td>\n",
       "      <td>0</td>\n",
       "      <td>\\n Discuss what effective leadership is and ar...</td>\n",
       "      <td>16561</td>\n",
       "    </tr>\n",
       "    <tr>\n",
       "      <th>4</th>\n",
       "      <td>law</td>\n",
       "      <td>[\\n, Case: Re: A (Children) (Conjoined Twins: ...</td>\n",
       "      <td>Case: Re: A (Children) (Conjoined Twins: Medic...</td>\n",
       "      <td>0</td>\n",
       "      <td>\\n Case: Re: A (Children) (Conjoined Twins: Me...</td>\n",
       "      <td>11072</td>\n",
       "    </tr>\n",
       "  </tbody>\n",
       "</table>\n",
       "</div>"
      ],
      "text/plain": [
       "   subject                                               text  \\\n",
       "0  nursing  [\\n, Discuss the impact of living with a long ...   \n",
       "1  nursing  [\\n, What is the Impact of Cutting down Nursin...   \n",
       "2  nursing  [\\n, What is the Impact of Cutting down Nursin...   \n",
       "3  nursing  [\\n, Discuss what effective leadership is and ...   \n",
       "4      law  [\\n, Case: Re: A (Children) (Conjoined Twins: ...   \n",
       "\n",
       "                                               title  student  \\\n",
       "0  Discuss the impact of living with a long term ...        0   \n",
       "1  What is the Impact of Cutting down Nursing Stu...        0   \n",
       "2  What is the Impact of Cutting down Nursing Stu...        0   \n",
       "3  Discuss what effective leadership is and argue...        0   \n",
       "4  Case: Re: A (Children) (Conjoined Twins: Medic...        0   \n",
       "\n",
       "                                              joined  lengths  \n",
       "0  \\n Discuss the impact of living with a long te...    17674  \n",
       "1  \\n What is the Impact of Cutting down Nursing ...    18948  \n",
       "2  \\n What is the Impact of Cutting down Nursing ...    15455  \n",
       "3  \\n Discuss what effective leadership is and ar...    16561  \n",
       "4  \\n Case: Re: A (Children) (Conjoined Twins: Me...    11072  "
      ]
     },
     "execution_count": 10,
     "metadata": {},
     "output_type": "execute_result"
    }
   ],
   "source": [
    "# Like before, let's see if any of these are too small\n",
    "df_pro['joined'] = df_pro.text.map(' '.join) # I just (re)learned map. Map and I are going to be friends.\n",
    "df_pro['lengths'] = df_pro.joined.map(len)\n",
    "df_pro.head()"
   ]
  },
  {
   "cell_type": "code",
   "execution_count": 49,
   "metadata": {},
   "outputs": [
    {
     "data": {
      "image/png": "[encoded data removed]",
      "text/plain": [
       "<matplotlib.figure.Figure at 0x1cfd5da2b70>"
      ]
     },
     "metadata": {},
     "output_type": "display_data"
    }
   ],
   "source": [
    "plt.hist(df_pro.lengths, bins=50)\n",
    "plt.title('Essay Length Frequency')\n",
    "plt.xlabel('Number of Characters')\n",
    "plt.ylabel('Frequency')\n",
    "plt.show()"
   ]
  },
  {
   "cell_type": "markdown",
   "metadata": {},
   "source": [
    "I think that everything in this dataset is worth keeping, especially because it is so small."
   ]
  },
  {
   "cell_type": "code",
   "execution_count": 12,
   "metadata": {},
   "outputs": [
    {
     "data": {
      "text/plain": [
       "[['\\n', 'Discuss the impact of living with a long term condition', '\\n'],\n",
       " ['\\n',\n",
       "  'What is the Impact of Cutting down Nursing Student Bursary in the Future of Nursing Practice in the UK?',\n",
       "  '\\n'],\n",
       " ['\\n',\n",
       "  'What is the Impact of Cutting down Nursing Student Bursary in the Future of Nursing Practice in the UK?',\n",
       "  '\\n'],\n",
       " ['\\n',\n",
       "  'Discuss what effective leadership is and argue why it is deemed necessary in nursing practice',\n",
       "  '\\n'],\n",
       " ['\\n',\n",
       "  'Case: Re: A (Children) (Conjoined Twins: Medical Treatment) (No.1) [2000] 4 All ER 961.',\n",
       "  '\\n']]"
      ]
     },
     "execution_count": 12,
     "metadata": {},
     "output_type": "execute_result"
    }
   ],
   "source": [
    "# The beginning of each example has: newline, title, newline\n",
    "# We can get rid of this\n",
    "[each[:3] for each in df_pro.text[:]][:5]"
   ]
  },
  {
   "cell_type": "code",
   "execution_count": 13,
   "metadata": {},
   "outputs": [
    {
     "data": {
      "text/html": [
       "<div>\n",
       "<style scoped>\n",
       "    .dataframe tbody tr th:only-of-type {\n",
       "        vertical-align: middle;\n",
       "    }\n",
       "\n",
       "    .dataframe tbody tr th {\n",
       "        vertical-align: top;\n",
       "    }\n",
       "\n",
       "    .dataframe thead th {\n",
       "        text-align: right;\n",
       "    }\n",
       "</style>\n",
       "<table border=\"1\" class=\"dataframe\">\n",
       "  <thead>\n",
       "    <tr style=\"text-align: right;\">\n",
       "      <th></th>\n",
       "      <th>subject</th>\n",
       "      <th>text</th>\n",
       "      <th>title</th>\n",
       "      <th>student</th>\n",
       "      <th>joined</th>\n",
       "      <th>lengths</th>\n",
       "    </tr>\n",
       "  </thead>\n",
       "  <tbody>\n",
       "    <tr>\n",
       "      <th>0</th>\n",
       "      <td>nursing</td>\n",
       "      <td>[There is increasing prevalence of people with...</td>\n",
       "      <td>Discuss the impact of living with a long term ...</td>\n",
       "      <td>0</td>\n",
       "      <td>There is increasing prevalence of people with ...</td>\n",
       "      <td>17674</td>\n",
       "    </tr>\n",
       "    <tr>\n",
       "      <th>1</th>\n",
       "      <td>nursing</td>\n",
       "      <td>[In 2017, the government will end NHS bursarie...</td>\n",
       "      <td>What is the Impact of Cutting down Nursing Stu...</td>\n",
       "      <td>0</td>\n",
       "      <td>In 2017, the government will end NHS bursaries...</td>\n",
       "      <td>18948</td>\n",
       "    </tr>\n",
       "    <tr>\n",
       "      <th>2</th>\n",
       "      <td>nursing</td>\n",
       "      <td>[This essay will critically explore the impact...</td>\n",
       "      <td>What is the Impact of Cutting down Nursing Stu...</td>\n",
       "      <td>0</td>\n",
       "      <td>This essay will critically explore the impact ...</td>\n",
       "      <td>15455</td>\n",
       "    </tr>\n",
       "    <tr>\n",
       "      <th>3</th>\n",
       "      <td>nursing</td>\n",
       "      <td>[Introduction, \\n, Leadership consists of vari...</td>\n",
       "      <td>Discuss what effective leadership is and argue...</td>\n",
       "      <td>0</td>\n",
       "      <td>Introduction \\n Leadership consists of various...</td>\n",
       "      <td>16561</td>\n",
       "    </tr>\n",
       "    <tr>\n",
       "      <th>4</th>\n",
       "      <td>law</td>\n",
       "      <td>[Notable Prior Precedents: , \\n, Generally, un...</td>\n",
       "      <td>Case: Re: A (Children) (Conjoined Twins: Medic...</td>\n",
       "      <td>0</td>\n",
       "      <td>Notable Prior Precedents:  \\n Generally, under...</td>\n",
       "      <td>11072</td>\n",
       "    </tr>\n",
       "  </tbody>\n",
       "</table>\n",
       "</div>"
      ],
      "text/plain": [
       "   subject                                               text  \\\n",
       "0  nursing  [There is increasing prevalence of people with...   \n",
       "1  nursing  [In 2017, the government will end NHS bursarie...   \n",
       "2  nursing  [This essay will critically explore the impact...   \n",
       "3  nursing  [Introduction, \\n, Leadership consists of vari...   \n",
       "4      law  [Notable Prior Precedents: , \\n, Generally, un...   \n",
       "\n",
       "                                               title  student  \\\n",
       "0  Discuss the impact of living with a long term ...        0   \n",
       "1  What is the Impact of Cutting down Nursing Stu...        0   \n",
       "2  What is the Impact of Cutting down Nursing Stu...        0   \n",
       "3  Discuss what effective leadership is and argue...        0   \n",
       "4  Case: Re: A (Children) (Conjoined Twins: Medic...        0   \n",
       "\n",
       "                                              joined  lengths  \n",
       "0  There is increasing prevalence of people with ...    17674  \n",
       "1  In 2017, the government will end NHS bursaries...    18948  \n",
       "2  This essay will critically explore the impact ...    15455  \n",
       "3  Introduction \\n Leadership consists of various...    16561  \n",
       "4  Notable Prior Precedents:  \\n Generally, under...    11072  "
      ]
     },
     "execution_count": 13,
     "metadata": {},
     "output_type": "execute_result"
    }
   ],
   "source": [
    "# Each essay also cites sources at the end. We can get rid of those.\n",
    "def find_ref_position(text):\n",
    "    for i, piece in enumerate(text):\n",
    "        if (piece.lower() == 'references') or (piece.lower() == 'reference'):\n",
    "            return i\n",
    "\n",
    "# Use my new friend 'map' to index where the references start\n",
    "df_pro['ref_idx'] = df_pro.text.map(find_ref_position)\n",
    "\n",
    "# Map might be good for this loop too. Looks prety skinny.\n",
    "for i, text in enumerate(df_pro.text):\n",
    "    try:\n",
    "        # Delete everything after ref_idx\n",
    "        df_pro.at[i, 'text'] = text[:int(df_pro.loc[i, 'ref_idx'])]\n",
    "    except:\n",
    "        pass\n",
    "\n",
    "# Drop ref_idx. We don't need it anymore.\n",
    "df_pro.drop(labels='ref_idx', axis=1, inplace=True)\n",
    "\n",
    "# Get rid of titles, as noted before\n",
    "df_pro['text'] = df_pro.text.map(lambda x: x[3:])\n",
    "df_pro['joined'] = df_pro.text.map(' '.join)\n",
    "df_pro.head()"
   ]
  },
  {
   "cell_type": "markdown",
   "metadata": {},
   "source": [
    "### Pulling Additional Pro Data\n",
    "I tried to make the very small professional sample size work but unfortunately, it just wasn't cutting it. So, I got more data and I'm going to try and make it work this way."
   ]
  },
  {
   "cell_type": "code",
   "execution_count": 14,
   "metadata": {},
   "outputs": [
    {
     "name": "stdout",
     "output_type": "stream",
     "text": [
      "(59, 4)\n"
     ]
    },
    {
     "data": {
      "text/html": [
       "<div>\n",
       "<style scoped>\n",
       "    .dataframe tbody tr th:only-of-type {\n",
       "        vertical-align: middle;\n",
       "    }\n",
       "\n",
       "    .dataframe tbody tr th {\n",
       "        vertical-align: top;\n",
       "    }\n",
       "\n",
       "    .dataframe thead th {\n",
       "        text-align: right;\n",
       "    }\n",
       "</style>\n",
       "<table border=\"1\" class=\"dataframe\">\n",
       "  <thead>\n",
       "    <tr style=\"text-align: right;\">\n",
       "      <th></th>\n",
       "      <th>subject</th>\n",
       "      <th>text</th>\n",
       "      <th>title</th>\n",
       "      <th>student</th>\n",
       "    </tr>\n",
       "  </thead>\n",
       "  <tbody>\n",
       "    <tr>\n",
       "      <th>0</th>\n",
       "      <td>Nursing</td>\n",
       "      <td>[\\n                        , Introduction, \\r\\...</td>\n",
       "      <td>Patient safety in the operating room</td>\n",
       "      <td>0</td>\n",
       "    </tr>\n",
       "    <tr>\n",
       "      <th>1</th>\n",
       "      <td>Nursing</td>\n",
       "      <td>[\\n                        , Statement of the ...</td>\n",
       "      <td>Pain Management and Alternative Therapies</td>\n",
       "      <td>0</td>\n",
       "    </tr>\n",
       "    <tr>\n",
       "      <th>2</th>\n",
       "      <td>Nursing</td>\n",
       "      <td>[\\n                        The purpose of vent...</td>\n",
       "      <td>The purpose of ventilatory management</td>\n",
       "      <td>0</td>\n",
       "    </tr>\n",
       "    <tr>\n",
       "      <th>3</th>\n",
       "      <td>Business</td>\n",
       "      <td>[\\n                        Family owned busine...</td>\n",
       "      <td>Family Business Succession</td>\n",
       "      <td>0</td>\n",
       "    </tr>\n",
       "    <tr>\n",
       "      <th>4</th>\n",
       "      <td>Business</td>\n",
       "      <td>[\\n                        , Business Case Ana...</td>\n",
       "      <td>Business case report essay</td>\n",
       "      <td>0</td>\n",
       "    </tr>\n",
       "  </tbody>\n",
       "</table>\n",
       "</div>"
      ],
      "text/plain": [
       "    subject                                               text  \\\n",
       "0   Nursing  [\\n                        , Introduction, \\r\\...   \n",
       "1   Nursing  [\\n                        , Statement of the ...   \n",
       "2   Nursing  [\\n                        The purpose of vent...   \n",
       "3  Business  [\\n                        Family owned busine...   \n",
       "4  Business  [\\n                        , Business Case Ana...   \n",
       "\n",
       "                                       title  student  \n",
       "0       Patient safety in the operating room        0  \n",
       "1  Pain Management and Alternative Therapies        0  \n",
       "2      The purpose of ventilatory management        0  \n",
       "3                 Family Business Succession        0  \n",
       "4                 Business case report essay        0  "
      ]
     },
     "execution_count": 14,
     "metadata": {},
     "output_type": "execute_result"
    }
   ],
   "source": [
    "# I ended up using an additional site for more professional samples\n",
    "df_more_pro = pickle.load(open('../grademiner_pro.pkl', 'rb'))\n",
    "print(df_more_pro.shape)\n",
    "df_more_pro.head()"
   ]
  },
  {
   "cell_type": "code",
   "execution_count": 15,
   "metadata": {},
   "outputs": [
    {
     "data": {
      "text/html": [
       "<div>\n",
       "<style scoped>\n",
       "    .dataframe tbody tr th:only-of-type {\n",
       "        vertical-align: middle;\n",
       "    }\n",
       "\n",
       "    .dataframe tbody tr th {\n",
       "        vertical-align: top;\n",
       "    }\n",
       "\n",
       "    .dataframe thead th {\n",
       "        text-align: right;\n",
       "    }\n",
       "</style>\n",
       "<table border=\"1\" class=\"dataframe\">\n",
       "  <thead>\n",
       "    <tr style=\"text-align: right;\">\n",
       "      <th></th>\n",
       "      <th>subject</th>\n",
       "      <th>text</th>\n",
       "      <th>title</th>\n",
       "      <th>student</th>\n",
       "      <th>joined</th>\n",
       "      <th>lengths</th>\n",
       "    </tr>\n",
       "  </thead>\n",
       "  <tbody>\n",
       "    <tr>\n",
       "      <th>0</th>\n",
       "      <td>Nursing</td>\n",
       "      <td>[\\n                        , Introduction, \\r\\...</td>\n",
       "      <td>Patient safety in the operating room</td>\n",
       "      <td>0</td>\n",
       "      <td>\\n                         Introduction \\r\\nPa...</td>\n",
       "      <td>15255</td>\n",
       "    </tr>\n",
       "    <tr>\n",
       "      <th>1</th>\n",
       "      <td>Nursing</td>\n",
       "      <td>[\\n                        , Statement of the ...</td>\n",
       "      <td>Pain Management and Alternative Therapies</td>\n",
       "      <td>0</td>\n",
       "      <td>\\n                         Statement of the Pr...</td>\n",
       "      <td>2233</td>\n",
       "    </tr>\n",
       "    <tr>\n",
       "      <th>2</th>\n",
       "      <td>Nursing</td>\n",
       "      <td>[\\n                        The purpose of vent...</td>\n",
       "      <td>The purpose of ventilatory management</td>\n",
       "      <td>0</td>\n",
       "      <td>\\n                        The purpose of venti...</td>\n",
       "      <td>6402</td>\n",
       "    </tr>\n",
       "    <tr>\n",
       "      <th>3</th>\n",
       "      <td>Business</td>\n",
       "      <td>[\\n                        Family owned busine...</td>\n",
       "      <td>Family Business Succession</td>\n",
       "      <td>0</td>\n",
       "      <td>\\n                        Family owned busines...</td>\n",
       "      <td>13416</td>\n",
       "    </tr>\n",
       "    <tr>\n",
       "      <th>4</th>\n",
       "      <td>Business</td>\n",
       "      <td>[\\n                        , Business Case Ana...</td>\n",
       "      <td>Business case report essay</td>\n",
       "      <td>0</td>\n",
       "      <td>\\n                         Business Case Analy...</td>\n",
       "      <td>9714</td>\n",
       "    </tr>\n",
       "  </tbody>\n",
       "</table>\n",
       "</div>"
      ],
      "text/plain": [
       "    subject                                               text  \\\n",
       "0   Nursing  [\\n                        , Introduction, \\r\\...   \n",
       "1   Nursing  [\\n                        , Statement of the ...   \n",
       "2   Nursing  [\\n                        The purpose of vent...   \n",
       "3  Business  [\\n                        Family owned busine...   \n",
       "4  Business  [\\n                        , Business Case Ana...   \n",
       "\n",
       "                                       title  student  \\\n",
       "0       Patient safety in the operating room        0   \n",
       "1  Pain Management and Alternative Therapies        0   \n",
       "2      The purpose of ventilatory management        0   \n",
       "3                 Family Business Succession        0   \n",
       "4                 Business case report essay        0   \n",
       "\n",
       "                                              joined  lengths  \n",
       "0  \\n                         Introduction \\r\\nPa...    15255  \n",
       "1  \\n                         Statement of the Pr...     2233  \n",
       "2  \\n                        The purpose of venti...     6402  \n",
       "3  \\n                        Family owned busines...    13416  \n",
       "4  \\n                         Business Case Analy...     9714  "
      ]
     },
     "execution_count": 15,
     "metadata": {},
     "output_type": "execute_result"
    }
   ],
   "source": [
    "# Like before, let's see if any of these are too small\n",
    "df_more_pro['joined'] = df_more_pro.text.map(' '.join) # I just (re)learned map. Map and I are going to be friends.\n",
    "df_more_pro['lengths'] = df_more_pro.joined.map(len)\n",
    "df_more_pro.head()"
   ]
  },
  {
   "cell_type": "code",
   "execution_count": 48,
   "metadata": {},
   "outputs": [
    {
     "data": {
      "image/png": "[encoded data removed]",
      "text/plain": [
       "<matplotlib.figure.Figure at 0x1cfd5d15f98>"
      ]
     },
     "metadata": {},
     "output_type": "display_data"
    }
   ],
   "source": [
    "plt.hist(df_more_pro.lengths, bins=15)\n",
    "plt.title('Essay Length Frequency')\n",
    "plt.xlabel('Number of Characters')\n",
    "plt.ylabel('Frequency')\n",
    "plt.show()"
   ]
  },
  {
   "cell_type": "code",
   "execution_count": 17,
   "metadata": {},
   "outputs": [],
   "source": [
    "'''\n",
    "The beginning of each example has different things to start. Sometimes it's\n",
    "a title, sometimes it's just a newline. Let's cutoff every string that is\n",
    "shorter than ... 80 characters? I got that number through trial and error\n",
    "plus visual inspection.\n",
    "'''\n",
    "\n",
    "def cutoff_first_lines(text):\n",
    "    cutoff_value = 80\n",
    "    for i, string in enumerate(text):\n",
    "        if len(string) > cutoff_value:\n",
    "            return text[i:]\n",
    "\n",
    "df_more_pro.text = df_more_pro.text.map(cutoff_first_lines)"
   ]
  },
  {
   "cell_type": "code",
   "execution_count": 18,
   "metadata": {},
   "outputs": [
    {
     "data": {
      "text/html": [
       "<div>\n",
       "<style scoped>\n",
       "    .dataframe tbody tr th:only-of-type {\n",
       "        vertical-align: middle;\n",
       "    }\n",
       "\n",
       "    .dataframe tbody tr th {\n",
       "        vertical-align: top;\n",
       "    }\n",
       "\n",
       "    .dataframe thead th {\n",
       "        text-align: right;\n",
       "    }\n",
       "</style>\n",
       "<table border=\"1\" class=\"dataframe\">\n",
       "  <thead>\n",
       "    <tr style=\"text-align: right;\">\n",
       "      <th></th>\n",
       "      <th>subject</th>\n",
       "      <th>text</th>\n",
       "      <th>title</th>\n",
       "      <th>student</th>\n",
       "      <th>joined</th>\n",
       "      <th>lengths</th>\n",
       "    </tr>\n",
       "  </thead>\n",
       "  <tbody>\n",
       "    <tr>\n",
       "      <th>0</th>\n",
       "      <td>Nursing</td>\n",
       "      <td>[\\r\\nPatient safety in the operating room is o...</td>\n",
       "      <td>Patient safety in the operating room</td>\n",
       "      <td>0</td>\n",
       "      <td>\\r\\nPatient safety in the operating room is on...</td>\n",
       "      <td>15255</td>\n",
       "    </tr>\n",
       "    <tr>\n",
       "      <th>1</th>\n",
       "      <td>Nursing</td>\n",
       "      <td>[\\r\\nPain management is a long-standing issue ...</td>\n",
       "      <td>Pain Management and Alternative Therapies</td>\n",
       "      <td>0</td>\n",
       "      <td>\\r\\nPain management is a long-standing issue i...</td>\n",
       "      <td>2233</td>\n",
       "    </tr>\n",
       "    <tr>\n",
       "      <th>2</th>\n",
       "      <td>Nursing</td>\n",
       "      <td>[\\n                        The purpose of vent...</td>\n",
       "      <td>The purpose of ventilatory management</td>\n",
       "      <td>0</td>\n",
       "      <td>\\n                        The purpose of venti...</td>\n",
       "      <td>6402</td>\n",
       "    </tr>\n",
       "    <tr>\n",
       "      <th>3</th>\n",
       "      <td>Business</td>\n",
       "      <td>[\\n                        Family owned busine...</td>\n",
       "      <td>Family Business Succession</td>\n",
       "      <td>0</td>\n",
       "      <td>\\n                        Family owned busines...</td>\n",
       "      <td>13416</td>\n",
       "    </tr>\n",
       "    <tr>\n",
       "      <th>4</th>\n",
       "      <td>Business</td>\n",
       "      <td>[Siam Canadian Co., Ltd. was founded in 1987 b...</td>\n",
       "      <td>Business case report essay</td>\n",
       "      <td>0</td>\n",
       "      <td>Siam Canadian Co., Ltd. was founded in 1987 by...</td>\n",
       "      <td>9714</td>\n",
       "    </tr>\n",
       "  </tbody>\n",
       "</table>\n",
       "</div>"
      ],
      "text/plain": [
       "    subject                                               text  \\\n",
       "0   Nursing  [\\r\\nPatient safety in the operating room is o...   \n",
       "1   Nursing  [\\r\\nPain management is a long-standing issue ...   \n",
       "2   Nursing  [\\n                        The purpose of vent...   \n",
       "3  Business  [\\n                        Family owned busine...   \n",
       "4  Business  [Siam Canadian Co., Ltd. was founded in 1987 b...   \n",
       "\n",
       "                                       title  student  \\\n",
       "0       Patient safety in the operating room        0   \n",
       "1  Pain Management and Alternative Therapies        0   \n",
       "2      The purpose of ventilatory management        0   \n",
       "3                 Family Business Succession        0   \n",
       "4                 Business case report essay        0   \n",
       "\n",
       "                                              joined  lengths  \n",
       "0  \\r\\nPatient safety in the operating room is on...    15255  \n",
       "1  \\r\\nPain management is a long-standing issue i...     2233  \n",
       "2  \\n                        The purpose of venti...     6402  \n",
       "3  \\n                        Family owned busines...    13416  \n",
       "4  Siam Canadian Co., Ltd. was founded in 1987 by...     9714  "
      ]
     },
     "execution_count": 18,
     "metadata": {},
     "output_type": "execute_result"
    }
   ],
   "source": [
    "# Each essay also cites sources at the end. We can get rid of those.\n",
    "def find_ref_position(text):\n",
    "    for i, piece in enumerate(text):\n",
    "        if (piece.lower() == 'references') or (piece.lower() == 'reference') or (piece.lower() == 'references:'):\n",
    "            return i\n",
    "\n",
    "# Use my new friend 'map' to index where the references start\n",
    "df_more_pro['ref_idx'] = df_more_pro.text.map(find_ref_position)\n",
    "\n",
    "# Map might be good for this loop too. Looks prety skinny.\n",
    "for i, text in enumerate(df_more_pro.text):\n",
    "    try:\n",
    "        # Delete everything after ref_idx\n",
    "        df_more_pro.at[i, 'text'] = text[:int(df_more_pro.loc[i, 'ref_idx'])]\n",
    "    except:\n",
    "        pass\n",
    "    \n",
    "# Drop ref_idx. We don't need it anymore.\n",
    "df_more_pro.drop(labels='ref_idx', axis=1, inplace=True)\n",
    "\n",
    "# Get rid of titles, as noted before\n",
    "df_more_pro['joined'] = df_more_pro.text.map(' '.join)\n",
    "df_more_pro.head()"
   ]
  },
  {
   "cell_type": "code",
   "execution_count": 19,
   "metadata": {},
   "outputs": [
    {
     "name": "stdout",
     "output_type": "stream",
     "text": [
      "(92, 6)\n"
     ]
    },
    {
     "data": {
      "text/html": [
       "<div>\n",
       "<style scoped>\n",
       "    .dataframe tbody tr th:only-of-type {\n",
       "        vertical-align: middle;\n",
       "    }\n",
       "\n",
       "    .dataframe tbody tr th {\n",
       "        vertical-align: top;\n",
       "    }\n",
       "\n",
       "    .dataframe thead th {\n",
       "        text-align: right;\n",
       "    }\n",
       "</style>\n",
       "<table border=\"1\" class=\"dataframe\">\n",
       "  <thead>\n",
       "    <tr style=\"text-align: right;\">\n",
       "      <th></th>\n",
       "      <th>subject</th>\n",
       "      <th>text</th>\n",
       "      <th>title</th>\n",
       "      <th>student</th>\n",
       "      <th>joined</th>\n",
       "      <th>lengths</th>\n",
       "    </tr>\n",
       "  </thead>\n",
       "  <tbody>\n",
       "    <tr>\n",
       "      <th>0</th>\n",
       "      <td>nursing</td>\n",
       "      <td>[There is increasing prevalence of people with...</td>\n",
       "      <td>Discuss the impact of living with a long term ...</td>\n",
       "      <td>0</td>\n",
       "      <td>There is increasing prevalence of people with ...</td>\n",
       "      <td>17674</td>\n",
       "    </tr>\n",
       "    <tr>\n",
       "      <th>1</th>\n",
       "      <td>nursing</td>\n",
       "      <td>[In 2017, the government will end NHS bursarie...</td>\n",
       "      <td>What is the Impact of Cutting down Nursing Stu...</td>\n",
       "      <td>0</td>\n",
       "      <td>In 2017, the government will end NHS bursaries...</td>\n",
       "      <td>18948</td>\n",
       "    </tr>\n",
       "    <tr>\n",
       "      <th>2</th>\n",
       "      <td>nursing</td>\n",
       "      <td>[This essay will critically explore the impact...</td>\n",
       "      <td>What is the Impact of Cutting down Nursing Stu...</td>\n",
       "      <td>0</td>\n",
       "      <td>This essay will critically explore the impact ...</td>\n",
       "      <td>15455</td>\n",
       "    </tr>\n",
       "    <tr>\n",
       "      <th>3</th>\n",
       "      <td>nursing</td>\n",
       "      <td>[Introduction, \\n, Leadership consists of vari...</td>\n",
       "      <td>Discuss what effective leadership is and argue...</td>\n",
       "      <td>0</td>\n",
       "      <td>Introduction \\n Leadership consists of various...</td>\n",
       "      <td>16561</td>\n",
       "    </tr>\n",
       "    <tr>\n",
       "      <th>4</th>\n",
       "      <td>law</td>\n",
       "      <td>[Notable Prior Precedents: , \\n, Generally, un...</td>\n",
       "      <td>Case: Re: A (Children) (Conjoined Twins: Medic...</td>\n",
       "      <td>0</td>\n",
       "      <td>Notable Prior Precedents:  \\n Generally, under...</td>\n",
       "      <td>11072</td>\n",
       "    </tr>\n",
       "  </tbody>\n",
       "</table>\n",
       "</div>"
      ],
      "text/plain": [
       "   subject                                               text  \\\n",
       "0  nursing  [There is increasing prevalence of people with...   \n",
       "1  nursing  [In 2017, the government will end NHS bursarie...   \n",
       "2  nursing  [This essay will critically explore the impact...   \n",
       "3  nursing  [Introduction, \\n, Leadership consists of vari...   \n",
       "4      law  [Notable Prior Precedents: , \\n, Generally, un...   \n",
       "\n",
       "                                               title  student  \\\n",
       "0  Discuss the impact of living with a long term ...        0   \n",
       "1  What is the Impact of Cutting down Nursing Stu...        0   \n",
       "2  What is the Impact of Cutting down Nursing Stu...        0   \n",
       "3  Discuss what effective leadership is and argue...        0   \n",
       "4  Case: Re: A (Children) (Conjoined Twins: Medic...        0   \n",
       "\n",
       "                                              joined  lengths  \n",
       "0  There is increasing prevalence of people with ...    17674  \n",
       "1  In 2017, the government will end NHS bursaries...    18948  \n",
       "2  This essay will critically explore the impact ...    15455  \n",
       "3  Introduction \\n Leadership consists of various...    16561  \n",
       "4  Notable Prior Precedents:  \\n Generally, under...    11072  "
      ]
     },
     "execution_count": 19,
     "metadata": {},
     "output_type": "execute_result"
    }
   ],
   "source": [
    "# Now we will combine the old with the new using the .append() method\n",
    "df_pro = df_pro.append(df_more_pro, ignore_index=True)\n",
    "print(df_pro.shape)\n",
    "df_pro.head()"
   ]
  },
  {
   "cell_type": "markdown",
   "metadata": {},
   "source": [
    "### Combining the datasets"
   ]
  },
  {
   "cell_type": "code",
   "execution_count": 20,
   "metadata": {},
   "outputs": [
    {
     "name": "stdout",
     "output_type": "stream",
     "text": [
      "(710, 5)\n"
     ]
    },
    {
     "data": {
      "text/html": [
       "<div>\n",
       "<style scoped>\n",
       "    .dataframe tbody tr th:only-of-type {\n",
       "        vertical-align: middle;\n",
       "    }\n",
       "\n",
       "    .dataframe tbody tr th {\n",
       "        vertical-align: top;\n",
       "    }\n",
       "\n",
       "    .dataframe thead th {\n",
       "        text-align: right;\n",
       "    }\n",
       "</style>\n",
       "<table border=\"1\" class=\"dataframe\">\n",
       "  <thead>\n",
       "    <tr style=\"text-align: right;\">\n",
       "      <th></th>\n",
       "      <th>subject</th>\n",
       "      <th>joined</th>\n",
       "      <th>student</th>\n",
       "      <th>tokens</th>\n",
       "      <th>lemmas</th>\n",
       "    </tr>\n",
       "  </thead>\n",
       "  <tbody>\n",
       "    <tr>\n",
       "      <th>0</th>\n",
       "      <td>Nursing</td>\n",
       "      <td>\\n \\n \\n \\n \\n Total Word Count:  This report ...</td>\n",
       "      <td>student</td>\n",
       "      <td>None</td>\n",
       "      <td>None</td>\n",
       "    </tr>\n",
       "    <tr>\n",
       "      <th>1</th>\n",
       "      <td>Nursing</td>\n",
       "      <td>\\n \\n \\n \\n \\n Leadership has been described a...</td>\n",
       "      <td>student</td>\n",
       "      <td>None</td>\n",
       "      <td>None</td>\n",
       "    </tr>\n",
       "    <tr>\n",
       "      <th>2</th>\n",
       "      <td>Nursing</td>\n",
       "      <td>\\n \\n \\n \\n \\n Depression among pregnant adole...</td>\n",
       "      <td>student</td>\n",
       "      <td>None</td>\n",
       "      <td>None</td>\n",
       "    </tr>\n",
       "    <tr>\n",
       "      <th>3</th>\n",
       "      <td>Nursing</td>\n",
       "      <td>\\n \\n \\n \\n \\n Davidson, E., Daly, J., Brady, ...</td>\n",
       "      <td>student</td>\n",
       "      <td>None</td>\n",
       "      <td>None</td>\n",
       "    </tr>\n",
       "    <tr>\n",
       "      <th>4</th>\n",
       "      <td>Nursing</td>\n",
       "      <td>\\n \\n \\n \\n \\n Idiopathic pulmonary fibrosis (...</td>\n",
       "      <td>student</td>\n",
       "      <td>None</td>\n",
       "      <td>None</td>\n",
       "    </tr>\n",
       "  </tbody>\n",
       "</table>\n",
       "</div>"
      ],
      "text/plain": [
       "    subject                                             joined  student  \\\n",
       "0  Nursing   \\n \\n \\n \\n \\n Total Word Count:  This report ...  student   \n",
       "1  Nursing   \\n \\n \\n \\n \\n Leadership has been described a...  student   \n",
       "2  Nursing   \\n \\n \\n \\n \\n Depression among pregnant adole...  student   \n",
       "3  Nursing   \\n \\n \\n \\n \\n Davidson, E., Daly, J., Brady, ...  student   \n",
       "4  Nursing   \\n \\n \\n \\n \\n Idiopathic pulmonary fibrosis (...  student   \n",
       "\n",
       "  tokens lemmas  \n",
       "0   None   None  \n",
       "1   None   None  \n",
       "2   None   None  \n",
       "3   None   None  \n",
       "4   None   None  "
      ]
     },
     "execution_count": 20,
     "metadata": {},
     "output_type": "execute_result"
    }
   ],
   "source": [
    "df_features = df_student.loc[:, ['subject', 'joined', 'student']]\n",
    "df_features = df_features.append(df_pro.loc[:, ['subject', 'joined', 'student']])\n",
    "\n",
    "# Empty columns for processed text\n",
    "df_features['tokens'] = None\n",
    "df_features['lemmas'] = None\n",
    "df_features.student = df_features.student.map(lambda x: 'student' if x == 1 else 'pro')\n",
    "print(df_features.shape)\n",
    "df_features.head()"
   ]
  },
  {
   "cell_type": "markdown",
   "metadata": {},
   "source": [
    "# Text Cleaning and Tokenization\n",
    "We've done it before but it is always necessary. We will be using the nlp text cleaner from nltk in order to utilize their lemmatizers. Also, feature engineering."
   ]
  },
  {
   "cell_type": "code",
   "execution_count": 21,
   "metadata": {},
   "outputs": [
    {
     "data": {
      "text/html": [
       "<div>\n",
       "<style scoped>\n",
       "    .dataframe tbody tr th:only-of-type {\n",
       "        vertical-align: middle;\n",
       "    }\n",
       "\n",
       "    .dataframe tbody tr th {\n",
       "        vertical-align: top;\n",
       "    }\n",
       "\n",
       "    .dataframe thead th {\n",
       "        text-align: right;\n",
       "    }\n",
       "</style>\n",
       "<table border=\"1\" class=\"dataframe\">\n",
       "  <thead>\n",
       "    <tr style=\"text-align: right;\">\n",
       "      <th></th>\n",
       "      <th>subject</th>\n",
       "      <th>joined</th>\n",
       "      <th>student</th>\n",
       "      <th>tokens</th>\n",
       "      <th>lemmas</th>\n",
       "    </tr>\n",
       "  </thead>\n",
       "  <tbody>\n",
       "    <tr>\n",
       "      <th>0</th>\n",
       "      <td>Nursing</td>\n",
       "      <td>Total Word Count: This report has been prepare...</td>\n",
       "      <td>student</td>\n",
       "      <td>(Total, Word, Count, :, This, report, has, bee...</td>\n",
       "      <td>total word count : this report have be prepare...</td>\n",
       "    </tr>\n",
       "    <tr>\n",
       "      <th>1</th>\n",
       "      <td>Nursing</td>\n",
       "      <td>Leadership has been described as \"a relational...</td>\n",
       "      <td>student</td>\n",
       "      <td>(Leadership, has, been, described, as, \", a, r...</td>\n",
       "      <td>leadership have be describe as \" a relational ...</td>\n",
       "    </tr>\n",
       "    <tr>\n",
       "      <th>2</th>\n",
       "      <td>Nursing</td>\n",
       "      <td>Depression among pregnant adolescents as well ...</td>\n",
       "      <td>student</td>\n",
       "      <td>(Depression, among, pregnant, adolescents, as,...</td>\n",
       "      <td>depression among pregnant adolescent as well a...</td>\n",
       "    </tr>\n",
       "    <tr>\n",
       "      <th>3</th>\n",
       "      <td>Nursing</td>\n",
       "      <td>Davidson, E., Daly, J., Brady, R. &amp; Higgins, P...</td>\n",
       "      <td>student</td>\n",
       "      <td>(Davidson, ,, E., ,, Daly, ,, J., ,, Brady, ,,...</td>\n",
       "      <td>davidson , e. , daly , j. , brady , r. &amp; higgi...</td>\n",
       "    </tr>\n",
       "    <tr>\n",
       "      <th>4</th>\n",
       "      <td>Nursing</td>\n",
       "      <td>Idiopathic pulmonary fibrosis (IPF) is a devas...</td>\n",
       "      <td>student</td>\n",
       "      <td>(Idiopathic, pulmonary, fibrosis, (, IPF, ), i...</td>\n",
       "      <td>idiopathic pulmonary fibrosis ( ipf ) be a dev...</td>\n",
       "    </tr>\n",
       "  </tbody>\n",
       "</table>\n",
       "</div>"
      ],
      "text/plain": [
       "    subject                                             joined  student  \\\n",
       "0  Nursing   Total Word Count: This report has been prepare...  student   \n",
       "1  Nursing   Leadership has been described as \"a relational...  student   \n",
       "2  Nursing   Depression among pregnant adolescents as well ...  student   \n",
       "3  Nursing   Davidson, E., Daly, J., Brady, R. & Higgins, P...  student   \n",
       "4  Nursing   Idiopathic pulmonary fibrosis (IPF) is a devas...  student   \n",
       "\n",
       "                                              tokens  \\\n",
       "0  (Total, Word, Count, :, This, report, has, bee...   \n",
       "1  (Leadership, has, been, described, as, \", a, r...   \n",
       "2  (Depression, among, pregnant, adolescents, as,...   \n",
       "3  (Davidson, ,, E., ,, Daly, ,, J., ,, Brady, ,,...   \n",
       "4  (Idiopathic, pulmonary, fibrosis, (, IPF, ), i...   \n",
       "\n",
       "                                              lemmas  \n",
       "0  total word count : this report have be prepare...  \n",
       "1  leadership have be describe as \" a relational ...  \n",
       "2  depression among pregnant adolescent as well a...  \n",
       "3  davidson , e. , daly , j. , brady , r. & higgi...  \n",
       "4  idiopathic pulmonary fibrosis ( ipf ) be a dev...  "
      ]
     },
     "execution_count": 21,
     "metadata": {},
     "output_type": "execute_result"
    }
   ],
   "source": [
    "def text_cleaner(text):\n",
    "    text = re.sub(\"[\\[].*?[\\]]\", \"\", text)\n",
    "    text = ' '.join(text.split())\n",
    "    return text\n",
    "\n",
    "nlp = spacy.load('en')\n",
    "\n",
    "def my_lemmatizer(text):\n",
    "    return ' '.join([token.lemma_ for token in text])\n",
    "\n",
    "# I love map so much. This has changed my coding life!\n",
    "df_features.joined = df_features.joined.map(text_cleaner)\n",
    "df_features.tokens = df_features.joined.map(nlp)\n",
    "df_features.lemmas = df_features.tokens.map(my_lemmatizer)\n",
    "df_features.reset_index(drop=True, inplace=True)\n",
    "df_features.head()"
   ]
  },
  {
   "cell_type": "code",
   "execution_count": 22,
   "metadata": {},
   "outputs": [
    {
     "name": "stdout",
     "output_type": "stream",
     "text": [
      "Total number of words in corpus:  1645597\n"
     ]
    }
   ],
   "source": [
    "# Most corpora are measured in total number of words, so I'm curious to see what we are working with here\n",
    "total_corpus_length = df_features.tokens.map(lambda x: len([token for token in x if not token.is_punct]))\n",
    "print('Total number of words in corpus: ', total_corpus_length.sum())"
   ]
  },
  {
   "cell_type": "markdown",
   "metadata": {},
   "source": [
    "Not bad, 1.6 million words is a pretty decent sized corpus!"
   ]
  },
  {
   "cell_type": "code",
   "execution_count": 23,
   "metadata": {},
   "outputs": [],
   "source": [
    "from sklearn.feature_extraction.text import TfidfVectorizer\n",
    "\n",
    "# Creating the tf-idf matrix.\n",
    "vectorizer = TfidfVectorizer(stop_words='english')\n",
    "essays_tfidf = vectorizer.fit_transform(df_features.lemmas)\n",
    "# essays_tfidf = vectorizer.fit_transform(df_features.joined)\n",
    "\n",
    "\n",
    "# Getting the word list.\n",
    "terms = vectorizer.get_feature_names()"
   ]
  },
  {
   "cell_type": "markdown",
   "metadata": {},
   "source": [
    "You'll notice in the cell above that I tried two different ways of vectorizing the text. One with lemmatization, one without. Lemmatization reduces Doc2Vec's ability to classify the texts, but improves all of the other methods drastically."
   ]
  },
  {
   "cell_type": "markdown",
   "metadata": {},
   "source": [
    "## Unsupervised Clustering\n",
    "In this section, we will reduce dimensionality using the following unsupervised methods:\n",
    "- LSA\n",
    "- LDA\n",
    "- NNMF\n",
    "- Doc2Vec"
   ]
  },
  {
   "cell_type": "code",
   "execution_count": 24,
   "metadata": {},
   "outputs": [],
   "source": [
    "from nltk import RegexpTokenizer\n",
    "from nltk.corpus import stopwords\n",
    "\n",
    "tokenizer = RegexpTokenizer(r'\\w+')\n",
    "stopword_set = set(stopwords.words('english'))\n",
    "\n",
    "def nlp_clean(data):\n",
    "    \n",
    "    new_data = []\n",
    "    for d in data:\n",
    "        new_str = d.lower()\n",
    "        dlist = tokenizer.tokenize(new_str)\n",
    "        dlist = list(set(dlist).difference(stopword_set))\n",
    "        new_data.append(dlist)\n",
    "    return new_data"
   ]
  },
  {
   "cell_type": "code",
   "execution_count": 25,
   "metadata": {},
   "outputs": [],
   "source": [
    "class LabeledLineSentence(object):\n",
    "    \n",
    "    def __init__(self, doc_list, labels_list):\n",
    "        \n",
    "        self.labels_list = labels_list\n",
    "        self.doc_list = doc_list\n",
    "        \n",
    "    def __iter__(self):\n",
    "        # Create an iterable of TaggedDocuments\n",
    "        # Don't know why, just following the documentation\n",
    "        for idx, doc in enumerate(self.doc_list):\n",
    "            yield gensim.models.doc2vec.TaggedDocument(doc,\n",
    "                                                       [self.labels_list[idx]])"
   ]
  },
  {
   "cell_type": "code",
   "execution_count": 26,
   "metadata": {},
   "outputs": [],
   "source": [
    "data = df_features.joined.tolist()\n",
    "names = df_features.subject.tolist()"
   ]
  },
  {
   "cell_type": "code",
   "execution_count": 27,
   "metadata": {},
   "outputs": [],
   "source": [
    "data = nlp_clean(data)"
   ]
  },
  {
   "cell_type": "code",
   "execution_count": 28,
   "metadata": {},
   "outputs": [
    {
     "name": "stderr",
     "output_type": "stream",
     "text": [
      "C:\\Users\\bretw\\AppData\\Local\\Continuum\\anaconda3\\lib\\site-packages\\gensim\\utils.py:1197: UserWarning: detected Windows; aliasing chunkize to chunkize_serial\n",
      "  warnings.warn(\"detected Windows; aliasing chunkize to chunkize_serial\")\n"
     ]
    }
   ],
   "source": [
    "from gensim.models import Doc2Vec\n",
    "import gensim\n",
    "\n",
    "# Creating our document iterable here, using the yields (technically a generator?)\n",
    "it = LabeledLineSentence(data, names)\n",
    "\n",
    "# Initialize model and build vocab\n",
    "model = Doc2Vec(vector_size=50, window=8, min_count=2, workers=3, alpha=0.025, min_alpha=0.005)\n",
    "model.build_vocab(it)\n",
    "\n",
    "# Training the model\n",
    "model.train(it, total_examples=len(df_features), epochs=10)\n",
    "\n",
    "model.save('doc2vec.model')"
   ]
  },
  {
   "cell_type": "code",
   "execution_count": 93,
   "metadata": {},
   "outputs": [],
   "source": [
    "# This function reports the top n_top results for a random search\n",
    "def report(results, n_top=5):\n",
    "    for i in range(1, n_top + 1):\n",
    "        candidates = np.flatnonzero(results['rank_test_score'] == i)\n",
    "        for candidate in candidates[:3]:\n",
    "            print(\"Model with rank: {0}\".format(i))\n",
    "            print(\"Mean validation score: {0:.3f} (std: {1:.3f})\".format(\n",
    "                  results['mean_test_score'][candidate],\n",
    "                  results['std_test_score'][candidate]))\n",
    "            print(\"Parameters: {0}\".format(results['params'][candidate]))\n",
    "            print(\"\")"
   ]
  },
  {
   "cell_type": "code",
   "execution_count": 96,
   "metadata": {},
   "outputs": [],
   "source": [
    "from sklearn.svm import SVC\n",
    "from sklearn.model_selection import train_test_split\n",
    "from sklearn.model_selection import cross_val_score\n",
    "from sklearn.model_selection import RandomizedSearchCV\n",
    "from sklearn.metrics import make_scorer, f1_score\n",
    "f1_scorer = make_scorer(f1_score, pos_label='pro')\n",
    "from scipy.stats import uniform as sp_uniform\n",
    "\n",
    "X = [model.infer_vector(df_features.joined[i]) for i in range(len(df_features))]\n",
    "X_train_docvec, X_test_docvec, y_train_docvec, y_test_docvec = train_test_split(X,\n",
    "                                                                               df_features.student,\n",
    "                                                                               test_size = 0.2)\n"
   ]
  },
  {
   "cell_type": "code",
   "execution_count": 97,
   "metadata": {},
   "outputs": [
    {
     "name": "stdout",
     "output_type": "stream",
     "text": [
      "Model with rank: 1\n",
      "Mean validation score: 0.304 (std: 0.052)\n",
      "Parameters: {'C': 0.6655622300693673}\n",
      "\n",
      "Model with rank: 2\n",
      "Mean validation score: 0.302 (std: 0.098)\n",
      "Parameters: {'C': 0.27076294886227514}\n",
      "\n",
      "Model with rank: 3\n",
      "Mean validation score: 0.301 (std: 0.094)\n",
      "Parameters: {'C': 0.2900416881395433}\n",
      "\n",
      "Model with rank: 4\n",
      "Mean validation score: 0.299 (std: 0.047)\n",
      "Parameters: {'C': 0.6349852420523384}\n",
      "\n",
      "Model with rank: 5\n",
      "Mean validation score: 0.298 (std: 0.053)\n",
      "Parameters: {'C': 0.7162237874104613}\n",
      "\n",
      "Model with rank: 5\n",
      "Mean validation score: 0.298 (std: 0.053)\n",
      "Parameters: {'C': 0.7196683109829142}\n",
      "\n"
     ]
    }
   ],
   "source": [
    "param_dist = {'C':np.random.uniform(0.001, 1, 30)}\n",
    "n_iter = 30\n",
    "svc = SVC(class_weight='balanced')\n",
    "svc_search = RandomizedSearchCV(svc, param_distributions=param_dist, \n",
    "                             n_iter=n_iter, scoring=f1_scorer,\n",
    "                             n_jobs=-1)\n",
    "\n",
    "\n",
    "svc_search.fit(X_train_docvec, y_train_docvec)          \n",
    "report(svc_search.cv_results_)"
   ]
  },
  {
   "cell_type": "code",
   "execution_count": 98,
   "metadata": {},
   "outputs": [
    {
     "name": "stdout",
     "output_type": "stream",
     "text": [
      "Model with rank: 1\n",
      "Mean validation score: 0.322 (std: 0.075)\n",
      "Parameters: {'n_neighbors': 4, 'weights': 'uniform'}\n",
      "\n",
      "Model with rank: 1\n",
      "Mean validation score: 0.322 (std: 0.075)\n",
      "Parameters: {'n_neighbors': 4, 'weights': 'uniform'}\n",
      "\n",
      "Model with rank: 3\n",
      "Mean validation score: 0.276 (std: 0.039)\n",
      "Parameters: {'n_neighbors': 1, 'weights': 'distance'}\n",
      "\n",
      "Model with rank: 3\n",
      "Mean validation score: 0.276 (std: 0.039)\n",
      "Parameters: {'n_neighbors': 2, 'weights': 'distance'}\n",
      "\n",
      "Model with rank: 3\n",
      "Mean validation score: 0.276 (std: 0.039)\n",
      "Parameters: {'n_neighbors': 2, 'weights': 'distance'}\n",
      "\n"
     ]
    }
   ],
   "source": [
    "from sklearn.neighbors import KNeighborsClassifier\n",
    "from scipy.stats import randint as sp_randint\n",
    "\n",
    "param_dist = {'n_neighbors':sp_randint(1, 10),\n",
    "              'weights':['uniform', 'distance']}\n",
    "n_iter = 30\n",
    "knn = KNeighborsClassifier()\n",
    "knn_search = RandomizedSearchCV(knn, param_distributions=param_dist, \n",
    "                             n_iter=n_iter, scoring=f1_scorer,\n",
    "                             n_jobs=-1)\n",
    "\n",
    "\n",
    "knn_search.fit(X_train_docvec, y_train_docvec)          \n",
    "report(knn_search.cv_results_)"
   ]
  },
  {
   "cell_type": "code",
   "execution_count": null,
   "metadata": {},
   "outputs": [],
   "source": []
  },
  {
   "cell_type": "code",
   "execution_count": 32,
   "metadata": {},
   "outputs": [],
   "source": [
    "n_components = 50"
   ]
  },
  {
   "cell_type": "code",
   "execution_count": 33,
   "metadata": {
    "collapsed": true,
    "deletable": true,
    "editable": true
   },
   "outputs": [],
   "source": [
    "# LSA\n",
    "\n",
    "from sklearn.decomposition import TruncatedSVD\n",
    "from sklearn.pipeline import make_pipeline\n",
    "from sklearn.preprocessing import Normalizer\n",
    "\n",
    "svd= TruncatedSVD(n_components)\n",
    "lsa = make_pipeline(svd, Normalizer(copy=False))\n",
    "essays_lsa = lsa.fit_transform(essays_tfidf)"
   ]
  },
  {
   "cell_type": "code",
   "execution_count": 34,
   "metadata": {
    "collapsed": false,
    "deletable": true,
    "editable": true
   },
   "outputs": [
    {
     "name": "stderr",
     "output_type": "stream",
     "text": [
      "C:\\Users\\bretw\\AppData\\Local\\Continuum\\anaconda3\\lib\\site-packages\\sklearn\\decomposition\\online_lda.py:536: DeprecationWarning: The default value for 'learning_method' will be changed from 'online' to 'batch' in the release 0.20. This warning was introduced in 0.18.\n",
      "  DeprecationWarning)\n"
     ]
    }
   ],
   "source": [
    "# LDA\n",
    "from sklearn.decomposition import LatentDirichletAllocation as LDA\n",
    "\n",
    "lda = LDA(n_components=n_components, \n",
    "          doc_topic_prior=None, # Prior = 1/n_documents\n",
    "          topic_word_prior=1/n_components,\n",
    "          learning_decay=0.7, # Convergence rate.\n",
    "          learning_offset=10.0, # Causes earlier iterations to have less influence on the learning\n",
    "          max_iter=10, # when to stop even if the model is not converging (to prevent running forever)\n",
    "          evaluate_every=-1, # Do not evaluate perplexity, as it slows training time.\n",
    "          mean_change_tol=0.001, # Stop updating the document topic distribution in the E-step when mean change is < tol\n",
    "          max_doc_update_iter=100, # When to stop updating the document topic distribution in the E-step even if tol is not reached\n",
    "          n_jobs=-1, # Use all available CPUs to speed up processing time.\n",
    "          verbose=0, # amount of output to give while iterating\n",
    "          random_state=0\n",
    "         )\n",
    "\n",
    "essays_lda = lda.fit_transform(essays_tfidf) \n"
   ]
  },
  {
   "cell_type": "code",
   "execution_count": 35,
   "metadata": {
    "collapsed": true,
    "deletable": true,
    "editable": true
   },
   "outputs": [],
   "source": [
    "# NNMF\n",
    "\n",
    "from sklearn.decomposition import NMF\n",
    "\n",
    "nmf = NMF(alpha=0.0, \n",
    "          init='nndsvdar', # how starting value are calculated\n",
    "          l1_ratio=0.0, # Sets whether regularization is L2 (0), L1 (1), or a combination (values between 0 and 1)\n",
    "          max_iter=200, # when to stop even if the model is not converging (to prevent running forever)\n",
    "          n_components=n_components, \n",
    "          random_state=0, \n",
    "          solver='cd', # Use Coordinate Descent to solve\n",
    "          tol=0.0001, # model will stop if tfidf-WH <= tol\n",
    "          verbose=0 # amount of output to give while iterating\n",
    "         )\n",
    "essays_nmf = nmf.fit_transform(essays_tfidf) \n"
   ]
  },
  {
   "cell_type": "markdown",
   "metadata": {},
   "source": [
    "# Modeling\n",
    "In this section, we will attempt to classify the data in as many ways as we can think of! We will also conduct a rigorous error analysis.\n",
    "- Compare accuracy, f1, confusion matrix\n",
    "- Try LSA,LDA, nnmf one at a time\n",
    "    "
   ]
  },
  {
   "cell_type": "code",
   "execution_count": 36,
   "metadata": {},
   "outputs": [
    {
     "name": "stdout",
     "output_type": "stream",
     "text": [
      "710.0\n"
     ]
    },
    {
     "data": {
      "text/html": [
       "<div>\n",
       "<style scoped>\n",
       "    .dataframe tbody tr th:only-of-type {\n",
       "        vertical-align: middle;\n",
       "    }\n",
       "\n",
       "    .dataframe tbody tr th {\n",
       "        vertical-align: top;\n",
       "    }\n",
       "\n",
       "    .dataframe thead th {\n",
       "        text-align: right;\n",
       "    }\n",
       "</style>\n",
       "<table border=\"1\" class=\"dataframe\">\n",
       "  <thead>\n",
       "    <tr style=\"text-align: right;\">\n",
       "      <th></th>\n",
       "      <th>0</th>\n",
       "      <th>1</th>\n",
       "      <th>2</th>\n",
       "      <th>3</th>\n",
       "      <th>4</th>\n",
       "      <th>5</th>\n",
       "      <th>6</th>\n",
       "      <th>7</th>\n",
       "      <th>8</th>\n",
       "      <th>9</th>\n",
       "      <th>...</th>\n",
       "      <th>43</th>\n",
       "      <th>44</th>\n",
       "      <th>45</th>\n",
       "      <th>46</th>\n",
       "      <th>47</th>\n",
       "      <th>48</th>\n",
       "      <th>49</th>\n",
       "      <th>target</th>\n",
       "      <th>test</th>\n",
       "      <th>method</th>\n",
       "    </tr>\n",
       "  </thead>\n",
       "  <tbody>\n",
       "    <tr>\n",
       "      <th>0</th>\n",
       "      <td>0.505721</td>\n",
       "      <td>-0.2821</td>\n",
       "      <td>-0.22448</td>\n",
       "      <td>-0.0769996</td>\n",
       "      <td>0.0763551</td>\n",
       "      <td>0.0058916</td>\n",
       "      <td>0.0583379</td>\n",
       "      <td>0.0236729</td>\n",
       "      <td>-0.215976</td>\n",
       "      <td>-0.041731</td>\n",
       "      <td>...</td>\n",
       "      <td>0.0637321</td>\n",
       "      <td>-0.00738212</td>\n",
       "      <td>0.105176</td>\n",
       "      <td>0.0252684</td>\n",
       "      <td>0.0223463</td>\n",
       "      <td>0.0167677</td>\n",
       "      <td>-0.0905037</td>\n",
       "      <td>student</td>\n",
       "      <td>0</td>\n",
       "      <td>lsa</td>\n",
       "    </tr>\n",
       "    <tr>\n",
       "      <th>1</th>\n",
       "      <td>0.678744</td>\n",
       "      <td>-0.322404</td>\n",
       "      <td>-0.162934</td>\n",
       "      <td>0.169279</td>\n",
       "      <td>0.203469</td>\n",
       "      <td>0.102529</td>\n",
       "      <td>-0.140346</td>\n",
       "      <td>-0.0523928</td>\n",
       "      <td>0.122367</td>\n",
       "      <td>0.0118693</td>\n",
       "      <td>...</td>\n",
       "      <td>-0.00143172</td>\n",
       "      <td>0.153049</td>\n",
       "      <td>-0.0687328</td>\n",
       "      <td>0.00528203</td>\n",
       "      <td>-0.207514</td>\n",
       "      <td>-0.113923</td>\n",
       "      <td>0.106856</td>\n",
       "      <td>student</td>\n",
       "      <td>0</td>\n",
       "      <td>lsa</td>\n",
       "    </tr>\n",
       "    <tr>\n",
       "      <th>2</th>\n",
       "      <td>0.725035</td>\n",
       "      <td>-0.271096</td>\n",
       "      <td>-0.118372</td>\n",
       "      <td>-0.111196</td>\n",
       "      <td>-0.170865</td>\n",
       "      <td>-0.0125259</td>\n",
       "      <td>-0.00838797</td>\n",
       "      <td>-0.00728161</td>\n",
       "      <td>0.0186043</td>\n",
       "      <td>-0.185468</td>\n",
       "      <td>...</td>\n",
       "      <td>0.0196606</td>\n",
       "      <td>0.0271087</td>\n",
       "      <td>0.0563566</td>\n",
       "      <td>0.0117623</td>\n",
       "      <td>0.0646648</td>\n",
       "      <td>0.00995252</td>\n",
       "      <td>0.0174045</td>\n",
       "      <td>student</td>\n",
       "      <td>0</td>\n",
       "      <td>lsa</td>\n",
       "    </tr>\n",
       "    <tr>\n",
       "      <th>3</th>\n",
       "      <td>0.763625</td>\n",
       "      <td>0.35379</td>\n",
       "      <td>-0.051861</td>\n",
       "      <td>-0.0136447</td>\n",
       "      <td>-0.069615</td>\n",
       "      <td>-0.132671</td>\n",
       "      <td>0.181454</td>\n",
       "      <td>-0.0636459</td>\n",
       "      <td>0.122897</td>\n",
       "      <td>0.0485186</td>\n",
       "      <td>...</td>\n",
       "      <td>0.0515926</td>\n",
       "      <td>-0.0098652</td>\n",
       "      <td>0.147218</td>\n",
       "      <td>0.109203</td>\n",
       "      <td>-0.00441418</td>\n",
       "      <td>0.04997</td>\n",
       "      <td>0.0517215</td>\n",
       "      <td>student</td>\n",
       "      <td>0</td>\n",
       "      <td>lsa</td>\n",
       "    </tr>\n",
       "    <tr>\n",
       "      <th>4</th>\n",
       "      <td>0.783105</td>\n",
       "      <td>-0.234715</td>\n",
       "      <td>-0.0660375</td>\n",
       "      <td>0.234432</td>\n",
       "      <td>0.120856</td>\n",
       "      <td>0.0440692</td>\n",
       "      <td>-0.00108068</td>\n",
       "      <td>-0.0168737</td>\n",
       "      <td>0.22536</td>\n",
       "      <td>-0.00139919</td>\n",
       "      <td>...</td>\n",
       "      <td>0.0839026</td>\n",
       "      <td>-0.0888161</td>\n",
       "      <td>-0.0221553</td>\n",
       "      <td>-0.0196294</td>\n",
       "      <td>0.0368278</td>\n",
       "      <td>-0.00149437</td>\n",
       "      <td>0.0160307</td>\n",
       "      <td>student</td>\n",
       "      <td>0</td>\n",
       "      <td>lsa</td>\n",
       "    </tr>\n",
       "  </tbody>\n",
       "</table>\n",
       "<p>5 rows × 53 columns</p>\n",
       "</div>"
      ],
      "text/plain": [
       "          0         1          2          3          4          5           6  \\\n",
       "0  0.505721   -0.2821   -0.22448 -0.0769996  0.0763551  0.0058916   0.0583379   \n",
       "1  0.678744 -0.322404  -0.162934   0.169279   0.203469   0.102529   -0.140346   \n",
       "2  0.725035 -0.271096  -0.118372  -0.111196  -0.170865 -0.0125259 -0.00838797   \n",
       "3  0.763625   0.35379  -0.051861 -0.0136447  -0.069615  -0.132671    0.181454   \n",
       "4  0.783105 -0.234715 -0.0660375   0.234432   0.120856  0.0440692 -0.00108068   \n",
       "\n",
       "            7          8           9  ...            43          44  \\\n",
       "0   0.0236729  -0.215976   -0.041731  ...     0.0637321 -0.00738212   \n",
       "1  -0.0523928   0.122367   0.0118693  ...   -0.00143172    0.153049   \n",
       "2 -0.00728161  0.0186043   -0.185468  ...     0.0196606   0.0271087   \n",
       "3  -0.0636459   0.122897   0.0485186  ...     0.0515926  -0.0098652   \n",
       "4  -0.0168737    0.22536 -0.00139919  ...     0.0839026  -0.0888161   \n",
       "\n",
       "          45          46          47          48         49   target test  \\\n",
       "0   0.105176   0.0252684   0.0223463   0.0167677 -0.0905037  student    0   \n",
       "1 -0.0687328  0.00528203   -0.207514   -0.113923   0.106856  student    0   \n",
       "2  0.0563566   0.0117623   0.0646648  0.00995252  0.0174045  student    0   \n",
       "3   0.147218    0.109203 -0.00441418     0.04997  0.0517215  student    0   \n",
       "4 -0.0221553  -0.0196294   0.0368278 -0.00149437  0.0160307  student    0   \n",
       "\n",
       "  method  \n",
       "0    lsa  \n",
       "1    lsa  \n",
       "2    lsa  \n",
       "3    lsa  \n",
       "4    lsa  \n",
       "\n",
       "[5 rows x 53 columns]"
      ]
     },
     "execution_count": 36,
     "metadata": {},
     "output_type": "execute_result"
    }
   ],
   "source": [
    "from sklearn.model_selection import train_test_split\n",
    "\n",
    "X_train_lda, X_test_lda, y_train_lda, y_test_lda = train_test_split(essays_lda, \n",
    "                                                                    df_features.student, \n",
    "                                                                    test_size=0.2, \n",
    "                                                                    stratify=df_features.student)\n",
    "\n",
    "X_train_lsa, X_test_lsa, y_train_lsa, y_test_lsa = train_test_split(essays_lsa,\n",
    "                                                                    df_features.student,\n",
    "                                                                    test_size=0.2,\n",
    "                                                                    stratify=df_features.student)\n",
    "\n",
    "X_train_nmf, X_test_nmf, y_train_nmf, y_test_nmf = train_test_split(essays_nmf,\n",
    "                                                                    df_features.student,\n",
    "                                                                    test_size=0.2,\n",
    "                                                                    stratify=df_features.student)\n",
    "\n",
    "# This is going to be a pain in the ass. I hope it actually ends up saving me time. \n",
    "# I'm going to concatenate all of these dataframes together so that I can pass them into\n",
    "# a custom class, along with an estimator. The object will spit out training metrics.\n",
    "\n",
    "# Latent Semantic Analysis\n",
    "reduced_train_lsa = pd.DataFrame(data=np.append(X_train_lsa, \n",
    "                                                y_train_lsa[:, np.newaxis],\n",
    "                                                1))\n",
    "reduced_train_lsa['test'] = 0\n",
    "reduced_test_lsa = pd.DataFrame(data=np.append(X_test_lsa, \n",
    "                                                y_test_lsa[:, np.newaxis],\n",
    "                                                1))\n",
    "reduced_test_lsa['test'] = 1\n",
    "reduced_lsa = reduced_train_lsa.append(reduced_test_lsa, ignore_index=True)\n",
    "reduced_lsa['method'] = 'lsa'\n",
    "reduced_lsa.rename(columns={n_components:'target'}, inplace=True)\n",
    "\n",
    "\n",
    "\n",
    "\n",
    "# Latent Dirichlet Analysis\n",
    "reduced_train_lda = pd.DataFrame(data=np.append(X_train_lda, \n",
    "                                                y_train_lda[:, np.newaxis],\n",
    "                                                1))\n",
    "reduced_train_lda['test'] = 0\n",
    "reduced_test_lda = pd.DataFrame(data=np.append(X_test_lda, \n",
    "                                                y_test_lda[:, np.newaxis],\n",
    "                                                1))\n",
    "reduced_test_lda['test'] = 1\n",
    "reduced_lda = reduced_train_lda.append(reduced_test_lda, ignore_index=True)\n",
    "reduced_lda['method'] = 'lda'\n",
    "reduced_lda.rename(columns={n_components:'target'}, inplace=True)\n",
    "\n",
    "\n",
    "\n",
    "# Non-Negative Matrix Factorization\n",
    "reduced_train_nmf = pd.DataFrame(data=np.append(X_train_nmf, \n",
    "                                                y_train_nmf[:, np.newaxis],\n",
    "                                                1))\n",
    "reduced_train_nmf['test'] = 0\n",
    "reduced_test_nmf = pd.DataFrame(data=np.append(X_test_nmf, \n",
    "                                                y_test_nmf[:, np.newaxis],\n",
    "                                                1))\n",
    "reduced_test_nmf['test'] = 1\n",
    "reduced_nmf = reduced_train_nmf.append(reduced_test_nmf, ignore_index=True)\n",
    "reduced_nmf['method'] = 'nmf'\n",
    "reduced_nmf.rename(columns={n_components:'target'}, inplace=True)\n",
    "\n",
    "# Putting it all together now:\n",
    "\n",
    "reduced_data = reduced_lsa.copy()\n",
    "reduced_data = reduced_data.append(reduced_lda, ignore_index=True)\n",
    "reduced_data = reduced_data.append(reduced_nmf, ignore_index=True)\n",
    "reduced_data.reset_index(inplace=True, drop=True)\n",
    "# reduced_data.target = reduced_data.target.astype(np.int64) #map(lambda x: int(x))\n",
    "print(reduced_data.shape[0] / 3)\n",
    "reduced_data.head()"
   ]
  },
  {
   "cell_type": "code",
   "execution_count": 83,
   "metadata": {},
   "outputs": [],
   "source": [
    "from sklearn.metrics import confusion_matrix\n",
    "from sklearn.metrics import accuracy_score\n",
    "import itertools\n",
    "\n",
    "class TryAllThree():\n",
    "    # This class must be used with a RandomizedSearchCV object as the estimator.\n",
    "    # It also requires a data frame with columns:\n",
    "    # [0, 1, 2, ..., n_examples, 'target', 'test', 'method']\n",
    "    def __init__(self, estimator, data):\n",
    "        self.estimator = estimator\n",
    "        self.data = data\n",
    "        self.methods = self.data.method.unique()\n",
    "        self.results = []\n",
    "        self.results_confusion = []\n",
    "        \n",
    "    # This method trains (fits) the classifier and then runs a\n",
    "    def fit_score(self):\n",
    "        test = 0\n",
    "        for method in self.methods:\n",
    "            self.x = self.data[(self.data['test'] == test) & \n",
    "                          (self.data['method'] == method)].iloc[:, :50]\n",
    "            self.y = self.data[(self.data['test'] == test) & \n",
    "                          (self.data['method'] == method)].loc[:, 'target']\n",
    "            self.estimator.fit(self.x, self.y)\n",
    "            self.report(self.estimator.cv_results_, method)\n",
    "            self.confusion(self.estimator, self.x, self.y)\n",
    "            \n",
    "            # Predict test scores using best estimator. No peaking until you're done tuning!\n",
    "            self.X_test = self.data[(self.data['test'] == 1) & \n",
    "                          (self.data['method'] == method)].iloc[:, :50]\n",
    "            self.y_test = self.data[(self.data['test'] == 1) & \n",
    "                          (self.data['method'] == method)].loc[:, 'target']\n",
    "            self.results.append((method, f1_scorer(self.estimator.best_estimator_, self.X_test, self.y_test)))\n",
    "            self.results_confusion.append(confusion_matrix(self.y_test,\n",
    "                                                           self.estimator.best_estimator_.predict(self.X_test)))\n",
    "    # This method scores on the test data\n",
    "    def score(self):\n",
    "        for i, result in enumerate(self.results):\n",
    "            print('Test score for {0} method: {1}'.format(result[0], result[1]))\n",
    "            self.plot_confusion_matrix(self.results_confusion[i], ['pro', 'student'])\n",
    "            \n",
    "    def report(self, results, method, n_top=5):\n",
    "        count = 0\n",
    "        for i in range(1, n_top + 1):\n",
    "            candidates = np.flatnonzero(results['rank_test_score'] == i)\n",
    "            for candidate in candidates[:3]:\n",
    "                if count == 5:\n",
    "                    break\n",
    "                print(\"Method: {0} with rank: {1}\".format(method.upper(), i))\n",
    "                print(\"Mean validation score: {0:.3f} (std: {1:.3f})\".format(\n",
    "                      results['mean_test_score'][candidate],\n",
    "                      results['std_test_score'][candidate]))\n",
    "                print(\"Fold-scores: [{0:.3f}, {1:.3f}, {2:.3f}\".format(\n",
    "                      results['split0_test_score'][candidate],\n",
    "                    results['split1_test_score'][candidate],\n",
    "                    results['split2_test_score'][candidate]))\n",
    "                print(\"Parameters: {0}\".format(results['params'][candidate]))\n",
    "                print(\"\")\n",
    "                count += 1\n",
    "        \n",
    "    def confusion(self, estimator, x, y):\n",
    "        np.set_printoptions(precision=3)\n",
    "        y_pred = estimator.best_estimator_.predict(x)\n",
    "        print('Best accuracy acheived: ', accuracy_score(y, y_pred))\n",
    "        print('* * * * * * * * * * * * * * * * * * * *')\n",
    "        cnf_matrix = confusion_matrix(y, y_pred, labels=['pro', 'student'])\n",
    "        classes = ['pro', 'student']\n",
    "        plt.figure()\n",
    "        self.plot_confusion_matrix(cnf_matrix, classes=classes, normalize=False)\n",
    "        plt.show()\n",
    "        print('--------------------------------------------------------------------')\n",
    "        print('--------------------------------------------------------------------')\n",
    "        print('--------------------------------------------------------------------')\n",
    "        \n",
    "        \n",
    "    def plot_confusion_matrix(self, cm, classes,\n",
    "                              normalize=False,\n",
    "                              title='Confusion matrix',\n",
    "                              cmap=plt.cm.Blues):\n",
    "        \"\"\"\n",
    "        This function prints and plots the confusion matrix.\n",
    "        Normalization can be applied by setting `normalize=True`.\n",
    "        \"\"\"\n",
    "        if normalize:\n",
    "            cm = cm.astype('float') / cm.sum(axis=1)[:, np.newaxis]\n",
    "            print(\"Normalized confusion matrix\")\n",
    "        else:\n",
    "            print('Confusion matrix, without normalization')\n",
    "\n",
    "        print(cm)\n",
    "\n",
    "        plt.imshow(cm, interpolation='nearest', cmap=cmap)\n",
    "        plt.title(title)\n",
    "        plt.colorbar()\n",
    "        tick_marks = np.arange(len(classes))\n",
    "        plt.xticks(tick_marks, classes, rotation=45)\n",
    "        plt.yticks(tick_marks, classes)\n",
    "\n",
    "        fmt = '.2f' if normalize else 'd'\n",
    "        thresh = cm.max() / 2.\n",
    "        for i, j in itertools.product(range(cm.shape[0]), range(cm.shape[1])):\n",
    "            plt.text(j, i, format(cm[i, j], fmt),\n",
    "                     horizontalalignment=\"center\",\n",
    "                     color=\"white\" if cm[i, j] > thresh else \"black\")\n",
    "\n",
    "        plt.tight_layout()\n",
    "        plt.ylabel('True label')\n",
    "        plt.xlabel('Predicted label')"
   ]
  },
  {
   "cell_type": "code",
   "execution_count": 91,
   "metadata": {},
   "outputs": [
    {
     "name": "stdout",
     "output_type": "stream",
     "text": [
      "Test score for lsa method: 0.2857142857142857\n",
      "Test score for lda method: 0.17647058823529413\n",
      "Test score for nmf method: 0.4\n"
     ]
    }
   ],
   "source": [
    "rand_for_clf.score()"
   ]
  },
  {
   "cell_type": "code",
   "execution_count": 72,
   "metadata": {},
   "outputs": [],
   "source": [
    "# A few things we might need in the future\n",
    "from sklearn.model_selection import cross_val_score\n",
    "from sklearn.model_selection import RandomizedSearchCV\n",
    "from scipy.stats import uniform as sp_uniform\n",
    "from sklearn.metrics import recall_score\n",
    "recall_scorer = make_scorer(recall_score, pos_label='pro')"
   ]
  },
  {
   "cell_type": "markdown",
   "metadata": {},
   "source": [
    "### Naive Bayes on tfidf vector"
   ]
  },
  {
   "cell_type": "code",
   "execution_count": 73,
   "metadata": {},
   "outputs": [
    {
     "name": "stdout",
     "output_type": "stream",
     "text": [
      "Model with rank: 1\n",
      "Mean validation score: 0.021 (std: 0.029)\n",
      "Parameters: {'alpha': 0.10259978029508794}\n",
      "\n",
      "Model with rank: 2\n",
      "Mean validation score: 0.000 (std: 0.000)\n",
      "Parameters: {'alpha': 9.064919376292108}\n",
      "\n",
      "Model with rank: 2\n",
      "Mean validation score: 0.000 (std: 0.000)\n",
      "Parameters: {'alpha': 9.667749999095804}\n",
      "\n",
      "Model with rank: 2\n",
      "Mean validation score: 0.000 (std: 0.000)\n",
      "Parameters: {'alpha': 0.22930768391733394}\n",
      "\n"
     ]
    }
   ],
   "source": [
    "from sklearn.naive_bayes import MultinomialNB\n",
    "\n",
    "param_dist = {'alpha':np.random.uniform(0.001, 10, 30)}\n",
    "n_iter = 30\n",
    "mnb = MultinomialNB()\n",
    "mnb_search = RandomizedSearchCV(mnb, param_distributions=param_dist, \n",
    "                             n_iter=n_iter, scoring=f1_scorer,\n",
    "                             n_jobs=-1)\n",
    "\n",
    "mnb_search.fit(essays_tfidf, df_features.student)\n",
    "report(mnb_search.cv_results_)"
   ]
  },
  {
   "cell_type": "markdown",
   "metadata": {},
   "source": [
    "### LinearSVC"
   ]
  },
  {
   "cell_type": "code",
   "execution_count": 74,
   "metadata": {},
   "outputs": [
    {
     "name": "stdout",
     "output_type": "stream",
     "text": [
      "Method: LSA with rank: 1\n",
      "Mean validation score: 0.448 (std: 0.050)\n",
      "Fold-scores: [0.464, 0.381, 0.500\n",
      "Parameters: {'C': 2.093200823159942}\n",
      "\n",
      "Method: LSA with rank: 2\n",
      "Mean validation score: 0.444 (std: 0.056)\n",
      "Fold-scores: [0.464, 0.368, 0.500\n",
      "Parameters: {'C': 2.1601508144182797}\n",
      "\n",
      "Method: LSA with rank: 3\n",
      "Mean validation score: 0.439 (std: 0.090)\n",
      "Fold-scores: [0.439, 0.329, 0.549\n",
      "Parameters: {'C': 1.580707569737765}\n",
      "\n",
      "Method: LSA with rank: 4\n",
      "Mean validation score: 0.434 (std: 0.065)\n",
      "Fold-scores: [0.467, 0.344, 0.493\n",
      "Parameters: {'C': 3.3195358318430386}\n",
      "\n",
      "Method: LSA with rank: 5\n",
      "Mean validation score: 0.432 (std: 0.064)\n",
      "Fold-scores: [0.459, 0.344, 0.493\n",
      "Parameters: {'C': 3.3755505651471633}\n",
      "\n",
      "Best accuracy acheived:  0.7922535211267606\n",
      "* * * * * * * * * * * * * * * * * * * *\n",
      "Confusion matrix, without normalization\n",
      "[[ 55  19]\n",
      " [ 99 395]]\n"
     ]
    },
    {
     "data": {
      "image/png": "[encoded data removed]",
      "text/plain": [
       "<matplotlib.figure.Figure at 0x1cfd5c17630>"
      ]
     },
     "metadata": {},
     "output_type": "display_data"
    },
    {
     "name": "stdout",
     "output_type": "stream",
     "text": [
      "--------------------------------------------------------------------\n",
      "--------------------------------------------------------------------\n",
      "--------------------------------------------------------------------\n",
      "Method: LDA with rank: 1\n",
      "Mean validation score: 0.231 (std: 0.003)\n",
      "Fold-scores: [0.233, 0.233, 0.226\n",
      "Parameters: {'C': 2.853304654949041}\n",
      "\n",
      "Method: LDA with rank: 2\n",
      "Mean validation score: 0.213 (std: 0.028)\n",
      "Fold-scores: [0.233, 0.233, 0.174\n",
      "Parameters: {'C': 3.012009503894683}\n",
      "\n",
      "Method: LDA with rank: 3\n",
      "Mean validation score: 0.156 (std: 0.109)\n",
      "Fold-scores: [0.233, 0.233, 0.000\n",
      "Parameters: {'C': 3.1781093220613723}\n",
      "\n",
      "Method: LDA with rank: 3\n",
      "Mean validation score: 0.156 (std: 0.109)\n",
      "Fold-scores: [0.233, 0.233, 0.000\n",
      "Parameters: {'C': 3.644275588219647}\n",
      "\n",
      "Method: LDA with rank: 3\n",
      "Mean validation score: 0.156 (std: 0.109)\n",
      "Fold-scores: [0.233, 0.233, 0.000\n",
      "Parameters: {'C': 1.0020315423034503}\n",
      "\n",
      "Best accuracy acheived:  0.8697183098591549\n",
      "* * * * * * * * * * * * * * * * * * * *\n",
      "Confusion matrix, without normalization\n",
      "[[  0  74]\n",
      " [  0 494]]\n"
     ]
    },
    {
     "data": {
      "image/png": "[encoded data removed]",
      "text/plain": [
       "<matplotlib.figure.Figure at 0x1cfc51afe48>"
      ]
     },
     "metadata": {},
     "output_type": "display_data"
    },
    {
     "name": "stdout",
     "output_type": "stream",
     "text": [
      "--------------------------------------------------------------------\n",
      "--------------------------------------------------------------------\n",
      "--------------------------------------------------------------------\n"
     ]
    },
    {
     "name": "stderr",
     "output_type": "stream",
     "text": [
      "C:\\Users\\bretw\\AppData\\Local\\Continuum\\anaconda3\\lib\\site-packages\\sklearn\\metrics\\classification.py:1135: UndefinedMetricWarning: F-score is ill-defined and being set to 0.0 due to no predicted samples.\n",
      "  'precision', 'predicted', average, warn_for)\n"
     ]
    },
    {
     "name": "stdout",
     "output_type": "stream",
     "text": [
      "Method: NMF with rank: 1\n",
      "Mean validation score: 0.285 (std: 0.075)\n",
      "Fold-scores: [0.233, 0.233, 0.391\n",
      "Parameters: {'C': 3.012009503894683}\n",
      "\n",
      "Method: NMF with rank: 2\n",
      "Mean validation score: 0.231 (std: 0.003)\n",
      "Fold-scores: [0.233, 0.233, 0.226\n",
      "Parameters: {'C': 2.853304654949041}\n",
      "\n",
      "Method: NMF with rank: 3\n",
      "Mean validation score: 0.170 (std: 0.121)\n",
      "Fold-scores: [0.233, 0.276, 0.000\n",
      "Parameters: {'C': 1.580707569737765}\n",
      "\n",
      "Method: NMF with rank: 4\n",
      "Mean validation score: 0.156 (std: 0.109)\n",
      "Fold-scores: [0.233, 0.233, 0.000\n",
      "Parameters: {'C': 3.1781093220613723}\n",
      "\n",
      "Method: NMF with rank: 4\n",
      "Mean validation score: 0.156 (std: 0.109)\n",
      "Fold-scores: [0.233, 0.233, 0.000\n",
      "Parameters: {'C': 3.644275588219647}\n",
      "\n",
      "Best accuracy acheived:  0.8697183098591549\n",
      "* * * * * * * * * * * * * * * * * * * *\n",
      "Confusion matrix, without normalization\n",
      "[[  0  74]\n",
      " [  0 494]]\n"
     ]
    },
    {
     "data": {
      "image/png": "[encoded data removed]",
      "text/plain": [
       "<matplotlib.figure.Figure at 0x1cfc5190f60>"
      ]
     },
     "metadata": {},
     "output_type": "display_data"
    },
    {
     "name": "stdout",
     "output_type": "stream",
     "text": [
      "--------------------------------------------------------------------\n",
      "--------------------------------------------------------------------\n",
      "--------------------------------------------------------------------\n"
     ]
    },
    {
     "name": "stderr",
     "output_type": "stream",
     "text": [
      "C:\\Users\\bretw\\AppData\\Local\\Continuum\\anaconda3\\lib\\site-packages\\sklearn\\metrics\\classification.py:1135: UndefinedMetricWarning: F-score is ill-defined and being set to 0.0 due to no predicted samples.\n",
      "  'precision', 'predicted', average, warn_for)\n"
     ]
    }
   ],
   "source": [
    "from sklearn.svm import LinearSVC\n",
    "\n",
    "param_dist = {'C':np.random.uniform(0.001, 5, 50)}\n",
    "n_iter = 50\n",
    "lin_svc = SVC(class_weight='balanced')\n",
    "lin_svc_search = RandomizedSearchCV(svc, param_distributions=param_dist, \n",
    "                             n_iter=n_iter, scoring=f1_scorer,\n",
    "                             n_jobs=-1)\n",
    "\n",
    "lin_svc_clf = TryAllThree(lin_svc_search, reduced_data)\n",
    "lin_svc_clf.fit_score()"
   ]
  },
  {
   "cell_type": "markdown",
   "metadata": {},
   "source": [
    "### SVC"
   ]
  },
  {
   "cell_type": "code",
   "execution_count": 62,
   "metadata": {},
   "outputs": [
    {
     "name": "stdout",
     "output_type": "stream",
     "text": [
      "Method: LSA with rank: 1\n",
      "Mean validation score: 0.238 (std: 0.114)\n",
      "Fold-scores: [0.346, 0.286, 0.080\n",
      "Parameters: {'C': 0.8020022113517146}\n",
      "\n",
      "Method: LSA with rank: 2\n",
      "Mean validation score: 0.237 (std: 0.175)\n",
      "Fold-scores: [0.419, 0.291, 0.000\n",
      "Parameters: {'C': 0.47197806403160736}\n",
      "\n",
      "Method: LSA with rank: 2\n",
      "Mean validation score: 0.237 (std: 0.175)\n",
      "Fold-scores: [0.419, 0.291, 0.000\n",
      "Parameters: {'C': 0.5747411803128364}\n",
      "\n",
      "Method: LSA with rank: 4\n",
      "Mean validation score: 0.157 (std: 0.223)\n",
      "Fold-scores: [0.000, 0.000, 0.475\n",
      "Parameters: {'C': 0.020539526067685714}\n",
      "\n",
      "Method: LSA with rank: 5\n",
      "Mean validation score: 0.156 (std: 0.109)\n",
      "Fold-scores: [0.233, 0.233, 0.000\n",
      "Parameters: {'C': 0.3509804040839799}\n",
      "\n",
      "Best accuracy acheived:  0.8679577464788732\n",
      "* * * * * * * * * * * * * * * * * * * *\n",
      "Confusion matrix, without normalization\n",
      "[[ 27  47]\n",
      " [ 28 466]]\n"
     ]
    },
    {
     "data": {
      "image/png": "[encoded data removed]",
      "text/plain": [
       "<matplotlib.figure.Figure at 0x1cfd5f9f978>"
      ]
     },
     "metadata": {},
     "output_type": "display_data"
    },
    {
     "name": "stdout",
     "output_type": "stream",
     "text": [
      "--------------------------------------------------------------------\n",
      "--------------------------------------------------------------------\n",
      "--------------------------------------------------------------------\n",
      "Method: LDA with rank: 1\n",
      "Mean validation score: 0.156 (std: 0.109)\n",
      "Fold-scores: [0.233, 0.233, 0.000\n",
      "Parameters: {'C': 0.3509804040839799}\n",
      "\n",
      "Method: LDA with rank: 1\n",
      "Mean validation score: 0.156 (std: 0.109)\n",
      "Fold-scores: [0.233, 0.233, 0.000\n",
      "Parameters: {'C': 0.8020022113517146}\n",
      "\n",
      "Method: LDA with rank: 3\n",
      "Mean validation score: 0.154 (std: 0.108)\n",
      "Fold-scores: [0.222, 0.238, 0.000\n",
      "Parameters: {'C': 0.47197806403160736}\n",
      "\n",
      "Method: LDA with rank: 3\n",
      "Mean validation score: 0.154 (std: 0.108)\n",
      "Fold-scores: [0.222, 0.238, 0.000\n",
      "Parameters: {'C': 0.5747411803128364}\n",
      "\n",
      "Method: LDA with rank: 5\n",
      "Mean validation score: 0.075 (std: 0.107)\n",
      "Fold-scores: [0.000, 0.000, 0.226\n",
      "Parameters: {'C': 0.013852643336564191}\n",
      "\n",
      "Method: LDA with rank: 5\n",
      "Mean validation score: 0.075 (std: 0.107)\n",
      "Fold-scores: [0.000, 0.000, 0.226\n",
      "Parameters: {'C': 0.4845615103443744}\n",
      "\n",
      "Method: LDA with rank: 5\n",
      "Mean validation score: 0.075 (std: 0.107)\n",
      "Fold-scores: [0.000, 0.000, 0.226\n",
      "Parameters: {'C': 0.8527528032940744}\n",
      "\n",
      "Best accuracy acheived:  0.13028169014084506\n",
      "* * * * * * * * * * * * * * * * * * * *\n",
      "Confusion matrix, without normalization\n",
      "[[ 74   0]\n",
      " [494   0]]\n"
     ]
    },
    {
     "data": {
      "image/png": "[encoded data removed]",
      "text/plain": [
       "<matplotlib.figure.Figure at 0x1cfe3a26f60>"
      ]
     },
     "metadata": {},
     "output_type": "display_data"
    },
    {
     "name": "stdout",
     "output_type": "stream",
     "text": [
      "--------------------------------------------------------------------\n",
      "--------------------------------------------------------------------\n",
      "--------------------------------------------------------------------\n",
      "Method: NMF with rank: 1\n",
      "Mean validation score: 0.156 (std: 0.109)\n",
      "Fold-scores: [0.233, 0.233, 0.000\n",
      "Parameters: {'C': 0.3509804040839799}\n",
      "\n",
      "Method: NMF with rank: 1\n",
      "Mean validation score: 0.156 (std: 0.109)\n",
      "Fold-scores: [0.233, 0.233, 0.000\n",
      "Parameters: {'C': 0.8020022113517146}\n",
      "\n",
      "Method: NMF with rank: 3\n",
      "Mean validation score: 0.155 (std: 0.115)\n",
      "Fold-scores: [0.188, 0.276, 0.000\n",
      "Parameters: {'C': 0.47197806403160736}\n",
      "\n",
      "Method: NMF with rank: 3\n",
      "Mean validation score: 0.155 (std: 0.115)\n",
      "Fold-scores: [0.188, 0.276, 0.000\n",
      "Parameters: {'C': 0.5747411803128364}\n",
      "\n",
      "Method: NMF with rank: 5\n",
      "Mean validation score: 0.075 (std: 0.107)\n",
      "Fold-scores: [0.000, 0.000, 0.226\n",
      "Parameters: {'C': 0.013852643336564191}\n",
      "\n",
      "Method: NMF with rank: 5\n",
      "Mean validation score: 0.075 (std: 0.107)\n",
      "Fold-scores: [0.000, 0.000, 0.226\n",
      "Parameters: {'C': 0.4845615103443744}\n",
      "\n",
      "Method: NMF with rank: 5\n",
      "Mean validation score: 0.075 (std: 0.107)\n",
      "Fold-scores: [0.000, 0.000, 0.226\n",
      "Parameters: {'C': 0.7176124866764066}\n",
      "\n",
      "Best accuracy acheived:  0.13028169014084506\n",
      "* * * * * * * * * * * * * * * * * * * *\n",
      "Confusion matrix, without normalization\n",
      "[[ 74   0]\n",
      " [494   0]]\n"
     ]
    },
    {
     "data": {
      "image/png": "[encoded data removed]",
      "text/plain": [
       "<matplotlib.figure.Figure at 0x1cfd5efbf28>"
      ]
     },
     "metadata": {},
     "output_type": "display_data"
    },
    {
     "name": "stdout",
     "output_type": "stream",
     "text": [
      "--------------------------------------------------------------------\n",
      "--------------------------------------------------------------------\n",
      "--------------------------------------------------------------------\n"
     ]
    }
   ],
   "source": [
    "from sklearn.svm import SVC\n",
    "\n",
    "param_dist = {'C':np.random.uniform(0.001, 1, 30)}\n",
    "n_iter = 30\n",
    "svc = SVC(class_weight='balanced')\n",
    "svc_search = RandomizedSearchCV(svc, param_distributions=param_dist, \n",
    "                             n_iter=n_iter, scoring=f1_scorer,\n",
    "                             n_jobs=-1)\n",
    "\n",
    "svc_clf = TryAllThree(svc_search, reduced_data)\n",
    "svc_clf.fit_score()"
   ]
  },
  {
   "cell_type": "markdown",
   "metadata": {},
   "source": [
    "### K-Nearest Neighbors"
   ]
  },
  {
   "cell_type": "code",
   "execution_count": 63,
   "metadata": {},
   "outputs": [
    {
     "name": "stdout",
     "output_type": "stream",
     "text": [
      "Method: LSA with rank: 1\n",
      "Mean validation score: 0.315 (std: 0.063)\n",
      "Fold-scores: [0.240, 0.314, 0.393\n",
      "Parameters: {'n_neighbors': 2, 'weights': 'uniform'}\n",
      "\n",
      "Method: LSA with rank: 2\n",
      "Mean validation score: 0.257 (std: 0.106)\n",
      "Fold-scores: [0.121, 0.378, 0.273\n",
      "Parameters: {'n_neighbors': 1, 'weights': 'uniform'}\n",
      "\n",
      "Method: LSA with rank: 3\n",
      "Mean validation score: 0.247 (std: 0.127)\n",
      "Fold-scores: [0.074, 0.294, 0.375\n",
      "Parameters: {'n_neighbors': 4, 'weights': 'distance'}\n",
      "\n",
      "Method: LSA with rank: 4\n",
      "Mean validation score: 0.244 (std: 0.127)\n",
      "Fold-scores: [0.071, 0.286, 0.375\n",
      "Parameters: {'n_neighbors': 3, 'weights': 'distance'}\n",
      "\n",
      "Method: LSA with rank: 4\n",
      "Mean validation score: 0.244 (std: 0.127)\n",
      "Fold-scores: [0.071, 0.286, 0.375\n",
      "Parameters: {'n_neighbors': 3, 'weights': 'distance'}\n",
      "\n",
      "Method: LSA with rank: 4\n",
      "Mean validation score: 0.244 (std: 0.127)\n",
      "Fold-scores: [0.071, 0.286, 0.375\n",
      "Parameters: {'n_neighbors': 3, 'weights': 'distance'}\n",
      "\n",
      "Best accuracy acheived:  0.954225352112676\n",
      "* * * * * * * * * * * * * * * * * * * *\n",
      "Confusion matrix, without normalization\n",
      "[[ 74   0]\n",
      " [ 26 468]]\n"
     ]
    },
    {
     "data": {
      "image/png": "[encoded data removed]",
      "text/plain": [
       "<matplotlib.figure.Figure at 0x1cfd5efbda0>"
      ]
     },
     "metadata": {},
     "output_type": "display_data"
    },
    {
     "name": "stdout",
     "output_type": "stream",
     "text": [
      "--------------------------------------------------------------------\n",
      "--------------------------------------------------------------------\n",
      "--------------------------------------------------------------------\n",
      "Method: LDA with rank: 1\n",
      "Mean validation score: 0.170 (std: 0.055)\n",
      "Fold-scores: [0.245, 0.115, 0.151\n",
      "Parameters: {'n_neighbors': 1, 'weights': 'uniform'}\n",
      "\n",
      "Method: LDA with rank: 2\n",
      "Mean validation score: 0.147 (std: 0.024)\n",
      "Fold-scores: [0.176, 0.118, 0.146\n",
      "Parameters: {'n_neighbors': 14, 'weights': 'distance'}\n",
      "\n",
      "Method: LDA with rank: 2\n",
      "Mean validation score: 0.147 (std: 0.024)\n",
      "Fold-scores: [0.176, 0.118, 0.146\n",
      "Parameters: {'n_neighbors': 13, 'weights': 'distance'}\n",
      "\n",
      "Method: LDA with rank: 2\n",
      "Mean validation score: 0.147 (std: 0.024)\n",
      "Fold-scores: [0.176, 0.118, 0.146\n",
      "Parameters: {'n_neighbors': 14, 'weights': 'distance'}\n",
      "\n",
      "Method: LDA with rank: 5\n",
      "Mean validation score: 0.145 (std: 0.025)\n",
      "Fold-scores: [0.176, 0.114, 0.143\n",
      "Parameters: {'n_neighbors': 12, 'weights': 'distance'}\n",
      "\n",
      "Method: LDA with rank: 5\n",
      "Mean validation score: 0.145 (std: 0.025)\n",
      "Fold-scores: [0.176, 0.114, 0.143\n",
      "Parameters: {'n_neighbors': 12, 'weights': 'distance'}\n",
      "\n",
      "Method: LDA with rank: 5\n",
      "Mean validation score: 0.145 (std: 0.025)\n",
      "Fold-scores: [0.176, 0.114, 0.143\n",
      "Parameters: {'n_neighbors': 12, 'weights': 'distance'}\n",
      "\n",
      "Best accuracy acheived:  1.0\n",
      "* * * * * * * * * * * * * * * * * * * *\n",
      "Confusion matrix, without normalization\n",
      "[[ 74   0]\n",
      " [  0 494]]\n"
     ]
    },
    {
     "data": {
      "image/png": "[encoded data removed]",
      "text/plain": [
       "<matplotlib.figure.Figure at 0x1cfc517c7b8>"
      ]
     },
     "metadata": {},
     "output_type": "display_data"
    },
    {
     "name": "stdout",
     "output_type": "stream",
     "text": [
      "--------------------------------------------------------------------\n",
      "--------------------------------------------------------------------\n",
      "--------------------------------------------------------------------\n",
      "Method: NMF with rank: 1\n",
      "Mean validation score: 0.412 (std: 0.076)\n",
      "Fold-scores: [0.314, 0.500, 0.421\n",
      "Parameters: {'n_neighbors': 1, 'weights': 'distance'}\n",
      "\n",
      "Method: NMF with rank: 1\n",
      "Mean validation score: 0.412 (std: 0.076)\n",
      "Fold-scores: [0.314, 0.500, 0.421\n",
      "Parameters: {'n_neighbors': 2, 'weights': 'distance'}\n",
      "\n",
      "Method: NMF with rank: 1\n",
      "Mean validation score: 0.412 (std: 0.076)\n",
      "Fold-scores: [0.314, 0.500, 0.421\n",
      "Parameters: {'n_neighbors': 1, 'weights': 'distance'}\n",
      "\n",
      "Method: NMF with rank: 5\n",
      "Mean validation score: 0.353 (std: 0.004)\n",
      "Fold-scores: [0.350, 0.350, 0.359\n",
      "Parameters: {'n_neighbors': 3, 'weights': 'distance'}\n",
      "\n",
      "Best accuracy acheived:  1.0\n",
      "* * * * * * * * * * * * * * * * * * * *\n",
      "Confusion matrix, without normalization\n",
      "[[ 74   0]\n",
      " [  0 494]]\n"
     ]
    },
    {
     "data": {
      "image/png": "[encoded data removed]",
      "text/plain": [
       "<matplotlib.figure.Figure at 0x1cfd5efbf98>"
      ]
     },
     "metadata": {},
     "output_type": "display_data"
    },
    {
     "name": "stdout",
     "output_type": "stream",
     "text": [
      "--------------------------------------------------------------------\n",
      "--------------------------------------------------------------------\n",
      "--------------------------------------------------------------------\n"
     ]
    }
   ],
   "source": [
    "from sklearn.neighbors import KNeighborsClassifier\n",
    "from scipy.stats import randint as sp_randint\n",
    "\n",
    "param_dist = {'n_neighbors':sp_randint(1, 15),\n",
    "              'weights':['uniform', 'distance']}\n",
    "n_iter = 30\n",
    "knn = KNeighborsClassifier()\n",
    "knn_search = RandomizedSearchCV(knn, param_distributions=param_dist, \n",
    "                             n_iter=n_iter, scoring=f1_scorer,\n",
    "                             n_jobs=-1)\n",
    "\n",
    "knn_clf = TryAllThree(knn_search, reduced_data)\n",
    "knn_clf.fit_score()"
   ]
  },
  {
   "cell_type": "markdown",
   "metadata": {},
   "source": [
    "### Random Forest"
   ]
  },
  {
   "cell_type": "code",
   "execution_count": 64,
   "metadata": {},
   "outputs": [
    {
     "name": "stdout",
     "output_type": "stream",
     "text": [
      "Method: LSA with rank: 1\n",
      "Mean validation score: 0.221 (std: 0.109)\n",
      "Fold-scores: [0.074, 0.258, 0.333\n",
      "Parameters: {'n_estimators': 5}\n",
      "\n",
      "Method: LSA with rank: 2\n",
      "Mean validation score: 0.184 (std: 0.030)\n",
      "Fold-scores: [0.214, 0.194, 0.143\n",
      "Parameters: {'n_estimators': 8}\n",
      "\n",
      "Method: LSA with rank: 3\n",
      "Mean validation score: 0.168 (std: 0.077)\n",
      "Fold-scores: [0.062, 0.242, 0.200\n",
      "Parameters: {'n_estimators': 8}\n",
      "\n",
      "Method: LSA with rank: 4\n",
      "Mean validation score: 0.161 (std: 0.085)\n",
      "Fold-scores: [0.074, 0.133, 0.276\n",
      "Parameters: {'n_estimators': 12}\n",
      "\n",
      "Method: LSA with rank: 5\n",
      "Mean validation score: 0.156 (std: 0.015)\n",
      "Fold-scores: [0.143, 0.176, 0.148\n",
      "Parameters: {'n_estimators': 12}\n",
      "\n",
      "Best accuracy acheived:  0.971830985915493\n",
      "* * * * * * * * * * * * * * * * * * * *\n",
      "Confusion matrix, without normalization\n",
      "[[ 59  15]\n",
      " [  1 493]]\n"
     ]
    },
    {
     "data": {
      "image/png": "[encoded data removed]",
      "text/plain": [
       "<matplotlib.figure.Figure at 0x1cfe3ba8fd0>"
      ]
     },
     "metadata": {},
     "output_type": "display_data"
    },
    {
     "name": "stdout",
     "output_type": "stream",
     "text": [
      "--------------------------------------------------------------------\n",
      "--------------------------------------------------------------------\n",
      "--------------------------------------------------------------------\n",
      "Method: LDA with rank: 1\n",
      "Mean validation score: 0.203 (std: 0.082)\n",
      "Fold-scores: [0.311, 0.113, 0.185\n",
      "Parameters: {'n_estimators': 10}\n",
      "\n",
      "Method: LDA with rank: 2\n",
      "Mean validation score: 0.191 (std: 0.024)\n",
      "Fold-scores: [0.208, 0.157, 0.207\n",
      "Parameters: {'n_estimators': 9}\n",
      "\n",
      "Method: LDA with rank: 3\n",
      "Mean validation score: 0.188 (std: 0.052)\n",
      "Fold-scores: [0.235, 0.115, 0.214\n",
      "Parameters: {'n_estimators': 10}\n",
      "\n",
      "Method: LDA with rank: 4\n",
      "Mean validation score: 0.185 (std: 0.042)\n",
      "Fold-scores: [0.245, 0.157, 0.154\n",
      "Parameters: {'n_estimators': 10}\n",
      "\n",
      "Method: LDA with rank: 5\n",
      "Mean validation score: 0.182 (std: 0.047)\n",
      "Fold-scores: [0.245, 0.133, 0.167\n",
      "Parameters: {'n_estimators': 7}\n",
      "\n",
      "Best accuracy acheived:  0.9823943661971831\n",
      "* * * * * * * * * * * * * * * * * * * *\n",
      "Confusion matrix, without normalization\n",
      "[[ 69   5]\n",
      " [  5 489]]\n"
     ]
    },
    {
     "data": {
      "image/png": "[encoded data removed]",
      "text/plain": [
       "<matplotlib.figure.Figure at 0x1cfe3a793c8>"
      ]
     },
     "metadata": {},
     "output_type": "display_data"
    },
    {
     "name": "stdout",
     "output_type": "stream",
     "text": [
      "--------------------------------------------------------------------\n",
      "--------------------------------------------------------------------\n",
      "--------------------------------------------------------------------\n",
      "Method: NMF with rank: 1\n",
      "Mean validation score: 0.353 (std: 0.082)\n",
      "Fold-scores: [0.343, 0.457, 0.258\n",
      "Parameters: {'n_estimators': 7}\n",
      "\n",
      "Method: NMF with rank: 2\n",
      "Mean validation score: 0.329 (std: 0.017)\n",
      "Fold-scores: [0.312, 0.353, 0.323\n",
      "Parameters: {'n_estimators': 7}\n",
      "\n",
      "Method: NMF with rank: 3\n",
      "Mean validation score: 0.326 (std: 0.110)\n",
      "Fold-scores: [0.278, 0.478, 0.222\n",
      "Parameters: {'n_estimators': 5}\n",
      "\n",
      "Method: NMF with rank: 4\n",
      "Mean validation score: 0.315 (std: 0.054)\n",
      "Fold-scores: [0.356, 0.350, 0.238\n",
      "Parameters: {'n_estimators': 6}\n",
      "\n",
      "Method: NMF with rank: 5\n",
      "Mean validation score: 0.314 (std: 0.081)\n",
      "Fold-scores: [0.364, 0.378, 0.200\n",
      "Parameters: {'n_estimators': 14}\n",
      "\n",
      "Best accuracy acheived:  0.9806338028169014\n",
      "* * * * * * * * * * * * * * * * * * * *\n",
      "Confusion matrix, without normalization\n",
      "[[ 63  11]\n",
      " [  0 494]]\n"
     ]
    },
    {
     "data": {
      "image/png": "[encoded data removed]",
      "text/plain": [
       "<matplotlib.figure.Figure at 0x1d06c9582b0>"
      ]
     },
     "metadata": {},
     "output_type": "display_data"
    },
    {
     "name": "stdout",
     "output_type": "stream",
     "text": [
      "--------------------------------------------------------------------\n",
      "--------------------------------------------------------------------\n",
      "--------------------------------------------------------------------\n"
     ]
    }
   ],
   "source": [
    "from sklearn.ensemble import RandomForestClassifier\n",
    "from scipy.stats import randint as sp_randint\n",
    "\n",
    "param_dist = {'n_estimators':sp_randint(5, 20)}\n",
    "n_iter = 30\n",
    "rand_for = RandomForestClassifier(class_weight='balanced')\n",
    "rand_for_search = RandomizedSearchCV(rand_for, param_distributions=param_dist,\n",
    "                                     n_iter=n_iter, scoring=f1_scorer,\n",
    "                                     n_jobs=-1)\n",
    "\n",
    "rand_for_clf = TryAllThree(rand_for_search, reduced_data)\n",
    "rand_for_clf.fit_score()"
   ]
  },
  {
   "cell_type": "markdown",
   "metadata": {},
   "source": [
    "# Failure Analysis"
   ]
  },
  {
   "cell_type": "code",
   "execution_count": 81,
   "metadata": {},
   "outputs": [
    {
     "name": "stdout",
     "output_type": "stream",
     "text": [
      "Test score for lsa method: 0.5384615384615384\n"
     ]
    },
    {
     "ename": "TypeError",
     "evalue": "confusion() missing 1 required positional argument: 'y'",
     "output_type": "error",
     "traceback": [
      "\u001b[1;31m---------------------------------------------------------------------------\u001b[0m",
      "\u001b[1;31mTypeError\u001b[0m                                 Traceback (most recent call last)",
      "\u001b[1;32m<ipython-input-81-9493cb26b184>\u001b[0m in \u001b[0;36m<module>\u001b[1;34m()\u001b[0m\n\u001b[1;32m----> 1\u001b[1;33m \u001b[0mlin_svc_clf\u001b[0m\u001b[1;33m.\u001b[0m\u001b[0mscore\u001b[0m\u001b[1;33m(\u001b[0m\u001b[1;33m)\u001b[0m\u001b[1;33m\u001b[0m\u001b[0m\n\u001b[0m",
      "\u001b[1;32m<ipython-input-71-e139e21c4620>\u001b[0m in \u001b[0;36mscore\u001b[1;34m(self)\u001b[0m\n\u001b[0;32m     38\u001b[0m         \u001b[1;32mfor\u001b[0m \u001b[0mi\u001b[0m\u001b[1;33m,\u001b[0m \u001b[0mresult\u001b[0m \u001b[1;32min\u001b[0m \u001b[0menumerate\u001b[0m\u001b[1;33m(\u001b[0m\u001b[0mself\u001b[0m\u001b[1;33m.\u001b[0m\u001b[0mresults\u001b[0m\u001b[1;33m)\u001b[0m\u001b[1;33m:\u001b[0m\u001b[1;33m\u001b[0m\u001b[0m\n\u001b[0;32m     39\u001b[0m             \u001b[0mprint\u001b[0m\u001b[1;33m(\u001b[0m\u001b[1;34m'Test score for {0} method: {1}'\u001b[0m\u001b[1;33m.\u001b[0m\u001b[0mformat\u001b[0m\u001b[1;33m(\u001b[0m\u001b[0mresult\u001b[0m\u001b[1;33m[\u001b[0m\u001b[1;36m0\u001b[0m\u001b[1;33m]\u001b[0m\u001b[1;33m,\u001b[0m \u001b[0mresult\u001b[0m\u001b[1;33m[\u001b[0m\u001b[1;36m1\u001b[0m\u001b[1;33m]\u001b[0m\u001b[1;33m)\u001b[0m\u001b[1;33m)\u001b[0m\u001b[1;33m\u001b[0m\u001b[0m\n\u001b[1;32m---> 40\u001b[1;33m             \u001b[0mself\u001b[0m\u001b[1;33m.\u001b[0m\u001b[0mconfusion\u001b[0m\u001b[1;33m(\u001b[0m\u001b[0mself\u001b[0m\u001b[1;33m.\u001b[0m\u001b[0mresults_confusion\u001b[0m\u001b[1;33m[\u001b[0m\u001b[0mi\u001b[0m\u001b[1;33m]\u001b[0m\u001b[1;33m,\u001b[0m \u001b[1;33m[\u001b[0m\u001b[1;34m'pro'\u001b[0m\u001b[1;33m,\u001b[0m \u001b[1;34m'student'\u001b[0m\u001b[1;33m]\u001b[0m\u001b[1;33m)\u001b[0m\u001b[1;33m\u001b[0m\u001b[0m\n\u001b[0m\u001b[0;32m     41\u001b[0m \u001b[1;33m\u001b[0m\u001b[0m\n\u001b[0;32m     42\u001b[0m     \u001b[1;32mdef\u001b[0m \u001b[0mreport\u001b[0m\u001b[1;33m(\u001b[0m\u001b[0mself\u001b[0m\u001b[1;33m,\u001b[0m \u001b[0mresults\u001b[0m\u001b[1;33m,\u001b[0m \u001b[0mmethod\u001b[0m\u001b[1;33m,\u001b[0m \u001b[0mn_top\u001b[0m\u001b[1;33m=\u001b[0m\u001b[1;36m5\u001b[0m\u001b[1;33m)\u001b[0m\u001b[1;33m:\u001b[0m\u001b[1;33m\u001b[0m\u001b[0m\n",
      "\u001b[1;31mTypeError\u001b[0m: confusion() missing 1 required positional argument: 'y'"
     ]
    }
   ],
   "source": [
    "lin_svc_clf.score()"
   ]
  },
  {
   "cell_type": "code",
   "execution_count": 67,
   "metadata": {},
   "outputs": [
    {
     "name": "stdout",
     "output_type": "stream",
     "text": [
      "Test score for lsa method: 0.5294117647058824\n",
      "Test score for lda method: 0.22499999999999998\n",
      "Test score for nmf method: 0.22499999999999998\n"
     ]
    }
   ],
   "source": [
    "svc_clf.score()"
   ]
  },
  {
   "cell_type": "code",
   "execution_count": 68,
   "metadata": {},
   "outputs": [
    {
     "name": "stdout",
     "output_type": "stream",
     "text": [
      "Test score for lsa method: 0.6086956521739131\n",
      "Test score for lda method: 0.17647058823529413\n",
      "Test score for nmf method: 0.3243243243243243\n"
     ]
    }
   ],
   "source": [
    "knn_clf.score()"
   ]
  },
  {
   "cell_type": "code",
   "execution_count": 70,
   "metadata": {},
   "outputs": [
    {
     "name": "stdout",
     "output_type": "stream",
     "text": [
      "Test score for lsa method: 0.2857142857142857\n",
      "Test score for lda method: 0.17647058823529413\n",
      "Test score for nmf method: 0.4\n"
     ]
    }
   ],
   "source": [
    "rand_for_clf.score()"
   ]
  },
  {
   "cell_type": "markdown",
   "metadata": {},
   "source": [
    "# Conclusions\n",
    "Self-explanatory"
   ]
  },
  {
   "cell_type": "code",
   "execution_count": 65,
   "metadata": {},
   "outputs": [],
   "source": [
    "import winsound\n",
    "frequency = np.random.randint(2000, 4000, 50)  # Set Frequency To 2500 Hertz\n",
    "duration = 25  # Set Duration To 1000 ms == 1 second\n",
    "for each in frequency:\n",
    "    winsound.Beep(each, duration)"
   ]
  },
  {
   "cell_type": "markdown",
   "metadata": {},
   "source": [
    "# Header"
   ]
  },
  {
   "cell_type": "code",
   "execution_count": null,
   "metadata": {},
   "outputs": [],
   "source": []
  },
  {
   "cell_type": "code",
   "execution_count": null,
   "metadata": {},
   "outputs": [],
   "source": []
  },
  {
   "cell_type": "code",
   "execution_count": null,
   "metadata": {},
   "outputs": [],
   "source": []
  },
  {
   "cell_type": "code",
   "execution_count": null,
   "metadata": {},
   "outputs": [],
   "source": []
  },
  {
   "cell_type": "code",
   "execution_count": null,
   "metadata": {},
   "outputs": [],
   "source": []
  },
  {
   "cell_type": "code",
   "execution_count": null,
   "metadata": {},
   "outputs": [],
   "source": []
  },
  {
   "cell_type": "code",
   "execution_count": null,
   "metadata": {},
   "outputs": [],
   "source": []
  },
  {
   "cell_type": "code",
   "execution_count": null,
   "metadata": {},
   "outputs": [],
   "source": []
  },
  {
   "cell_type": "code",
   "execution_count": null,
   "metadata": {},
   "outputs": [],
   "source": []
  },
  {
   "cell_type": "code",
   "execution_count": null,
   "metadata": {},
   "outputs": [],
   "source": []
  },
  {
   "cell_type": "code",
   "execution_count": null,
   "metadata": {},
   "outputs": [],
   "source": []
  }
 ],
 "metadata": {
  "kernelspec": {
   "display_name": "Python 3",
   "language": "python",
   "name": "python3"
  },
  "language_info": {
   "codemirror_mode": {
    "name": "ipython",
    "version": 3
   },
   "file_extension": ".py",
   "mimetype": "text/x-python",
   "name": "python",
   "nbconvert_exporter": "python",
   "pygments_lexer": "ipython3",
   "version": "3.6.4"
  }
 },
 "nbformat": 4,
 "nbformat_minor": 2
}
