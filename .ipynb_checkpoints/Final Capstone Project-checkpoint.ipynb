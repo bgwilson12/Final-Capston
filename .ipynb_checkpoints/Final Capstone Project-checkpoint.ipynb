{
 "cells": [
  {
   "cell_type": "code",
   "execution_count": 1,
   "metadata": {},
   "outputs": [],
   "source": [
    "import pandas as pd\n",
    "import numpy as np\n",
    "import matplotlib.pyplot as plt\n",
    "import pickle\n",
    "import spacy\n",
    "import re"
   ]
  },
  {
   "cell_type": "markdown",
   "metadata": {},
   "source": [
    "# Introduction"
   ]
  },
  {
   "cell_type": "markdown",
   "metadata": {},
   "source": [
    "# Wrangling the Data\n",
    "The data used in this project comes from two Scrapy Spiders that I wrote for the [UK Essays](https://www.ukessays.com) website. They are called UK_pro_scraper and UK_student_scraper and can be found in the same github repository as this one."
   ]
  },
  {
   "cell_type": "markdown",
   "metadata": {},
   "source": [
    "### Preprocessing the UK-Student Essay Data\n",
    "I've got all of the student data I could ever need, with thousands of student submitted essays to choose from. I should be able to clean them all at once. I will also make sure that this step is done in a pipeline sort of way in case I need to scrape more data. This first spider crawls a list of subjects, and each subject contains a list of links to student submissions. The student submission pages contained the entire essay. So, my student crawler went 3 pages deep for each essay. It is also important to note here that the student crawler only selected three categories: Nursing, Law, and Business. This is because the number of professional samples (samples written by the site's paid authors) was limited to just these three subjects. Fortunately, these are the three most popular subjects and there are thousands of student submissions to choose from for each essay. After each scraper was run, I pulled its json output into a dataframe and used pickle to save it. This allows me to run the scraper and my analysis separately."
   ]
  },
  {
   "cell_type": "code",
   "execution_count": 2,
   "metadata": {},
   "outputs": [
    {
     "name": "stdout",
     "output_type": "stream",
     "text": [
      "Number of student essays: 734\n"
     ]
    },
    {
     "data": {
      "text/html": [
       "<div>\n",
       "<style scoped>\n",
       "    .dataframe tbody tr th:only-of-type {\n",
       "        vertical-align: middle;\n",
       "    }\n",
       "\n",
       "    .dataframe tbody tr th {\n",
       "        vertical-align: top;\n",
       "    }\n",
       "\n",
       "    .dataframe thead th {\n",
       "        text-align: right;\n",
       "    }\n",
       "</style>\n",
       "<table border=\"1\" class=\"dataframe\">\n",
       "  <thead>\n",
       "    <tr style=\"text-align: right;\">\n",
       "      <th></th>\n",
       "      <th>subject</th>\n",
       "      <th>text</th>\n",
       "      <th>title</th>\n",
       "      <th>student</th>\n",
       "      <th>joined</th>\n",
       "    </tr>\n",
       "  </thead>\n",
       "  <tbody>\n",
       "    <tr>\n",
       "      <th>0</th>\n",
       "      <td>Nursing</td>\n",
       "      <td>[\\n, \\n, \\n, \\n, \\n, Total Word Count: , This ...</td>\n",
       "      <td>Inquiry into Patient Death</td>\n",
       "      <td>1</td>\n",
       "      <td>\\n \\n \\n \\n \\n Total Word Count:  This report ...</td>\n",
       "    </tr>\n",
       "    <tr>\n",
       "      <th>1</th>\n",
       "      <td>Nursing</td>\n",
       "      <td>[\\n, \\n, \\n, \\n, \\n, Leadership has been descr...</td>\n",
       "      <td>Motivation Skills Development Plan for Nursing</td>\n",
       "      <td>1</td>\n",
       "      <td>\\n \\n \\n \\n \\n Leadership has been described a...</td>\n",
       "    </tr>\n",
       "    <tr>\n",
       "      <th>2</th>\n",
       "      <td>Nursing</td>\n",
       "      <td>[\\n, \\n, \\n, \\n, \\n, Depression among pregnant...</td>\n",
       "      <td>Depression among Pregnant Adolescents: Literat...</td>\n",
       "      <td>1</td>\n",
       "      <td>\\n \\n \\n \\n \\n Depression among pregnant adole...</td>\n",
       "    </tr>\n",
       "    <tr>\n",
       "      <th>3</th>\n",
       "      <td>Nursing</td>\n",
       "      <td>[\\n, \\n, \\n, \\n, \\n, Davidson, E., Daly, J., B...</td>\n",
       "      <td>Family Support Programme for ICU Patient Relat...</td>\n",
       "      <td>1</td>\n",
       "      <td>\\n \\n \\n \\n \\n Davidson, E., Daly, J., Brady, ...</td>\n",
       "    </tr>\n",
       "    <tr>\n",
       "      <th>4</th>\n",
       "      <td>Nursing</td>\n",
       "      <td>[\\n, \\n, \\n, \\n, \\n, Idiopathic pulmonary fibr...</td>\n",
       "      <td>Idiopathic Pulmonary Fibrosis: An Overview</td>\n",
       "      <td>1</td>\n",
       "      <td>\\n \\n \\n \\n \\n Idiopathic pulmonary fibrosis (...</td>\n",
       "    </tr>\n",
       "  </tbody>\n",
       "</table>\n",
       "</div>"
      ],
      "text/plain": [
       "    subject                                               text  \\\n",
       "0  Nursing   [\\n, \\n, \\n, \\n, \\n, Total Word Count: , This ...   \n",
       "1  Nursing   [\\n, \\n, \\n, \\n, \\n, Leadership has been descr...   \n",
       "2  Nursing   [\\n, \\n, \\n, \\n, \\n, Depression among pregnant...   \n",
       "3  Nursing   [\\n, \\n, \\n, \\n, \\n, Davidson, E., Daly, J., B...   \n",
       "4  Nursing   [\\n, \\n, \\n, \\n, \\n, Idiopathic pulmonary fibr...   \n",
       "\n",
       "                                               title  student  \\\n",
       "0                         Inquiry into Patient Death        1   \n",
       "1     Motivation Skills Development Plan for Nursing        1   \n",
       "2  Depression among Pregnant Adolescents: Literat...        1   \n",
       "3  Family Support Programme for ICU Patient Relat...        1   \n",
       "4         Idiopathic Pulmonary Fibrosis: An Overview        1   \n",
       "\n",
       "                                              joined  \n",
       "0  \\n \\n \\n \\n \\n Total Word Count:  This report ...  \n",
       "1  \\n \\n \\n \\n \\n Leadership has been described a...  \n",
       "2  \\n \\n \\n \\n \\n Depression among pregnant adole...  \n",
       "3  \\n \\n \\n \\n \\n Davidson, E., Daly, J., Brady, ...  \n",
       "4  \\n \\n \\n \\n \\n Idiopathic pulmonary fibrosis (...  "
      ]
     },
     "execution_count": 2,
     "metadata": {},
     "output_type": "execute_result"
    }
   ],
   "source": [
    "df_student = pickle.load(open('../uk_students.pkl', 'rb'))\n",
    "print('Number of student essays:', len(df_student))\n",
    "\n",
    "# We can use this column to look at some summary statistics\n",
    "df_student['joined'] = ([' '.join(each) for each in df_student.loc[:, 'text']])\n",
    "\n",
    "df_student.head()"
   ]
  },
  {
   "cell_type": "code",
   "execution_count": 3,
   "metadata": {},
   "outputs": [
    {
     "data": {
      "text/plain": [
       "count      734.000000\n",
       "mean     12997.242507\n",
       "std       9506.293305\n",
       "min         87.000000\n",
       "25%       7777.750000\n",
       "50%      12173.000000\n",
       "75%      17417.750000\n",
       "max      61642.000000\n",
       "dtype: float64"
      ]
     },
     "execution_count": 3,
     "metadata": {},
     "output_type": "execute_result"
    }
   ],
   "source": [
    "lengths = pd.Series([len(each) for each in df_student.joined])\n",
    "df_student['lengths'] = lengths\n",
    "lengths.describe()"
   ]
  },
  {
   "cell_type": "markdown",
   "metadata": {},
   "source": [
    "Looks like we have some small essays"
   ]
  },
  {
   "cell_type": "code",
   "execution_count": 4,
   "metadata": {},
   "outputs": [
    {
     "data": {
      "image/png": "[encoded data removed]",
      "text/plain": [
       "<matplotlib.figure.Figure at 0x26a1fdb07b8>"
      ]
     },
     "metadata": {},
     "output_type": "display_data"
    },
    {
     "data": {
      "image/png": "[encoded data removed]",
      "text/plain": [
       "<matplotlib.figure.Figure at 0x26a1fdb0710>"
      ]
     },
     "metadata": {},
     "output_type": "display_data"
    }
   ],
   "source": [
    "# I'm using a lot of bins because it is easier to see that there are a lot of very tiny essays\n",
    "plt.hist(df_student.lengths, bins=50)\n",
    "plt.title('Essay Length Frequency')\n",
    "plt.xlabel('Number of Characters')\n",
    "plt.ylabel('Frequency')\n",
    "plt.show()\n",
    "\n",
    "# Let's look a little closer at the left side\n",
    "plt.hist(sorted(lengths)[:70], bins=10)\n",
    "plt.title('Essay Length Frequency (Left Tail)')\n",
    "plt.xlabel('Number of Characters')\n",
    "plt.ylabel('Frequency')\n",
    "# plt.xlim([0, 1000])\n",
    "plt.show()"
   ]
  },
  {
   "cell_type": "markdown",
   "metadata": {},
   "source": [
    "Let's go ahead and throw those small essays out"
   ]
  },
  {
   "cell_type": "code",
   "execution_count": 5,
   "metadata": {},
   "outputs": [],
   "source": [
    "df_student = df_student[df_student['lengths'] > 1000]\n",
    "df_student.reset_index(drop=True, inplace=True)"
   ]
  },
  {
   "cell_type": "code",
   "execution_count": 6,
   "metadata": {},
   "outputs": [
    {
     "data": {
      "image/png": "[encoded data removed]",
      "text/plain": [
       "<matplotlib.figure.Figure at 0x26a1fdb0198>"
      ]
     },
     "metadata": {},
     "output_type": "display_data"
    }
   ],
   "source": [
    "# I'm using a lot of bins because it is easier to see that there are a lot of very tiny essays\n",
    "plt.hist(df_student.lengths, bins=50)\n",
    "plt.title('Essay Length Frequency')\n",
    "plt.xlabel('Number of Characters')\n",
    "plt.ylabel('Frequency')\n",
    "plt.show()"
   ]
  },
  {
   "cell_type": "code",
   "execution_count": 7,
   "metadata": {},
   "outputs": [
    {
     "data": {
      "text/plain": [
       "'\\n \\n \\n \\n \\n Total Word Count:  This report has been prepared for the Bunbury Regional Hospital’s quality and safety committee, following the death of Josephine Wilma Troy on 14 February 2006. Mrs. Troy was a 63 year old lady who had been diagnosed with leukemia in 2004 and was treated with chemotherapy initially. The diagnosis was later refined to prolymphocytic leukemia, a rare chronic leukemia, as Mrs. Troy’s leukemia persisted in her bone marrow after an initial course of chemotherapy. Disease together with chemotherapy compromised her blood production capacity. She had low white blood count, low platelet count and low hemoglobin and was susceptible to infection and febrile neutropenia. Mrs. Troy had been issued with febrile neutropenia card to warn health care workers regarding her susceptibility to febrile neutropenia. On 12/02/2006, Mrs. Troy had a temperature of 38°C and attended Bunbury Regional Hospital with her card. She was started on antibiotic and a full blood screen was ord'"
      ]
     },
     "execution_count": 7,
     "metadata": {},
     "output_type": "execute_result"
    }
   ],
   "source": [
    "df_student.joined[0][:1000]"
   ]
  },
  {
   "cell_type": "markdown",
   "metadata": {},
   "source": [
    "The paragraphs are already separated for us, there are always 5 newlines at the beginning (you'll have to take my word for it), and the last two paragraphs are always a couple random characters and a statement about exporting the document. This will be really easy to clean up."
   ]
  },
  {
   "cell_type": "code",
   "execution_count": 8,
   "metadata": {},
   "outputs": [
    {
     "data": {
      "text/html": [
       "<div>\n",
       "<style scoped>\n",
       "    .dataframe tbody tr th:only-of-type {\n",
       "        vertical-align: middle;\n",
       "    }\n",
       "\n",
       "    .dataframe tbody tr th {\n",
       "        vertical-align: top;\n",
       "    }\n",
       "\n",
       "    .dataframe thead th {\n",
       "        text-align: right;\n",
       "    }\n",
       "</style>\n",
       "<table border=\"1\" class=\"dataframe\">\n",
       "  <thead>\n",
       "    <tr style=\"text-align: right;\">\n",
       "      <th></th>\n",
       "      <th>subject</th>\n",
       "      <th>text</th>\n",
       "      <th>title</th>\n",
       "      <th>student</th>\n",
       "      <th>joined</th>\n",
       "      <th>lengths</th>\n",
       "    </tr>\n",
       "  </thead>\n",
       "  <tbody>\n",
       "    <tr>\n",
       "      <th>0</th>\n",
       "      <td>Nursing</td>\n",
       "      <td>[Total Word Count: , This report has been prep...</td>\n",
       "      <td>Inquiry into Patient Death</td>\n",
       "      <td>1</td>\n",
       "      <td>\\n \\n \\n \\n \\n Total Word Count:  This report ...</td>\n",
       "      <td>8974</td>\n",
       "    </tr>\n",
       "    <tr>\n",
       "      <th>1</th>\n",
       "      <td>Nursing</td>\n",
       "      <td>[Leadership has been described as \"a relationa...</td>\n",
       "      <td>Motivation Skills Development Plan for Nursing</td>\n",
       "      <td>1</td>\n",
       "      <td>\\n \\n \\n \\n \\n Leadership has been described a...</td>\n",
       "      <td>18285</td>\n",
       "    </tr>\n",
       "    <tr>\n",
       "      <th>2</th>\n",
       "      <td>Nursing</td>\n",
       "      <td>[Depression among pregnant adolescents as well...</td>\n",
       "      <td>Depression among Pregnant Adolescents: Literat...</td>\n",
       "      <td>1</td>\n",
       "      <td>\\n \\n \\n \\n \\n Depression among pregnant adole...</td>\n",
       "      <td>15238</td>\n",
       "    </tr>\n",
       "    <tr>\n",
       "      <th>3</th>\n",
       "      <td>Nursing</td>\n",
       "      <td>[Davidson, E., Daly, J., Brady, R. &amp; Higgins, ...</td>\n",
       "      <td>Family Support Programme for ICU Patient Relat...</td>\n",
       "      <td>1</td>\n",
       "      <td>\\n \\n \\n \\n \\n Davidson, E., Daly, J., Brady, ...</td>\n",
       "      <td>10071</td>\n",
       "    </tr>\n",
       "    <tr>\n",
       "      <th>4</th>\n",
       "      <td>Nursing</td>\n",
       "      <td>[Idiopathic pulmonary fibrosis (IPF) is a deva...</td>\n",
       "      <td>Idiopathic Pulmonary Fibrosis: An Overview</td>\n",
       "      <td>1</td>\n",
       "      <td>\\n \\n \\n \\n \\n Idiopathic pulmonary fibrosis (...</td>\n",
       "      <td>16981</td>\n",
       "    </tr>\n",
       "  </tbody>\n",
       "</table>\n",
       "</div>"
      ],
      "text/plain": [
       "    subject                                               text  \\\n",
       "0  Nursing   [Total Word Count: , This report has been prep...   \n",
       "1  Nursing   [Leadership has been described as \"a relationa...   \n",
       "2  Nursing   [Depression among pregnant adolescents as well...   \n",
       "3  Nursing   [Davidson, E., Daly, J., Brady, R. & Higgins, ...   \n",
       "4  Nursing   [Idiopathic pulmonary fibrosis (IPF) is a deva...   \n",
       "\n",
       "                                               title  student  \\\n",
       "0                         Inquiry into Patient Death        1   \n",
       "1     Motivation Skills Development Plan for Nursing        1   \n",
       "2  Depression among Pregnant Adolescents: Literat...        1   \n",
       "3  Family Support Programme for ICU Patient Relat...        1   \n",
       "4         Idiopathic Pulmonary Fibrosis: An Overview        1   \n",
       "\n",
       "                                              joined  lengths  \n",
       "0  \\n \\n \\n \\n \\n Total Word Count:  This report ...     8974  \n",
       "1  \\n \\n \\n \\n \\n Leadership has been described a...    18285  \n",
       "2  \\n \\n \\n \\n \\n Depression among pregnant adole...    15238  \n",
       "3  \\n \\n \\n \\n \\n Davidson, E., Daly, J., Brady, ...    10071  \n",
       "4  \\n \\n \\n \\n \\n Idiopathic pulmonary fibrosis (...    16981  "
      ]
     },
     "execution_count": 8,
     "metadata": {},
     "output_type": "execute_result"
    }
   ],
   "source": [
    "for i, text in enumerate(df_student.loc[:, 'text']):\n",
    "    df_student.at[i, 'text'] = text[5:-2]\n",
    "df_student.head()"
   ]
  },
  {
   "cell_type": "markdown",
   "metadata": {},
   "source": [
    "### Preprocessing the UK-Professional Essay Samples\n",
    "As mentioned before, there are only about 30 samples posted on their website in thier three most popular categories. We will be dealing with an imbalanced dataset, but we can deal with that when it comes time to model. Let's clean up the data and get some algorithms running."
   ]
  },
  {
   "cell_type": "code",
   "execution_count": 9,
   "metadata": {},
   "outputs": [
    {
     "name": "stdout",
     "output_type": "stream",
     "text": [
      "(33, 4)\n"
     ]
    },
    {
     "data": {
      "text/html": [
       "<div>\n",
       "<style scoped>\n",
       "    .dataframe tbody tr th:only-of-type {\n",
       "        vertical-align: middle;\n",
       "    }\n",
       "\n",
       "    .dataframe tbody tr th {\n",
       "        vertical-align: top;\n",
       "    }\n",
       "\n",
       "    .dataframe thead th {\n",
       "        text-align: right;\n",
       "    }\n",
       "</style>\n",
       "<table border=\"1\" class=\"dataframe\">\n",
       "  <thead>\n",
       "    <tr style=\"text-align: right;\">\n",
       "      <th></th>\n",
       "      <th>subject</th>\n",
       "      <th>text</th>\n",
       "      <th>title</th>\n",
       "      <th>student</th>\n",
       "    </tr>\n",
       "  </thead>\n",
       "  <tbody>\n",
       "    <tr>\n",
       "      <th>0</th>\n",
       "      <td>nursing</td>\n",
       "      <td>[\\n, Discuss the impact of living with a long ...</td>\n",
       "      <td>Discuss the impact of living with a long term ...</td>\n",
       "      <td>0</td>\n",
       "    </tr>\n",
       "    <tr>\n",
       "      <th>1</th>\n",
       "      <td>nursing</td>\n",
       "      <td>[\\n, What is the Impact of Cutting down Nursin...</td>\n",
       "      <td>What is the Impact of Cutting down Nursing Stu...</td>\n",
       "      <td>0</td>\n",
       "    </tr>\n",
       "    <tr>\n",
       "      <th>2</th>\n",
       "      <td>nursing</td>\n",
       "      <td>[\\n, What is the Impact of Cutting down Nursin...</td>\n",
       "      <td>What is the Impact of Cutting down Nursing Stu...</td>\n",
       "      <td>0</td>\n",
       "    </tr>\n",
       "    <tr>\n",
       "      <th>3</th>\n",
       "      <td>nursing</td>\n",
       "      <td>[\\n, Discuss what effective leadership is and ...</td>\n",
       "      <td>Discuss what effective leadership is and argue...</td>\n",
       "      <td>0</td>\n",
       "    </tr>\n",
       "    <tr>\n",
       "      <th>4</th>\n",
       "      <td>law</td>\n",
       "      <td>[\\n, Case: Re: A (Children) (Conjoined Twins: ...</td>\n",
       "      <td>Case: Re: A (Children) (Conjoined Twins: Medic...</td>\n",
       "      <td>0</td>\n",
       "    </tr>\n",
       "  </tbody>\n",
       "</table>\n",
       "</div>"
      ],
      "text/plain": [
       "   subject                                               text  \\\n",
       "0  nursing  [\\n, Discuss the impact of living with a long ...   \n",
       "1  nursing  [\\n, What is the Impact of Cutting down Nursin...   \n",
       "2  nursing  [\\n, What is the Impact of Cutting down Nursin...   \n",
       "3  nursing  [\\n, Discuss what effective leadership is and ...   \n",
       "4      law  [\\n, Case: Re: A (Children) (Conjoined Twins: ...   \n",
       "\n",
       "                                               title  student  \n",
       "0  Discuss the impact of living with a long term ...        0  \n",
       "1  What is the Impact of Cutting down Nursing Stu...        0  \n",
       "2  What is the Impact of Cutting down Nursing Stu...        0  \n",
       "3  Discuss what effective leadership is and argue...        0  \n",
       "4  Case: Re: A (Children) (Conjoined Twins: Medic...        0  "
      ]
     },
     "execution_count": 9,
     "metadata": {},
     "output_type": "execute_result"
    }
   ],
   "source": [
    "# Pull in the dataframe produced by our UK_pro_scraper notebook\n",
    "df_pro = pickle.load(open('../uk_pro.pkl', 'rb'))\n",
    "print(df_pro.shape)\n",
    "df_pro.head()"
   ]
  },
  {
   "cell_type": "code",
   "execution_count": 10,
   "metadata": {},
   "outputs": [
    {
     "data": {
      "text/html": [
       "<div>\n",
       "<style scoped>\n",
       "    .dataframe tbody tr th:only-of-type {\n",
       "        vertical-align: middle;\n",
       "    }\n",
       "\n",
       "    .dataframe tbody tr th {\n",
       "        vertical-align: top;\n",
       "    }\n",
       "\n",
       "    .dataframe thead th {\n",
       "        text-align: right;\n",
       "    }\n",
       "</style>\n",
       "<table border=\"1\" class=\"dataframe\">\n",
       "  <thead>\n",
       "    <tr style=\"text-align: right;\">\n",
       "      <th></th>\n",
       "      <th>subject</th>\n",
       "      <th>text</th>\n",
       "      <th>title</th>\n",
       "      <th>student</th>\n",
       "      <th>joined</th>\n",
       "      <th>lengths</th>\n",
       "    </tr>\n",
       "  </thead>\n",
       "  <tbody>\n",
       "    <tr>\n",
       "      <th>0</th>\n",
       "      <td>nursing</td>\n",
       "      <td>[\\n, Discuss the impact of living with a long ...</td>\n",
       "      <td>Discuss the impact of living with a long term ...</td>\n",
       "      <td>0</td>\n",
       "      <td>\\n Discuss the impact of living with a long te...</td>\n",
       "      <td>17674</td>\n",
       "    </tr>\n",
       "    <tr>\n",
       "      <th>1</th>\n",
       "      <td>nursing</td>\n",
       "      <td>[\\n, What is the Impact of Cutting down Nursin...</td>\n",
       "      <td>What is the Impact of Cutting down Nursing Stu...</td>\n",
       "      <td>0</td>\n",
       "      <td>\\n What is the Impact of Cutting down Nursing ...</td>\n",
       "      <td>18948</td>\n",
       "    </tr>\n",
       "    <tr>\n",
       "      <th>2</th>\n",
       "      <td>nursing</td>\n",
       "      <td>[\\n, What is the Impact of Cutting down Nursin...</td>\n",
       "      <td>What is the Impact of Cutting down Nursing Stu...</td>\n",
       "      <td>0</td>\n",
       "      <td>\\n What is the Impact of Cutting down Nursing ...</td>\n",
       "      <td>15455</td>\n",
       "    </tr>\n",
       "    <tr>\n",
       "      <th>3</th>\n",
       "      <td>nursing</td>\n",
       "      <td>[\\n, Discuss what effective leadership is and ...</td>\n",
       "      <td>Discuss what effective leadership is and argue...</td>\n",
       "      <td>0</td>\n",
       "      <td>\\n Discuss what effective leadership is and ar...</td>\n",
       "      <td>16561</td>\n",
       "    </tr>\n",
       "    <tr>\n",
       "      <th>4</th>\n",
       "      <td>law</td>\n",
       "      <td>[\\n, Case: Re: A (Children) (Conjoined Twins: ...</td>\n",
       "      <td>Case: Re: A (Children) (Conjoined Twins: Medic...</td>\n",
       "      <td>0</td>\n",
       "      <td>\\n Case: Re: A (Children) (Conjoined Twins: Me...</td>\n",
       "      <td>11072</td>\n",
       "    </tr>\n",
       "  </tbody>\n",
       "</table>\n",
       "</div>"
      ],
      "text/plain": [
       "   subject                                               text  \\\n",
       "0  nursing  [\\n, Discuss the impact of living with a long ...   \n",
       "1  nursing  [\\n, What is the Impact of Cutting down Nursin...   \n",
       "2  nursing  [\\n, What is the Impact of Cutting down Nursin...   \n",
       "3  nursing  [\\n, Discuss what effective leadership is and ...   \n",
       "4      law  [\\n, Case: Re: A (Children) (Conjoined Twins: ...   \n",
       "\n",
       "                                               title  student  \\\n",
       "0  Discuss the impact of living with a long term ...        0   \n",
       "1  What is the Impact of Cutting down Nursing Stu...        0   \n",
       "2  What is the Impact of Cutting down Nursing Stu...        0   \n",
       "3  Discuss what effective leadership is and argue...        0   \n",
       "4  Case: Re: A (Children) (Conjoined Twins: Medic...        0   \n",
       "\n",
       "                                              joined  lengths  \n",
       "0  \\n Discuss the impact of living with a long te...    17674  \n",
       "1  \\n What is the Impact of Cutting down Nursing ...    18948  \n",
       "2  \\n What is the Impact of Cutting down Nursing ...    15455  \n",
       "3  \\n Discuss what effective leadership is and ar...    16561  \n",
       "4  \\n Case: Re: A (Children) (Conjoined Twins: Me...    11072  "
      ]
     },
     "execution_count": 10,
     "metadata": {},
     "output_type": "execute_result"
    }
   ],
   "source": [
    "# Like before, let's see if any of these are too small\n",
    "df_pro['joined'] = df_pro.text.map(' '.join) # I just (re)learned map. Map and I are going to be friends.\n",
    "df_pro['lengths'] = df_pro.joined.map(len)\n",
    "df_pro.head()"
   ]
  },
  {
   "cell_type": "code",
   "execution_count": 11,
   "metadata": {},
   "outputs": [
    {
     "data": {
      "image/png": "[encoded data removed]",
      "text/plain": [
       "<matplotlib.figure.Figure at 0x26a203965f8>"
      ]
     },
     "metadata": {},
     "output_type": "display_data"
    }
   ],
   "source": [
    "plt.hist(df_pro.lengths, bins=50)\n",
    "plt.title('Essay Length Frequency')\n",
    "plt.xlabel('Number of Charecters')\n",
    "plt.ylabel('Frequency')\n",
    "plt.show()"
   ]
  },
  {
   "cell_type": "markdown",
   "metadata": {},
   "source": [
    "I think that everything in this dataset is worth keeping, especially because it is so small."
   ]
  },
  {
   "cell_type": "code",
   "execution_count": 12,
   "metadata": {},
   "outputs": [
    {
     "data": {
      "text/plain": [
       "[['\\n', 'Discuss the impact of living with a long term condition', '\\n'],\n",
       " ['\\n',\n",
       "  'What is the Impact of Cutting down Nursing Student Bursary in the Future of Nursing Practice in the UK?',\n",
       "  '\\n'],\n",
       " ['\\n',\n",
       "  'What is the Impact of Cutting down Nursing Student Bursary in the Future of Nursing Practice in the UK?',\n",
       "  '\\n'],\n",
       " ['\\n',\n",
       "  'Discuss what effective leadership is and argue why it is deemed necessary in nursing practice',\n",
       "  '\\n'],\n",
       " ['\\n',\n",
       "  'Case: Re: A (Children) (Conjoined Twins: Medical Treatment) (No.1) [2000] 4 All ER 961.',\n",
       "  '\\n']]"
      ]
     },
     "execution_count": 12,
     "metadata": {},
     "output_type": "execute_result"
    }
   ],
   "source": [
    "# The beginning of each example has: newline, title, newline\n",
    "# We can get rid of this\n",
    "[each[:3] for each in df_pro.text[:]][:5]"
   ]
  },
  {
   "cell_type": "code",
   "execution_count": 13,
   "metadata": {},
   "outputs": [
    {
     "data": {
      "text/html": [
       "<div>\n",
       "<style scoped>\n",
       "    .dataframe tbody tr th:only-of-type {\n",
       "        vertical-align: middle;\n",
       "    }\n",
       "\n",
       "    .dataframe tbody tr th {\n",
       "        vertical-align: top;\n",
       "    }\n",
       "\n",
       "    .dataframe thead th {\n",
       "        text-align: right;\n",
       "    }\n",
       "</style>\n",
       "<table border=\"1\" class=\"dataframe\">\n",
       "  <thead>\n",
       "    <tr style=\"text-align: right;\">\n",
       "      <th></th>\n",
       "      <th>subject</th>\n",
       "      <th>text</th>\n",
       "      <th>title</th>\n",
       "      <th>student</th>\n",
       "      <th>joined</th>\n",
       "      <th>lengths</th>\n",
       "    </tr>\n",
       "  </thead>\n",
       "  <tbody>\n",
       "    <tr>\n",
       "      <th>0</th>\n",
       "      <td>nursing</td>\n",
       "      <td>[There is increasing prevalence of people with...</td>\n",
       "      <td>Discuss the impact of living with a long term ...</td>\n",
       "      <td>0</td>\n",
       "      <td>There is increasing prevalence of people with ...</td>\n",
       "      <td>17674</td>\n",
       "    </tr>\n",
       "    <tr>\n",
       "      <th>1</th>\n",
       "      <td>nursing</td>\n",
       "      <td>[In 2017, the government will end NHS bursarie...</td>\n",
       "      <td>What is the Impact of Cutting down Nursing Stu...</td>\n",
       "      <td>0</td>\n",
       "      <td>In 2017, the government will end NHS bursaries...</td>\n",
       "      <td>18948</td>\n",
       "    </tr>\n",
       "    <tr>\n",
       "      <th>2</th>\n",
       "      <td>nursing</td>\n",
       "      <td>[This essay will critically explore the impact...</td>\n",
       "      <td>What is the Impact of Cutting down Nursing Stu...</td>\n",
       "      <td>0</td>\n",
       "      <td>This essay will critically explore the impact ...</td>\n",
       "      <td>15455</td>\n",
       "    </tr>\n",
       "    <tr>\n",
       "      <th>3</th>\n",
       "      <td>nursing</td>\n",
       "      <td>[Introduction, \\n, Leadership consists of vari...</td>\n",
       "      <td>Discuss what effective leadership is and argue...</td>\n",
       "      <td>0</td>\n",
       "      <td>Introduction \\n Leadership consists of various...</td>\n",
       "      <td>16561</td>\n",
       "    </tr>\n",
       "    <tr>\n",
       "      <th>4</th>\n",
       "      <td>law</td>\n",
       "      <td>[Notable Prior Precedents: , \\n, Generally, un...</td>\n",
       "      <td>Case: Re: A (Children) (Conjoined Twins: Medic...</td>\n",
       "      <td>0</td>\n",
       "      <td>Notable Prior Precedents:  \\n Generally, under...</td>\n",
       "      <td>11072</td>\n",
       "    </tr>\n",
       "  </tbody>\n",
       "</table>\n",
       "</div>"
      ],
      "text/plain": [
       "   subject                                               text  \\\n",
       "0  nursing  [There is increasing prevalence of people with...   \n",
       "1  nursing  [In 2017, the government will end NHS bursarie...   \n",
       "2  nursing  [This essay will critically explore the impact...   \n",
       "3  nursing  [Introduction, \\n, Leadership consists of vari...   \n",
       "4      law  [Notable Prior Precedents: , \\n, Generally, un...   \n",
       "\n",
       "                                               title  student  \\\n",
       "0  Discuss the impact of living with a long term ...        0   \n",
       "1  What is the Impact of Cutting down Nursing Stu...        0   \n",
       "2  What is the Impact of Cutting down Nursing Stu...        0   \n",
       "3  Discuss what effective leadership is and argue...        0   \n",
       "4  Case: Re: A (Children) (Conjoined Twins: Medic...        0   \n",
       "\n",
       "                                              joined  lengths  \n",
       "0  There is increasing prevalence of people with ...    17674  \n",
       "1  In 2017, the government will end NHS bursaries...    18948  \n",
       "2  This essay will critically explore the impact ...    15455  \n",
       "3  Introduction \\n Leadership consists of various...    16561  \n",
       "4  Notable Prior Precedents:  \\n Generally, under...    11072  "
      ]
     },
     "execution_count": 13,
     "metadata": {},
     "output_type": "execute_result"
    }
   ],
   "source": [
    "# Each essay also cites sources at the end. We can get rid of those.\n",
    "def find_ref_position(text):\n",
    "    for i, piece in enumerate(text):\n",
    "        if (piece.lower() == 'references') or (piece.lower() == 'reference'):\n",
    "            return i\n",
    "\n",
    "# Use my new friend 'map' to index where the references start\n",
    "df_pro['ref_idx'] = df_pro.text.map(find_ref_position)\n",
    "\n",
    "# Map might be good for this loop too. Looks prety skinny.\n",
    "for i, text in enumerate(df_pro.text):\n",
    "    try:\n",
    "        # Delete everything after ref_idx\n",
    "        df_pro.at[i, 'text'] = text[:int(df_pro.loc[i, 'ref_idx'])]\n",
    "    except:\n",
    "        pass\n",
    "\n",
    "# Drop ref_idx. We don't need it anymore.\n",
    "df_pro.drop(labels='ref_idx', axis=1, inplace=True)\n",
    "\n",
    "# Get rid of titles, as noted before\n",
    "df_pro['text'] = df_pro.text.map(lambda x: x[3:])\n",
    "df_pro['joined'] = df_pro.text.map(' '.join)\n",
    "df_pro.head()"
   ]
  },
  {
   "cell_type": "markdown",
   "metadata": {},
   "source": [
    "### Combining the datasets"
   ]
  },
  {
   "cell_type": "code",
   "execution_count": 14,
   "metadata": {},
   "outputs": [
    {
     "name": "stdout",
     "output_type": "stream",
     "text": [
      "(651, 5)\n"
     ]
    },
    {
     "data": {
      "text/html": [
       "<div>\n",
       "<style scoped>\n",
       "    .dataframe tbody tr th:only-of-type {\n",
       "        vertical-align: middle;\n",
       "    }\n",
       "\n",
       "    .dataframe tbody tr th {\n",
       "        vertical-align: top;\n",
       "    }\n",
       "\n",
       "    .dataframe thead th {\n",
       "        text-align: right;\n",
       "    }\n",
       "</style>\n",
       "<table border=\"1\" class=\"dataframe\">\n",
       "  <thead>\n",
       "    <tr style=\"text-align: right;\">\n",
       "      <th></th>\n",
       "      <th>subject</th>\n",
       "      <th>joined</th>\n",
       "      <th>student</th>\n",
       "      <th>tokens</th>\n",
       "      <th>lemmas</th>\n",
       "    </tr>\n",
       "  </thead>\n",
       "  <tbody>\n",
       "    <tr>\n",
       "      <th>0</th>\n",
       "      <td>Nursing</td>\n",
       "      <td>\\n \\n \\n \\n \\n Total Word Count:  This report ...</td>\n",
       "      <td>student</td>\n",
       "      <td>None</td>\n",
       "      <td>None</td>\n",
       "    </tr>\n",
       "    <tr>\n",
       "      <th>1</th>\n",
       "      <td>Nursing</td>\n",
       "      <td>\\n \\n \\n \\n \\n Leadership has been described a...</td>\n",
       "      <td>student</td>\n",
       "      <td>None</td>\n",
       "      <td>None</td>\n",
       "    </tr>\n",
       "    <tr>\n",
       "      <th>2</th>\n",
       "      <td>Nursing</td>\n",
       "      <td>\\n \\n \\n \\n \\n Depression among pregnant adole...</td>\n",
       "      <td>student</td>\n",
       "      <td>None</td>\n",
       "      <td>None</td>\n",
       "    </tr>\n",
       "    <tr>\n",
       "      <th>3</th>\n",
       "      <td>Nursing</td>\n",
       "      <td>\\n \\n \\n \\n \\n Davidson, E., Daly, J., Brady, ...</td>\n",
       "      <td>student</td>\n",
       "      <td>None</td>\n",
       "      <td>None</td>\n",
       "    </tr>\n",
       "    <tr>\n",
       "      <th>4</th>\n",
       "      <td>Nursing</td>\n",
       "      <td>\\n \\n \\n \\n \\n Idiopathic pulmonary fibrosis (...</td>\n",
       "      <td>student</td>\n",
       "      <td>None</td>\n",
       "      <td>None</td>\n",
       "    </tr>\n",
       "  </tbody>\n",
       "</table>\n",
       "</div>"
      ],
      "text/plain": [
       "    subject                                             joined  student  \\\n",
       "0  Nursing   \\n \\n \\n \\n \\n Total Word Count:  This report ...  student   \n",
       "1  Nursing   \\n \\n \\n \\n \\n Leadership has been described a...  student   \n",
       "2  Nursing   \\n \\n \\n \\n \\n Depression among pregnant adole...  student   \n",
       "3  Nursing   \\n \\n \\n \\n \\n Davidson, E., Daly, J., Brady, ...  student   \n",
       "4  Nursing   \\n \\n \\n \\n \\n Idiopathic pulmonary fibrosis (...  student   \n",
       "\n",
       "  tokens lemmas  \n",
       "0   None   None  \n",
       "1   None   None  \n",
       "2   None   None  \n",
       "3   None   None  \n",
       "4   None   None  "
      ]
     },
     "execution_count": 14,
     "metadata": {},
     "output_type": "execute_result"
    }
   ],
   "source": [
    "df_features = df_student.loc[:, ['subject', 'joined', 'student']]\n",
    "df_features = df_features.append(df_pro.loc[:, ['subject', 'joined', 'student']])\n",
    "\n",
    "# Empty columns for processed text\n",
    "df_features['tokens'] = None\n",
    "df_features['lemmas'] = None\n",
    "df_features.student = df_features.student.map(lambda x: 'student' if x == 1 else 'pro')\n",
    "print(df_features.shape)\n",
    "df_features.head()"
   ]
  },
  {
   "cell_type": "markdown",
   "metadata": {},
   "source": [
    "# Text Cleaning and Tokenization\n",
    "We've done it before but it is always necessary. We will be using the nlp text cleaner from nltk in order to utilize their lemmatizers. Also, feature engineering."
   ]
  },
  {
   "cell_type": "code",
   "execution_count": 15,
   "metadata": {},
   "outputs": [
    {
     "data": {
      "text/html": [
       "<div>\n",
       "<style scoped>\n",
       "    .dataframe tbody tr th:only-of-type {\n",
       "        vertical-align: middle;\n",
       "    }\n",
       "\n",
       "    .dataframe tbody tr th {\n",
       "        vertical-align: top;\n",
       "    }\n",
       "\n",
       "    .dataframe thead th {\n",
       "        text-align: right;\n",
       "    }\n",
       "</style>\n",
       "<table border=\"1\" class=\"dataframe\">\n",
       "  <thead>\n",
       "    <tr style=\"text-align: right;\">\n",
       "      <th></th>\n",
       "      <th>subject</th>\n",
       "      <th>joined</th>\n",
       "      <th>student</th>\n",
       "      <th>tokens</th>\n",
       "      <th>lemmas</th>\n",
       "    </tr>\n",
       "  </thead>\n",
       "  <tbody>\n",
       "    <tr>\n",
       "      <th>0</th>\n",
       "      <td>Nursing</td>\n",
       "      <td>Total Word Count: This report has been prepare...</td>\n",
       "      <td>student</td>\n",
       "      <td>(Total, Word, Count, :, This, report, has, bee...</td>\n",
       "      <td>total word count : this report have be prepare...</td>\n",
       "    </tr>\n",
       "    <tr>\n",
       "      <th>1</th>\n",
       "      <td>Nursing</td>\n",
       "      <td>Leadership has been described as \"a relational...</td>\n",
       "      <td>student</td>\n",
       "      <td>(Leadership, has, been, described, as, \", a, r...</td>\n",
       "      <td>leadership have be describe as \" a relational ...</td>\n",
       "    </tr>\n",
       "    <tr>\n",
       "      <th>2</th>\n",
       "      <td>Nursing</td>\n",
       "      <td>Depression among pregnant adolescents as well ...</td>\n",
       "      <td>student</td>\n",
       "      <td>(Depression, among, pregnant, adolescents, as,...</td>\n",
       "      <td>depression among pregnant adolescent as well a...</td>\n",
       "    </tr>\n",
       "    <tr>\n",
       "      <th>3</th>\n",
       "      <td>Nursing</td>\n",
       "      <td>Davidson, E., Daly, J., Brady, R. &amp; Higgins, P...</td>\n",
       "      <td>student</td>\n",
       "      <td>(Davidson, ,, E., ,, Daly, ,, J., ,, Brady, ,,...</td>\n",
       "      <td>davidson , e. , daly , j. , brady , r. &amp; higgi...</td>\n",
       "    </tr>\n",
       "    <tr>\n",
       "      <th>4</th>\n",
       "      <td>Nursing</td>\n",
       "      <td>Idiopathic pulmonary fibrosis (IPF) is a devas...</td>\n",
       "      <td>student</td>\n",
       "      <td>(Idiopathic, pulmonary, fibrosis, (, IPF, ), i...</td>\n",
       "      <td>idiopathic pulmonary fibrosis ( ipf ) be a dev...</td>\n",
       "    </tr>\n",
       "  </tbody>\n",
       "</table>\n",
       "</div>"
      ],
      "text/plain": [
       "    subject                                             joined  student  \\\n",
       "0  Nursing   Total Word Count: This report has been prepare...  student   \n",
       "1  Nursing   Leadership has been described as \"a relational...  student   \n",
       "2  Nursing   Depression among pregnant adolescents as well ...  student   \n",
       "3  Nursing   Davidson, E., Daly, J., Brady, R. & Higgins, P...  student   \n",
       "4  Nursing   Idiopathic pulmonary fibrosis (IPF) is a devas...  student   \n",
       "\n",
       "                                              tokens  \\\n",
       "0  (Total, Word, Count, :, This, report, has, bee...   \n",
       "1  (Leadership, has, been, described, as, \", a, r...   \n",
       "2  (Depression, among, pregnant, adolescents, as,...   \n",
       "3  (Davidson, ,, E., ,, Daly, ,, J., ,, Brady, ,,...   \n",
       "4  (Idiopathic, pulmonary, fibrosis, (, IPF, ), i...   \n",
       "\n",
       "                                              lemmas  \n",
       "0  total word count : this report have be prepare...  \n",
       "1  leadership have be describe as \" a relational ...  \n",
       "2  depression among pregnant adolescent as well a...  \n",
       "3  davidson , e. , daly , j. , brady , r. & higgi...  \n",
       "4  idiopathic pulmonary fibrosis ( ipf ) be a dev...  "
      ]
     },
     "execution_count": 15,
     "metadata": {},
     "output_type": "execute_result"
    }
   ],
   "source": [
    "def text_cleaner(text):\n",
    "    text = re.sub(\"[\\[].*?[\\]]\", \"\", text)\n",
    "    text = ' '.join(text.split())\n",
    "    return text\n",
    "\n",
    "nlp = spacy.load('en')\n",
    "\n",
    "def my_lemmatizer(text):\n",
    "    return ' '.join([token.lemma_ for token in text])\n",
    "\n",
    "# I love map so much. This has changed my coding life!\n",
    "df_features.joined = df_features.joined.map(text_cleaner)\n",
    "df_features.tokens = df_features.joined.map(nlp)\n",
    "df_features.lemmas = df_features.tokens.map(my_lemmatizer)\n",
    "df_features.reset_index(drop=True, inplace=True)\n",
    "df_features.head()"
   ]
  },
  {
   "cell_type": "code",
   "execution_count": 16,
   "metadata": {},
   "outputs": [
    {
     "name": "stdout",
     "output_type": "stream",
     "text": [
      "Total number of words in corpus:  1577956\n"
     ]
    }
   ],
   "source": [
    "# Most corpora are measured in total number of words, so I'm curious to see what we are working with here\n",
    "total_corpus_length = df_features.tokens.map(lambda x: len([token for token in x if not token.is_punct]))\n",
    "print('Total number of words in corpus: ', total_corpus_length.sum())"
   ]
  },
  {
   "cell_type": "markdown",
   "metadata": {},
   "source": [
    "Not bad, 1.6 million words is a pretty decent sized corpus!"
   ]
  },
  {
   "cell_type": "code",
   "execution_count": 100,
   "metadata": {},
   "outputs": [],
   "source": [
    "from sklearn.feature_extraction.text import TfidfVectorizer\n",
    "\n",
    "# Creating the tf-idf matrix.\n",
    "vectorizer = TfidfVectorizer(stop_words='english')\n",
    "essays_tfidf = vectorizer.fit_transform(df_features.lemmas)\n",
    "# essays_tfidf = vectorizer.fit_transform(df_features.joined)\n",
    "\n",
    "\n",
    "# Getting the word list.\n",
    "terms = vectorizer.get_feature_names()"
   ]
  },
  {
   "cell_type": "markdown",
   "metadata": {},
   "source": [
    "You'll notice in the cell above that I tried two different ways of vectorizing the text. One with lemmatization, one without."
   ]
  },
  {
   "cell_type": "markdown",
   "metadata": {},
   "source": [
    "## Unsupervised Clustering\n",
    "In this section, we will reduce dimensionality using the following unsupervised methods:\n",
    "- LSA\n",
    "- LDA\n",
    "- NNMF\n",
    "- Doc2Vec"
   ]
  },
  {
   "cell_type": "code",
   "execution_count": 101,
   "metadata": {},
   "outputs": [],
   "source": [
    "from nltk import RegexpTokenizer\n",
    "from nltk.corpus import stopwords\n",
    "\n",
    "tokenizer = RegexpTokenizer(r'\\w+')\n",
    "stopword_set = set(stopwords.words('english'))\n",
    "\n",
    "def nlp_clean(data):\n",
    "    \n",
    "    new_data = []\n",
    "    for d in data:\n",
    "        new_str = d.lower()\n",
    "        dlist = tokenizer.tokenize(new_str)\n",
    "        dlist = list(set(dlist).difference(stopword_set))\n",
    "        new_data.append(dlist)\n",
    "    return new_data"
   ]
  },
  {
   "cell_type": "code",
   "execution_count": 102,
   "metadata": {},
   "outputs": [],
   "source": [
    "class LabeledLineSentence(object):\n",
    "    \n",
    "    def __init__(self, doc_list, labels_list):\n",
    "        \n",
    "        self.labels_list = labels_list\n",
    "        self.doc_list = doc_list\n",
    "        \n",
    "    def __iter__(self):\n",
    "        # Create an iterable of TaggedDocuments\n",
    "        # Don't know why, just following the documentation\n",
    "        for idx, doc in enumerate(self.doc_list):\n",
    "            yield gensim.models.doc2vec.TaggedDocument(doc,\n",
    "                                                       [self.labels_list[idx]])"
   ]
  },
  {
   "cell_type": "code",
   "execution_count": 103,
   "metadata": {},
   "outputs": [],
   "source": [
    "data = df_features.joined.tolist()\n",
    "names = df_features.subject.tolist()"
   ]
  },
  {
   "cell_type": "code",
   "execution_count": 104,
   "metadata": {},
   "outputs": [],
   "source": [
    "data = nlp_clean(data)"
   ]
  },
  {
   "cell_type": "code",
   "execution_count": 105,
   "metadata": {},
   "outputs": [],
   "source": [
    "from gensim.models import Doc2Vec\n",
    "import gensim\n",
    "\n",
    "# Creating our document iterable here, using the yields (technically a generator?)\n",
    "it = LabeledLineSentence(data, names)\n",
    "\n",
    "# Initialize model and build vocab\n",
    "model = Doc2Vec(vector_size=50, window=8, min_count=2, workers=3, alpha=0.025, min_alpha=0.005)\n",
    "model.build_vocab(it)\n",
    "\n",
    "# Training the model\n",
    "model.train(it, total_examples=len(df_features), epochs=10)\n",
    "\n",
    "model.save('doc2vec.model')"
   ]
  },
  {
   "cell_type": "code",
   "execution_count": 106,
   "metadata": {},
   "outputs": [
    {
     "data": {
      "text/plain": [
       "RandomizedSearchCV(cv=None, error_score='raise',\n",
       "          estimator=SVC(C=1.0, cache_size=200, class_weight='balanced', coef0=0.0,\n",
       "  decision_function_shape='ovr', degree=3, gamma='auto', kernel='rbf',\n",
       "  max_iter=-1, probability=False, random_state=None, shrinking=True,\n",
       "  tol=0.001, verbose=False),\n",
       "          fit_params=None, iid=True, n_iter=30, n_jobs=-1,\n",
       "          param_distributions={'C': array([0.07411, 0.38621, 0.3114 , 0.33881, 0.17331, 0.43725, 0.73194,\n",
       "       0.7839 , 0.83781, 0.86772, 0.82353, 0.61399, 0.38531, 0.20087,\n",
       "       0.60963, 0.80195, 0.50829, 0.63586, 0.17378, 0.46312, 0.50298,\n",
       "       0.45909, 0.03592, 0.45887, 0.7711 , 0.33358, 0.96897, 0.96686,\n",
       "       0.11097, 0.5596 ])},\n",
       "          pre_dispatch='2*n_jobs', random_state=None, refit=True,\n",
       "          return_train_score='warn',\n",
       "          scoring=make_scorer(f1_score, pos_label=pro), verbose=0)"
      ]
     },
     "execution_count": 106,
     "metadata": {},
     "output_type": "execute_result"
    }
   ],
   "source": [
    "from sklearn.svm import SVC\n",
    "from sklearn.model_selection import train_test_split\n",
    "from sklearn.model_selection import cross_val_score\n",
    "from sklearn.model_selection import RandomizedSearchCV\n",
    "from sklearn.metrics import make_scorer, f1_score\n",
    "f1_scorer = make_scorer(f1_score, pos_label='pro')\n",
    "from scipy.stats import uniform as sp_uniform\n",
    "\n",
    "X = [model.infer_vector(df_features.joined[i]) for i in range(len(df_features))]\n",
    "X_train_docvec, X_test_docvec, y_train_docvec, y_test_docvec = train_test_split(X,\n",
    "                                                                               df_features.student,\n",
    "                                                                               test_size = 0.2)\n",
    "\n",
    "param_dist = {'C':np.random.uniform(0.001, 1, 30)}\n",
    "n_iter = 30\n",
    "svc = SVC(class_weight='balanced')\n",
    "svc_search = RandomizedSearchCV(svc, param_distributions=param_dist, \n",
    "                             n_iter=n_iter, scoring=f1_scorer,\n",
    "                             n_jobs=-1)\n",
    "\n",
    "\n",
    "svc_search.fit(X_train_docvec, y_train_docvec)"
   ]
  },
  {
   "cell_type": "code",
   "execution_count": 107,
   "metadata": {},
   "outputs": [
    {
     "name": "stdout",
     "output_type": "stream",
     "text": [
      "Model with rank: 1\n",
      "Mean validation score: 0.107 (std: 0.076)\n",
      "Parameters: {'C': 0.3113990088765405}\n",
      "\n",
      "Model with rank: 1\n",
      "Mean validation score: 0.107 (std: 0.076)\n",
      "Parameters: {'C': 0.3388087176160448}\n",
      "\n",
      "Model with rank: 1\n",
      "Mean validation score: 0.107 (std: 0.076)\n",
      "Parameters: {'C': 0.33357903156408797}\n",
      "\n",
      "Model with rank: 4\n",
      "Mean validation score: 0.093 (std: 0.067)\n",
      "Parameters: {'C': 0.20086931614031248}\n",
      "\n",
      "Model with rank: 5\n",
      "Mean validation score: 0.086 (std: 0.061)\n",
      "Parameters: {'C': 0.11096680807572211}\n",
      "\n"
     ]
    }
   ],
   "source": [
    "# This function reports the top n_top results for a random search\n",
    "def report(results, n_top=5):\n",
    "    for i in range(1, n_top + 1):\n",
    "        candidates = np.flatnonzero(results['rank_test_score'] == i)\n",
    "        for candidate in candidates[:3]:\n",
    "            print(\"Model with rank: {0}\".format(i))\n",
    "            print(\"Mean validation score: {0:.3f} (std: {1:.3f})\".format(\n",
    "                  results['mean_test_score'][candidate],\n",
    "                  results['std_test_score'][candidate]))\n",
    "            print(\"Parameters: {0}\".format(results['params'][candidate]))\n",
    "            print(\"\")\n",
    "            \n",
    "report(svc_search.cv_results_)"
   ]
  },
  {
   "cell_type": "code",
   "execution_count": 108,
   "metadata": {},
   "outputs": [
    {
     "data": {
      "text/plain": [
       "0.2222222222222222"
      ]
     },
     "execution_count": 108,
     "metadata": {},
     "output_type": "execute_result"
    }
   ],
   "source": [
    "svc_search.best_estimator_.predict(X_test_docvec)\n",
    "f1_scorer(svc_search.best_estimator_, X_test_docvec, y_test_docvec)"
   ]
  },
  {
   "cell_type": "code",
   "execution_count": 109,
   "metadata": {},
   "outputs": [],
   "source": [
    "n_components = 50"
   ]
  },
  {
   "cell_type": "code",
   "execution_count": 110,
   "metadata": {
    "collapsed": true,
    "deletable": true,
    "editable": true
   },
   "outputs": [],
   "source": [
    "# LSA\n",
    "\n",
    "from sklearn.decomposition import TruncatedSVD\n",
    "from sklearn.pipeline import make_pipeline\n",
    "from sklearn.preprocessing import Normalizer\n",
    "\n",
    "svd= TruncatedSVD(n_components)\n",
    "lsa = make_pipeline(svd, Normalizer(copy=False))\n",
    "essays_lsa = lsa.fit_transform(essays_tfidf)"
   ]
  },
  {
   "cell_type": "code",
   "execution_count": 111,
   "metadata": {
    "collapsed": false,
    "deletable": true,
    "editable": true
   },
   "outputs": [
    {
     "name": "stderr",
     "output_type": "stream",
     "text": [
      "C:\\Users\\bretw\\AppData\\Local\\Continuum\\anaconda3\\lib\\site-packages\\sklearn\\decomposition\\online_lda.py:536: DeprecationWarning: The default value for 'learning_method' will be changed from 'online' to 'batch' in the release 0.20. This warning was introduced in 0.18.\n",
      "  DeprecationWarning)\n"
     ]
    }
   ],
   "source": [
    "# LDA\n",
    "from sklearn.decomposition import LatentDirichletAllocation as LDA\n",
    "\n",
    "lda = LDA(n_components=n_components, \n",
    "          doc_topic_prior=None, # Prior = 1/n_documents\n",
    "          topic_word_prior=1/n_components,\n",
    "          learning_decay=0.7, # Convergence rate.\n",
    "          learning_offset=10.0, # Causes earlier iterations to have less influence on the learning\n",
    "          max_iter=10, # when to stop even if the model is not converging (to prevent running forever)\n",
    "          evaluate_every=-1, # Do not evaluate perplexity, as it slows training time.\n",
    "          mean_change_tol=0.001, # Stop updating the document topic distribution in the E-step when mean change is < tol\n",
    "          max_doc_update_iter=100, # When to stop updating the document topic distribution in the E-step even if tol is not reached\n",
    "          n_jobs=-1, # Use all available CPUs to speed up processing time.\n",
    "          verbose=0, # amount of output to give while iterating\n",
    "          random_state=0\n",
    "         )\n",
    "\n",
    "essays_lda = lda.fit_transform(essays_tfidf) \n"
   ]
  },
  {
   "cell_type": "code",
   "execution_count": 112,
   "metadata": {
    "collapsed": true,
    "deletable": true,
    "editable": true
   },
   "outputs": [],
   "source": [
    "# NNMF\n",
    "\n",
    "from sklearn.decomposition import NMF\n",
    "\n",
    "nmf = NMF(alpha=0.0, \n",
    "          init='nndsvdar', # how starting value are calculated\n",
    "          l1_ratio=0.0, # Sets whether regularization is L2 (0), L1 (1), or a combination (values between 0 and 1)\n",
    "          max_iter=200, # when to stop even if the model is not converging (to prevent running forever)\n",
    "          n_components=n_components, \n",
    "          random_state=0, \n",
    "          solver='cd', # Use Coordinate Descent to solve\n",
    "          tol=0.0001, # model will stop if tfidf-WH <= tol\n",
    "          verbose=0 # amount of output to give while iterating\n",
    "         )\n",
    "essays_nmf = nmf.fit_transform(essays_tfidf) \n"
   ]
  },
  {
   "cell_type": "markdown",
   "metadata": {},
   "source": [
    "# Modeling\n",
    "In this section, we will attempt to classify the data in as many ways as we can think of! We will also conduct a rigorous error analysis.\n",
    "- Compare accuracy, f1, confusion matrix\n",
    "- Try LSA,LDA, nnmf one at a time\n",
    "    "
   ]
  },
  {
   "cell_type": "code",
   "execution_count": 113,
   "metadata": {},
   "outputs": [
    {
     "name": "stdout",
     "output_type": "stream",
     "text": [
      "651.0\n"
     ]
    },
    {
     "data": {
      "text/html": [
       "<div>\n",
       "<style scoped>\n",
       "    .dataframe tbody tr th:only-of-type {\n",
       "        vertical-align: middle;\n",
       "    }\n",
       "\n",
       "    .dataframe tbody tr th {\n",
       "        vertical-align: top;\n",
       "    }\n",
       "\n",
       "    .dataframe thead th {\n",
       "        text-align: right;\n",
       "    }\n",
       "</style>\n",
       "<table border=\"1\" class=\"dataframe\">\n",
       "  <thead>\n",
       "    <tr style=\"text-align: right;\">\n",
       "      <th></th>\n",
       "      <th>0</th>\n",
       "      <th>1</th>\n",
       "      <th>2</th>\n",
       "      <th>3</th>\n",
       "      <th>4</th>\n",
       "      <th>5</th>\n",
       "      <th>6</th>\n",
       "      <th>7</th>\n",
       "      <th>8</th>\n",
       "      <th>9</th>\n",
       "      <th>...</th>\n",
       "      <th>43</th>\n",
       "      <th>44</th>\n",
       "      <th>45</th>\n",
       "      <th>46</th>\n",
       "      <th>47</th>\n",
       "      <th>48</th>\n",
       "      <th>49</th>\n",
       "      <th>target</th>\n",
       "      <th>test</th>\n",
       "      <th>method</th>\n",
       "    </tr>\n",
       "  </thead>\n",
       "  <tbody>\n",
       "    <tr>\n",
       "      <th>0</th>\n",
       "      <td>0.5076</td>\n",
       "      <td>-0.222073</td>\n",
       "      <td>-0.156944</td>\n",
       "      <td>0.173203</td>\n",
       "      <td>0.139829</td>\n",
       "      <td>0.022211</td>\n",
       "      <td>0.00619103</td>\n",
       "      <td>0.0893558</td>\n",
       "      <td>-0.334258</td>\n",
       "      <td>0.269251</td>\n",
       "      <td>...</td>\n",
       "      <td>0.00382073</td>\n",
       "      <td>-0.0295355</td>\n",
       "      <td>0.0303288</td>\n",
       "      <td>0.0380215</td>\n",
       "      <td>0.0406247</td>\n",
       "      <td>0.000639822</td>\n",
       "      <td>0.021515</td>\n",
       "      <td>student</td>\n",
       "      <td>0</td>\n",
       "      <td>lsa</td>\n",
       "    </tr>\n",
       "    <tr>\n",
       "      <th>1</th>\n",
       "      <td>0.394331</td>\n",
       "      <td>0.336423</td>\n",
       "      <td>-0.121626</td>\n",
       "      <td>-0.110311</td>\n",
       "      <td>-0.0474911</td>\n",
       "      <td>-0.279531</td>\n",
       "      <td>-0.0971384</td>\n",
       "      <td>-0.152653</td>\n",
       "      <td>-0.0387779</td>\n",
       "      <td>-0.0426864</td>\n",
       "      <td>...</td>\n",
       "      <td>0.0208433</td>\n",
       "      <td>-0.188227</td>\n",
       "      <td>-0.167972</td>\n",
       "      <td>0.0570324</td>\n",
       "      <td>0.321905</td>\n",
       "      <td>-0.2989</td>\n",
       "      <td>0.0287321</td>\n",
       "      <td>student</td>\n",
       "      <td>0</td>\n",
       "      <td>lsa</td>\n",
       "    </tr>\n",
       "    <tr>\n",
       "      <th>2</th>\n",
       "      <td>0.678188</td>\n",
       "      <td>-0.298743</td>\n",
       "      <td>-0.0696845</td>\n",
       "      <td>-0.337084</td>\n",
       "      <td>-0.260686</td>\n",
       "      <td>-0.0959376</td>\n",
       "      <td>0.103471</td>\n",
       "      <td>0.112424</td>\n",
       "      <td>0.0865175</td>\n",
       "      <td>0.13692</td>\n",
       "      <td>...</td>\n",
       "      <td>-0.0730429</td>\n",
       "      <td>0.0801934</td>\n",
       "      <td>-0.0190485</td>\n",
       "      <td>0.013462</td>\n",
       "      <td>0.0323057</td>\n",
       "      <td>-0.0799958</td>\n",
       "      <td>-0.0577697</td>\n",
       "      <td>student</td>\n",
       "      <td>0</td>\n",
       "      <td>lsa</td>\n",
       "    </tr>\n",
       "    <tr>\n",
       "      <th>3</th>\n",
       "      <td>0.606512</td>\n",
       "      <td>0.545855</td>\n",
       "      <td>-0.237608</td>\n",
       "      <td>-0.124953</td>\n",
       "      <td>0.0184046</td>\n",
       "      <td>-0.108438</td>\n",
       "      <td>0.0542704</td>\n",
       "      <td>-0.0050787</td>\n",
       "      <td>-0.047812</td>\n",
       "      <td>-0.0207432</td>\n",
       "      <td>...</td>\n",
       "      <td>-0.0241099</td>\n",
       "      <td>0.0367594</td>\n",
       "      <td>-0.0704393</td>\n",
       "      <td>-0.0344441</td>\n",
       "      <td>0.101244</td>\n",
       "      <td>0.101046</td>\n",
       "      <td>-0.0615852</td>\n",
       "      <td>student</td>\n",
       "      <td>0</td>\n",
       "      <td>lsa</td>\n",
       "    </tr>\n",
       "    <tr>\n",
       "      <th>4</th>\n",
       "      <td>0.227614</td>\n",
       "      <td>0.267069</td>\n",
       "      <td>-0.122655</td>\n",
       "      <td>-0.102726</td>\n",
       "      <td>-0.0213777</td>\n",
       "      <td>-0.304189</td>\n",
       "      <td>-0.118125</td>\n",
       "      <td>-0.53634</td>\n",
       "      <td>-0.195684</td>\n",
       "      <td>0.0156927</td>\n",
       "      <td>...</td>\n",
       "      <td>-0.00670929</td>\n",
       "      <td>-0.0405472</td>\n",
       "      <td>0.0312083</td>\n",
       "      <td>0.0618476</td>\n",
       "      <td>-0.00385178</td>\n",
       "      <td>0.0138755</td>\n",
       "      <td>-0.0212363</td>\n",
       "      <td>student</td>\n",
       "      <td>0</td>\n",
       "      <td>lsa</td>\n",
       "    </tr>\n",
       "  </tbody>\n",
       "</table>\n",
       "<p>5 rows × 53 columns</p>\n",
       "</div>"
      ],
      "text/plain": [
       "          0         1          2         3          4          5           6  \\\n",
       "0    0.5076 -0.222073  -0.156944  0.173203   0.139829   0.022211  0.00619103   \n",
       "1  0.394331  0.336423  -0.121626 -0.110311 -0.0474911  -0.279531  -0.0971384   \n",
       "2  0.678188 -0.298743 -0.0696845 -0.337084  -0.260686 -0.0959376    0.103471   \n",
       "3  0.606512  0.545855  -0.237608 -0.124953  0.0184046  -0.108438   0.0542704   \n",
       "4  0.227614  0.267069  -0.122655 -0.102726 -0.0213777  -0.304189   -0.118125   \n",
       "\n",
       "           7          8          9  ...            43         44         45  \\\n",
       "0  0.0893558  -0.334258   0.269251  ...    0.00382073 -0.0295355  0.0303288   \n",
       "1  -0.152653 -0.0387779 -0.0426864  ...     0.0208433  -0.188227  -0.167972   \n",
       "2   0.112424  0.0865175    0.13692  ...    -0.0730429  0.0801934 -0.0190485   \n",
       "3 -0.0050787  -0.047812 -0.0207432  ...    -0.0241099  0.0367594 -0.0704393   \n",
       "4   -0.53634  -0.195684  0.0156927  ...   -0.00670929 -0.0405472  0.0312083   \n",
       "\n",
       "          46          47           48         49   target test method  \n",
       "0  0.0380215   0.0406247  0.000639822   0.021515  student    0    lsa  \n",
       "1  0.0570324    0.321905      -0.2989  0.0287321  student    0    lsa  \n",
       "2   0.013462   0.0323057   -0.0799958 -0.0577697  student    0    lsa  \n",
       "3 -0.0344441    0.101244     0.101046 -0.0615852  student    0    lsa  \n",
       "4  0.0618476 -0.00385178    0.0138755 -0.0212363  student    0    lsa  \n",
       "\n",
       "[5 rows x 53 columns]"
      ]
     },
     "execution_count": 113,
     "metadata": {},
     "output_type": "execute_result"
    }
   ],
   "source": [
    "from sklearn.model_selection import train_test_split\n",
    "\n",
    "X_train_lda, X_test_lda, y_train_lda, y_test_lda = train_test_split(essays_lda, \n",
    "                                                                    df_features.student, \n",
    "                                                                    test_size=0.2, \n",
    "                                                                    stratify=df_features.student)\n",
    "\n",
    "X_train_lsa, X_test_lsa, y_train_lsa, y_test_lsa = train_test_split(essays_lsa,\n",
    "                                                                    df_features.student,\n",
    "                                                                    test_size=0.2,\n",
    "                                                                    stratify=df_features.student)\n",
    "\n",
    "X_train_nmf, X_test_nmf, y_train_nmf, y_test_nmf = train_test_split(essays_nmf,\n",
    "                                                                    df_features.student,\n",
    "                                                                    test_size=0.2,\n",
    "                                                                    stratify=df_features.student)\n",
    "\n",
    "# This is going to be a pain in the ass. I hope it actually ends up saving me time. \n",
    "# I'm going to concatenate all of these dataframes together so that I can pass them into\n",
    "# a custom class, along with an estimator. The object will spit out training metrics.\n",
    "\n",
    "# Latent Semantic Analysis\n",
    "reduced_train_lsa = pd.DataFrame(data=np.append(X_train_lsa, \n",
    "                                                y_train_lsa[:, np.newaxis],\n",
    "                                                1))\n",
    "reduced_train_lsa['test'] = 0\n",
    "reduced_test_lsa = pd.DataFrame(data=np.append(X_test_lsa, \n",
    "                                                y_test_lsa[:, np.newaxis],\n",
    "                                                1))\n",
    "reduced_test_lsa['test'] = 1\n",
    "reduced_lsa = reduced_train_lsa.append(reduced_test_lsa, ignore_index=True)\n",
    "reduced_lsa['method'] = 'lsa'\n",
    "reduced_lsa.rename(columns={n_components:'target'}, inplace=True)\n",
    "\n",
    "\n",
    "\n",
    "\n",
    "# Latent Dirichlet Analysis\n",
    "reduced_train_lda = pd.DataFrame(data=np.append(X_train_lda, \n",
    "                                                y_train_lda[:, np.newaxis],\n",
    "                                                1))\n",
    "reduced_train_lda['test'] = 0\n",
    "reduced_test_lda = pd.DataFrame(data=np.append(X_test_lda, \n",
    "                                                y_test_lda[:, np.newaxis],\n",
    "                                                1))\n",
    "reduced_test_lda['test'] = 1\n",
    "reduced_lda = reduced_train_lda.append(reduced_test_lda, ignore_index=True)\n",
    "reduced_lda['method'] = 'lda'\n",
    "reduced_lda.rename(columns={n_components:'target'}, inplace=True)\n",
    "\n",
    "\n",
    "\n",
    "# Non-Negative Matrix Factorization\n",
    "reduced_train_nmf = pd.DataFrame(data=np.append(X_train_nmf, \n",
    "                                                y_train_nmf[:, np.newaxis],\n",
    "                                                1))\n",
    "reduced_train_nmf['test'] = 0\n",
    "reduced_test_nmf = pd.DataFrame(data=np.append(X_test_nmf, \n",
    "                                                y_test_nmf[:, np.newaxis],\n",
    "                                                1))\n",
    "reduced_test_nmf['test'] = 1\n",
    "reduced_nmf = reduced_train_nmf.append(reduced_test_nmf, ignore_index=True)\n",
    "reduced_nmf['method'] = 'nmf'\n",
    "reduced_nmf.rename(columns={n_components:'target'}, inplace=True)\n",
    "\n",
    "# Putting it all together now:\n",
    "\n",
    "reduced_data = reduced_lsa.copy()\n",
    "reduced_data = reduced_data.append(reduced_lda, ignore_index=True)\n",
    "reduced_data = reduced_data.append(reduced_nmf, ignore_index=True)\n",
    "reduced_data.reset_index(inplace=True, drop=True)\n",
    "# reduced_data.target = reduced_data.target.astype(np.int64) #map(lambda x: int(x))\n",
    "print(reduced_data.shape[0] / 3)\n",
    "reduced_data.head()"
   ]
  },
  {
   "cell_type": "code",
   "execution_count": 137,
   "metadata": {},
   "outputs": [],
   "source": [
    "from sklearn.metrics import confusion_matrix\n",
    "from sklearn.metrics import accuracy_score\n",
    "import itertools\n",
    "\n",
    "class TryAllThree():\n",
    "    # This class must be used with a RandomizedSearchCV object as the estimator.\n",
    "    # It also requires a data frame with columns:\n",
    "    # [0, 1, 2, ..., n_examples, 'target', 'test', 'method']\n",
    "    def __init__(self, estimator, data):\n",
    "        self.estimator = estimator\n",
    "        self.data = data\n",
    "        self.methods = self.data.method.unique()\n",
    "        self.results = []\n",
    "        \n",
    "    # This method trains (fits) the classifier and then runs a\n",
    "    def fit_score(self):\n",
    "        test = 0\n",
    "        for method in self.methods:\n",
    "            self.x = self.data[(self.data['test'] == test) & \n",
    "                          (self.data['method'] == method)].iloc[:, :50]\n",
    "            self.y = self.data[(self.data['test'] == test) & \n",
    "                          (self.data['method'] == method)].loc[:, 'target']\n",
    "            self.estimator.fit(self.x, self.y)\n",
    "            self.report(self.estimator.cv_results_, method)\n",
    "            self.confusion(self.estimator, self.x, self.y)\n",
    "            \n",
    "            # Predict test scores using best estimator. No peaking until your done tuning!\n",
    "            self.X_test = self.data[(self.data['test'] == 1) & \n",
    "                          (self.data['method'] == method)].iloc[:, :50]\n",
    "            self.y_test = self.data[(self.data['test'] == 1) & \n",
    "                          (self.data['method'] == method)].loc[:, 'target']\n",
    "            self.results.append((method, f1_scorer(self.estimator.best_estimator_, self.X_test, self.y_test)))\n",
    "    \n",
    "    # This method scores on the test data\n",
    "    def score(self):\n",
    "        for result in self.results:\n",
    "            print('Test score for {0} method: {1}'.format(result[0], result[1]))\n",
    "        \n",
    "    def report(self, results, method, n_top=5):\n",
    "        for i in range(1, n_top + 1):\n",
    "            candidates = np.flatnonzero(results['rank_test_score'] == i)\n",
    "            for candidate in candidates[:3]:\n",
    "                print(\"Method: {0} with rank: {1}\".format(method.upper(), i))\n",
    "                print(\"Mean validation score: {0:.3f} (std: {1:.3f})\".format(\n",
    "                      results['mean_test_score'][candidate],\n",
    "                      results['std_test_score'][candidate]))\n",
    "                print(\"Parameters: {0}\".format(results['params'][candidate]))\n",
    "                print(\"\")\n",
    "        \n",
    "    def confusion(self, estimator, x, y):\n",
    "        np.set_printoptions(precision=3)\n",
    "        y_pred = estimator.best_estimator_.predict(x)\n",
    "        print('Best accuracy acheived: ', accuracy_score(y, y_pred))\n",
    "        print('* * * * * * * * * * * * * * * * * * * *')\n",
    "        cnf_matrix = confusion_matrix(y, y_pred, labels=['pro', 'student'])\n",
    "        classes = ['pro', 'student']\n",
    "        plt.figure()\n",
    "        self.plot_confusion_matrix(cnf_matrix, classes=classes, normalize=False)\n",
    "        plt.show()\n",
    "        print('--------------------------------------------------------------------')\n",
    "        print('--------------------------------------------------------------------')\n",
    "        print('--------------------------------------------------------------------')\n",
    "        \n",
    "        \n",
    "    def plot_confusion_matrix(self, cm, classes,\n",
    "                              normalize=False,\n",
    "                              title='Confusion matrix',\n",
    "                              cmap=plt.cm.Blues):\n",
    "        \"\"\"\n",
    "        This function prints and plots the confusion matrix.\n",
    "        Normalization can be applied by setting `normalize=True`.\n",
    "        \"\"\"\n",
    "        if normalize:\n",
    "            cm = cm.astype('float') / cm.sum(axis=1)[:, np.newaxis]\n",
    "            print(\"Normalized confusion matrix\")\n",
    "        else:\n",
    "            print('Confusion matrix, without normalization')\n",
    "\n",
    "        print(cm)\n",
    "\n",
    "        plt.imshow(cm, interpolation='nearest', cmap=cmap)\n",
    "        plt.title(title)\n",
    "        plt.colorbar()\n",
    "        tick_marks = np.arange(len(classes))\n",
    "        plt.xticks(tick_marks, classes, rotation=45)\n",
    "        plt.yticks(tick_marks, classes)\n",
    "\n",
    "        fmt = '.2f' if normalize else 'd'\n",
    "        thresh = cm.max() / 2.\n",
    "        for i, j in itertools.product(range(cm.shape[0]), range(cm.shape[1])):\n",
    "            plt.text(j, i, format(cm[i, j], fmt),\n",
    "                     horizontalalignment=\"center\",\n",
    "                     color=\"white\" if cm[i, j] > thresh else \"black\")\n",
    "\n",
    "        plt.tight_layout()\n",
    "        plt.ylabel('True label')\n",
    "        plt.xlabel('Predicted label')"
   ]
  },
  {
   "cell_type": "code",
   "execution_count": 138,
   "metadata": {},
   "outputs": [],
   "source": [
    "# A few things we might need in the future\n",
    "from sklearn.model_selection import cross_val_score\n",
    "from sklearn.model_selection import RandomizedSearchCV\n",
    "from scipy.stats import uniform as sp_uniform"
   ]
  },
  {
   "cell_type": "markdown",
   "metadata": {},
   "source": [
    "### Naive Bayes on tfidf vector"
   ]
  },
  {
   "cell_type": "code",
   "execution_count": 139,
   "metadata": {},
   "outputs": [
    {
     "name": "stdout",
     "output_type": "stream",
     "text": [
      "Model with rank: 1\n",
      "Mean validation score: 0.056 (std: 0.079)\n",
      "Parameters: {'alpha': 0.013815846135412178}\n",
      "\n",
      "Model with rank: 2\n",
      "Mean validation score: 0.000 (std: 0.000)\n",
      "Parameters: {'alpha': 6.0654981890332555}\n",
      "\n",
      "Model with rank: 2\n",
      "Mean validation score: 0.000 (std: 0.000)\n",
      "Parameters: {'alpha': 2.273661987584983}\n",
      "\n",
      "Model with rank: 2\n",
      "Mean validation score: 0.000 (std: 0.000)\n",
      "Parameters: {'alpha': 7.611371538024304}\n",
      "\n"
     ]
    }
   ],
   "source": [
    "from sklearn.naive_bayes import MultinomialNB\n",
    "\n",
    "param_dist = {'alpha':np.random.uniform(0.001, 10, 30)}\n",
    "n_iter = 30\n",
    "mnb = MultinomialNB()\n",
    "mnb_search = RandomizedSearchCV(mnb, param_distributions=param_dist, \n",
    "                             n_iter=n_iter, scoring=f1_scorer,\n",
    "                             n_jobs=-1)\n",
    "\n",
    "mnb_search.fit(essays_tfidf, df_features.student)\n",
    "report(mnb_search.cv_results_)"
   ]
  },
  {
   "cell_type": "markdown",
   "metadata": {},
   "source": [
    "### LinearSVC"
   ]
  },
  {
   "cell_type": "code",
   "execution_count": 162,
   "metadata": {},
   "outputs": [
    {
     "name": "stdout",
     "output_type": "stream",
     "text": [
      "Method: LSA with rank: 1\n",
      "Mean validation score: 0.603 (std: 0.112)\n",
      "Parameters: {'C': 1.1645738940147687}\n",
      "\n",
      "Method: LSA with rank: 1\n",
      "Mean validation score: 0.603 (std: 0.112)\n",
      "Parameters: {'C': 1.1323157020222667}\n",
      "\n",
      "Method: LSA with rank: 3\n",
      "Mean validation score: 0.595 (std: 0.205)\n",
      "Parameters: {'C': 0.8536572522485288}\n",
      "\n",
      "Method: LSA with rank: 3\n",
      "Mean validation score: 0.595 (std: 0.205)\n",
      "Parameters: {'C': 0.8635046130064389}\n",
      "\n",
      "Method: LSA with rank: 3\n",
      "Mean validation score: 0.595 (std: 0.205)\n",
      "Parameters: {'C': 0.8806087977405417}\n",
      "\n",
      "Best accuracy acheived:  0.9442307692307692\n",
      "* * * * * * * * * * * * * * * * * * * *\n",
      "Confusion matrix, without normalization\n",
      "[[ 24   2]\n",
      " [ 27 467]]\n"
     ]
    },
    {
     "data": {
      "image/png": "[encoded data removed]",
      "text/plain": [
       "<matplotlib.figure.Figure at 0x26ae30be588>"
      ]
     },
     "metadata": {},
     "output_type": "display_data"
    },
    {
     "name": "stdout",
     "output_type": "stream",
     "text": [
      "--------------------------------------------------------------------\n",
      "--------------------------------------------------------------------\n",
      "--------------------------------------------------------------------\n",
      "Method: LDA with rank: 1\n",
      "Mean validation score: 0.097 (std: 0.006)\n",
      "Parameters: {'C': 0.5800289178165107}\n",
      "\n",
      "Method: LDA with rank: 2\n",
      "Mean validation score: 0.095 (std: 0.004)\n",
      "Parameters: {'C': 0.08128273950611886}\n",
      "\n",
      "Method: LDA with rank: 2\n",
      "Mean validation score: 0.095 (std: 0.004)\n",
      "Parameters: {'C': 1.1645738940147687}\n",
      "\n",
      "Method: LDA with rank: 2\n",
      "Mean validation score: 0.095 (std: 0.004)\n",
      "Parameters: {'C': 4.628796189340523}\n",
      "\n",
      "Best accuracy acheived:  0.46923076923076923\n",
      "* * * * * * * * * * * * * * * * * * * *\n",
      "Confusion matrix, without normalization\n",
      "[[ 15  11]\n",
      " [265 229]]\n"
     ]
    },
    {
     "data": {
      "image/png": "[encoded data removed]",
      "text/plain": [
       "<matplotlib.figure.Figure at 0x26a308e4fd0>"
      ]
     },
     "metadata": {},
     "output_type": "display_data"
    },
    {
     "name": "stdout",
     "output_type": "stream",
     "text": [
      "--------------------------------------------------------------------\n",
      "--------------------------------------------------------------------\n",
      "--------------------------------------------------------------------\n",
      "Method: NMF with rank: 1\n",
      "Mean validation score: 0.099 (std: 0.085)\n",
      "Parameters: {'C': 0.5800289178165107}\n",
      "\n",
      "Method: NMF with rank: 2\n",
      "Mean validation score: 0.095 (std: 0.004)\n",
      "Parameters: {'C': 0.08128273950611886}\n",
      "\n",
      "Method: NMF with rank: 2\n",
      "Mean validation score: 0.095 (std: 0.004)\n",
      "Parameters: {'C': 1.1645738940147687}\n",
      "\n",
      "Method: NMF with rank: 2\n",
      "Mean validation score: 0.095 (std: 0.004)\n",
      "Parameters: {'C': 4.628796189340523}\n",
      "\n",
      "Best accuracy acheived:  0.9442307692307692\n",
      "* * * * * * * * * * * * * * * * * * * *\n",
      "Confusion matrix, without normalization\n",
      "[[  8  18]\n",
      " [ 11 483]]\n"
     ]
    },
    {
     "data": {
      "image/png": "[encoded data removed]",
      "text/plain": [
       "<matplotlib.figure.Figure at 0x26ae80544a8>"
      ]
     },
     "metadata": {},
     "output_type": "display_data"
    },
    {
     "name": "stdout",
     "output_type": "stream",
     "text": [
      "--------------------------------------------------------------------\n",
      "--------------------------------------------------------------------\n",
      "--------------------------------------------------------------------\n"
     ]
    }
   ],
   "source": [
    "from sklearn.svm import LinearSVC\n",
    "\n",
    "param_dist = {'C':np.random.uniform(0.001, 5, 50)}\n",
    "n_iter = 50\n",
    "lin_svc = SVC(class_weight='balanced')\n",
    "lin_svc_search = RandomizedSearchCV(svc, param_distributions=param_dist, \n",
    "                             n_iter=n_iter, scoring=f1_scorer,\n",
    "                             n_jobs=-1)\n",
    "\n",
    "lin_svc_clf = TryAllThree(lin_svc_search, reduced_data)\n",
    "lin_svc_clf.fit_score()"
   ]
  },
  {
   "cell_type": "code",
   "execution_count": 163,
   "metadata": {},
   "outputs": [
    {
     "name": "stdout",
     "output_type": "stream",
     "text": [
      "Test score for lsa method: 0.5\n",
      "Test score for lda method: 0.06666666666666667\n",
      "Test score for nmf method: 0.6153846153846153\n"
     ]
    }
   ],
   "source": [
    "lin_svc_clf.score()"
   ]
  },
  {
   "cell_type": "markdown",
   "metadata": {},
   "source": [
    "### SVC"
   ]
  },
  {
   "cell_type": "code",
   "execution_count": 142,
   "metadata": {},
   "outputs": [
    {
     "name": "stdout",
     "output_type": "stream",
     "text": [
      "Method: LSA with rank: 1\n",
      "Mean validation score: 0.614 (std: 0.220)\n",
      "Parameters: {'C': 0.6831200629286194}\n",
      "\n",
      "Method: LSA with rank: 1\n",
      "Mean validation score: 0.614 (std: 0.220)\n",
      "Parameters: {'C': 0.6790166795791102}\n",
      "\n",
      "Method: LSA with rank: 3\n",
      "Mean validation score: 0.607 (std: 0.222)\n",
      "Parameters: {'C': 0.8955539282058824}\n",
      "\n",
      "Method: LSA with rank: 4\n",
      "Mean validation score: 0.595 (std: 0.205)\n",
      "Parameters: {'C': 0.8662754350992019}\n",
      "\n",
      "Method: LSA with rank: 5\n",
      "Mean validation score: 0.588 (std: 0.133)\n",
      "Parameters: {'C': 0.9747544078979401}\n",
      "\n",
      "Best accuracy acheived:  0.9653846153846154\n",
      "* * * * * * * * * * * * * * * * * * * *\n",
      "Confusion matrix, without normalization\n",
      "[[ 22   4]\n",
      " [ 14 480]]\n"
     ]
    },
    {
     "data": {
      "image/png": "[encoded data removed]",
      "text/plain": [
       "<matplotlib.figure.Figure at 0x26a253696d8>"
      ]
     },
     "metadata": {},
     "output_type": "display_data"
    },
    {
     "name": "stdout",
     "output_type": "stream",
     "text": [
      "--------------------------------------------------------------------\n",
      "--------------------------------------------------------------------\n",
      "--------------------------------------------------------------------\n",
      "Method: LDA with rank: 1\n",
      "Mean validation score: 0.095 (std: 0.004)\n",
      "Parameters: {'C': 0.008818324932826027}\n",
      "\n",
      "Method: LDA with rank: 1\n",
      "Mean validation score: 0.095 (std: 0.004)\n",
      "Parameters: {'C': 0.25175465549397236}\n",
      "\n",
      "Method: LDA with rank: 1\n",
      "Mean validation score: 0.095 (std: 0.004)\n",
      "Parameters: {'C': 0.47850452255402415}\n",
      "\n",
      "Best accuracy acheived:  0.05\n",
      "* * * * * * * * * * * * * * * * * * * *\n",
      "Confusion matrix, without normalization\n",
      "[[ 26   0]\n",
      " [494   0]]\n"
     ]
    },
    {
     "data": {
      "image/png": "[encoded data removed]",
      "text/plain": [
       "<matplotlib.figure.Figure at 0x26ae80544a8>"
      ]
     },
     "metadata": {},
     "output_type": "display_data"
    },
    {
     "name": "stdout",
     "output_type": "stream",
     "text": [
      "--------------------------------------------------------------------\n",
      "--------------------------------------------------------------------\n",
      "--------------------------------------------------------------------\n",
      "Method: NMF with rank: 1\n",
      "Mean validation score: 0.095 (std: 0.004)\n",
      "Parameters: {'C': 0.008818324932826027}\n",
      "\n",
      "Method: NMF with rank: 1\n",
      "Mean validation score: 0.095 (std: 0.004)\n",
      "Parameters: {'C': 0.25175465549397236}\n",
      "\n",
      "Method: NMF with rank: 1\n",
      "Mean validation score: 0.095 (std: 0.004)\n",
      "Parameters: {'C': 0.47850452255402415}\n",
      "\n",
      "Best accuracy acheived:  0.05\n",
      "* * * * * * * * * * * * * * * * * * * *\n",
      "Confusion matrix, without normalization\n",
      "[[ 26   0]\n",
      " [494   0]]\n"
     ]
    },
    {
     "data": {
      "image/png": "[encoded data removed]",
      "text/plain": [
       "<matplotlib.figure.Figure at 0x26ae30d1550>"
      ]
     },
     "metadata": {},
     "output_type": "display_data"
    },
    {
     "name": "stdout",
     "output_type": "stream",
     "text": [
      "--------------------------------------------------------------------\n",
      "--------------------------------------------------------------------\n",
      "--------------------------------------------------------------------\n"
     ]
    }
   ],
   "source": [
    "from sklearn.svm import SVC\n",
    "\n",
    "param_dist = {'C':np.random.uniform(0.001, 1, 30)}\n",
    "n_iter = 30\n",
    "svc = SVC(class_weight='balanced')\n",
    "svc_search = RandomizedSearchCV(svc, param_distributions=param_dist, \n",
    "                             n_iter=n_iter, scoring=f1_scorer,\n",
    "                             n_jobs=-1)\n",
    "\n",
    "svc_clf = TryAllThree(svc_search, reduced_data)\n",
    "svc_clf.fit_score()"
   ]
  },
  {
   "cell_type": "code",
   "execution_count": 147,
   "metadata": {},
   "outputs": [
    {
     "name": "stdout",
     "output_type": "stream",
     "text": [
      "Test score for lsa method: 0.5714285714285714\n",
      "Test score for lda method: 0.10144927536231885\n",
      "Test score for nmf method: 0.10144927536231885\n"
     ]
    }
   ],
   "source": [
    "svc_clf.score()"
   ]
  },
  {
   "cell_type": "markdown",
   "metadata": {},
   "source": [
    "### K-Nearest Neighbors"
   ]
  },
  {
   "cell_type": "code",
   "execution_count": 164,
   "metadata": {},
   "outputs": [
    {
     "name": "stdout",
     "output_type": "stream",
     "text": [
      "Method: LSA with rank: 1\n",
      "Mean validation score: 0.500 (std: 0.082)\n",
      "Parameters: {'n_neighbors': 2, 'weights': 'uniform'}\n",
      "\n",
      "Method: LSA with rank: 2\n",
      "Mean validation score: 0.500 (std: 0.124)\n",
      "Parameters: {'n_neighbors': 1, 'weights': 'uniform'}\n",
      "\n",
      "Method: LSA with rank: 2\n",
      "Mean validation score: 0.500 (std: 0.124)\n",
      "Parameters: {'n_neighbors': 1, 'weights': 'distance'}\n",
      "\n",
      "Method: LSA with rank: 2\n",
      "Mean validation score: 0.500 (std: 0.124)\n",
      "Parameters: {'n_neighbors': 2, 'weights': 'distance'}\n",
      "\n",
      "Method: LSA with rank: 5\n",
      "Mean validation score: 0.445 (std: 0.315)\n",
      "Parameters: {'n_neighbors': 3, 'weights': 'distance'}\n",
      "\n",
      "Method: LSA with rank: 5\n",
      "Mean validation score: 0.445 (std: 0.315)\n",
      "Parameters: {'n_neighbors': 3, 'weights': 'distance'}\n",
      "\n",
      "Best accuracy acheived:  0.9807692307692307\n",
      "* * * * * * * * * * * * * * * * * * * *\n",
      "Confusion matrix, without normalization\n",
      "[[ 26   0]\n",
      " [ 10 484]]\n"
     ]
    },
    {
     "data": {
      "image/png": "[encoded data removed]",
      "text/plain": [
       "<matplotlib.figure.Figure at 0x26ae30bbd30>"
      ]
     },
     "metadata": {},
     "output_type": "display_data"
    },
    {
     "name": "stdout",
     "output_type": "stream",
     "text": [
      "--------------------------------------------------------------------\n",
      "--------------------------------------------------------------------\n",
      "--------------------------------------------------------------------\n",
      "Method: LDA with rank: 1\n",
      "Mean validation score: 0.000 (std: 0.000)\n",
      "Parameters: {'n_neighbors': 11, 'weights': 'uniform'}\n",
      "\n",
      "Method: LDA with rank: 1\n",
      "Mean validation score: 0.000 (std: 0.000)\n",
      "Parameters: {'n_neighbors': 12, 'weights': 'uniform'}\n",
      "\n",
      "Method: LDA with rank: 1\n",
      "Mean validation score: 0.000 (std: 0.000)\n",
      "Parameters: {'n_neighbors': 4, 'weights': 'uniform'}\n",
      "\n",
      "Best accuracy acheived:  0.95\n",
      "* * * * * * * * * * * * * * * * * * * *\n",
      "Confusion matrix, without normalization\n",
      "[[  0  26]\n",
      " [  0 494]]\n"
     ]
    },
    {
     "data": {
      "image/png": "[encoded data removed]",
      "text/plain": [
       "<matplotlib.figure.Figure at 0x26ae9b25c50>"
      ]
     },
     "metadata": {},
     "output_type": "display_data"
    },
    {
     "name": "stdout",
     "output_type": "stream",
     "text": [
      "--------------------------------------------------------------------\n",
      "--------------------------------------------------------------------\n",
      "--------------------------------------------------------------------\n"
     ]
    },
    {
     "name": "stderr",
     "output_type": "stream",
     "text": [
      "C:\\Users\\bretw\\AppData\\Local\\Continuum\\anaconda3\\lib\\site-packages\\sklearn\\metrics\\classification.py:1135: UndefinedMetricWarning: F-score is ill-defined and being set to 0.0 due to no predicted samples.\n",
      "  'precision', 'predicted', average, warn_for)\n"
     ]
    },
    {
     "name": "stdout",
     "output_type": "stream",
     "text": [
      "Method: NMF with rank: 1\n",
      "Mean validation score: 0.203 (std: 0.155)\n",
      "Parameters: {'n_neighbors': 1, 'weights': 'distance'}\n",
      "\n",
      "Method: NMF with rank: 1\n",
      "Mean validation score: 0.203 (std: 0.155)\n",
      "Parameters: {'n_neighbors': 1, 'weights': 'distance'}\n",
      "\n",
      "Method: NMF with rank: 1\n",
      "Mean validation score: 0.203 (std: 0.155)\n",
      "Parameters: {'n_neighbors': 1, 'weights': 'uniform'}\n",
      "\n",
      "Method: NMF with rank: 4\n",
      "Mean validation score: 0.187 (std: 0.149)\n",
      "Parameters: {'n_neighbors': 4, 'weights': 'distance'}\n",
      "\n",
      "Method: NMF with rank: 4\n",
      "Mean validation score: 0.187 (std: 0.149)\n",
      "Parameters: {'n_neighbors': 4, 'weights': 'distance'}\n",
      "\n",
      "Method: NMF with rank: 4\n",
      "Mean validation score: 0.187 (std: 0.149)\n",
      "Parameters: {'n_neighbors': 4, 'weights': 'distance'}\n",
      "\n",
      "Best accuracy acheived:  1.0\n",
      "* * * * * * * * * * * * * * * * * * * *\n",
      "Confusion matrix, without normalization\n",
      "[[ 26   0]\n",
      " [  0 494]]\n"
     ]
    },
    {
     "data": {
      "image/png": "[encoded data removed]",
      "text/plain": [
       "<matplotlib.figure.Figure at 0x26ae3e74898>"
      ]
     },
     "metadata": {},
     "output_type": "display_data"
    },
    {
     "name": "stdout",
     "output_type": "stream",
     "text": [
      "--------------------------------------------------------------------\n",
      "--------------------------------------------------------------------\n",
      "--------------------------------------------------------------------\n"
     ]
    }
   ],
   "source": [
    "from sklearn.neighbors import KNeighborsClassifier\n",
    "from scipy.stats import randint as sp_randint\n",
    "\n",
    "param_dist = {'n_neighbors':sp_randint(1, 15),\n",
    "              'weights':['uniform', 'distance']}\n",
    "n_iter = 30\n",
    "knn = KNeighborsClassifier()\n",
    "knn_search = RandomizedSearchCV(knn, param_distributions=param_dist, \n",
    "                             n_iter=n_iter, scoring=f1_scorer,\n",
    "                             n_jobs=-1)\n",
    "\n",
    "knn_clf = TryAllThree(knn_search, reduced_data)\n",
    "knn_clf.fit_score()"
   ]
  },
  {
   "cell_type": "code",
   "execution_count": 165,
   "metadata": {},
   "outputs": [
    {
     "name": "stdout",
     "output_type": "stream",
     "text": [
      "Test score for lsa method: 0.5\n",
      "Test score for lda method: 0.0\n",
      "Test score for nmf method: 0.7142857142857143\n"
     ]
    }
   ],
   "source": [
    "knn_clf.score()"
   ]
  },
  {
   "cell_type": "markdown",
   "metadata": {},
   "source": [
    "### Random Forest"
   ]
  },
  {
   "cell_type": "code",
   "execution_count": 155,
   "metadata": {},
   "outputs": [
    {
     "name": "stdout",
     "output_type": "stream",
     "text": [
      "Method: LSA with rank: 1\n",
      "Mean validation score: 0.409 (std: 0.064)\n",
      "Parameters: {'n_estimators': 12}\n",
      "\n",
      "Method: LSA with rank: 2\n",
      "Mean validation score: 0.397 (std: 0.280)\n",
      "Parameters: {'n_estimators': 5}\n",
      "\n",
      "Method: LSA with rank: 3\n",
      "Mean validation score: 0.359 (std: 0.254)\n",
      "Parameters: {'n_estimators': 6}\n",
      "\n",
      "Method: LSA with rank: 4\n",
      "Mean validation score: 0.289 (std: 0.211)\n",
      "Parameters: {'n_estimators': 12}\n",
      "\n",
      "Method: LSA with rank: 4\n",
      "Mean validation score: 0.289 (std: 0.211)\n",
      "Parameters: {'n_estimators': 9}\n",
      "\n",
      "Method: LSA with rank: 4\n",
      "Mean validation score: 0.289 (std: 0.211)\n",
      "Parameters: {'n_estimators': 12}\n",
      "\n",
      "Best accuracy acheived:  0.9961538461538462\n",
      "* * * * * * * * * * * * * * * * * * * *\n",
      "Confusion matrix, without normalization\n",
      "[[ 24   2]\n",
      " [  0 494]]\n"
     ]
    },
    {
     "data": {
      "image/png": "[encoded data removed]",
      "text/plain": [
       "<matplotlib.figure.Figure at 0x26ac42e6a58>"
      ]
     },
     "metadata": {},
     "output_type": "display_data"
    },
    {
     "name": "stdout",
     "output_type": "stream",
     "text": [
      "--------------------------------------------------------------------\n",
      "--------------------------------------------------------------------\n",
      "--------------------------------------------------------------------\n",
      "Method: LDA with rank: 1\n",
      "Mean validation score: 0.000 (std: 0.000)\n",
      "Parameters: {'n_estimators': 6}\n",
      "\n",
      "Method: LDA with rank: 1\n",
      "Mean validation score: 0.000 (std: 0.000)\n",
      "Parameters: {'n_estimators': 11}\n",
      "\n",
      "Method: LDA with rank: 1\n",
      "Mean validation score: 0.000 (std: 0.000)\n",
      "Parameters: {'n_estimators': 15}\n",
      "\n",
      "Best accuracy acheived:  0.9884615384615385\n",
      "* * * * * * * * * * * * * * * * * * * *\n",
      "Confusion matrix, without normalization\n",
      "[[ 23   3]\n",
      " [  3 491]]\n"
     ]
    },
    {
     "data": {
      "image/png": "[encoded data removed]",
      "text/plain": [
       "<matplotlib.figure.Figure at 0x26ae30bb438>"
      ]
     },
     "metadata": {},
     "output_type": "display_data"
    },
    {
     "name": "stdout",
     "output_type": "stream",
     "text": [
      "--------------------------------------------------------------------\n",
      "--------------------------------------------------------------------\n",
      "--------------------------------------------------------------------\n",
      "Method: NMF with rank: 1\n",
      "Mean validation score: 0.611 (std: 0.079)\n",
      "Parameters: {'n_estimators': 8}\n",
      "\n",
      "Method: NMF with rank: 2\n",
      "Mean validation score: 0.359 (std: 0.254)\n",
      "Parameters: {'n_estimators': 10}\n",
      "\n",
      "Method: NMF with rank: 3\n",
      "Mean validation score: 0.348 (std: 0.131)\n",
      "Parameters: {'n_estimators': 15}\n",
      "\n",
      "Method: NMF with rank: 4\n",
      "Mean validation score: 0.339 (std: 0.130)\n",
      "Parameters: {'n_estimators': 8}\n",
      "\n",
      "Method: NMF with rank: 5\n",
      "Mean validation score: 0.336 (std: 0.116)\n",
      "Parameters: {'n_estimators': 8}\n",
      "\n",
      "Best accuracy acheived:  0.9980769230769231\n",
      "* * * * * * * * * * * * * * * * * * * *\n",
      "Confusion matrix, without normalization\n",
      "[[ 25   1]\n",
      " [  0 494]]\n"
     ]
    },
    {
     "data": {
      "image/png": "[encoded data removed]",
      "text/plain": [
       "<matplotlib.figure.Figure at 0x26a8c94def0>"
      ]
     },
     "metadata": {},
     "output_type": "display_data"
    },
    {
     "name": "stdout",
     "output_type": "stream",
     "text": [
      "--------------------------------------------------------------------\n",
      "--------------------------------------------------------------------\n",
      "--------------------------------------------------------------------\n"
     ]
    }
   ],
   "source": [
    "from sklearn.ensemble import RandomForestClassifier\n",
    "from scipy.stats import randint as sp_randint\n",
    "\n",
    "param_dist = {'n_estimators':sp_randint(5, 20)}\n",
    "n_iter = 30\n",
    "rand_for = RandomForestClassifier(class_weight='balanced')\n",
    "rand_for_search = RandomizedSearchCV(rand_for, param_distributions=param_dist,\n",
    "                                     n_iter=n_iter, scoring=f1_scorer,\n",
    "                                     n_jobs=-1)\n",
    "\n",
    "rand_for_clf = TryAllThree(rand_for_search, reduced_data)\n",
    "rand_for_clf.fit_score()"
   ]
  },
  {
   "cell_type": "code",
   "execution_count": 156,
   "metadata": {},
   "outputs": [
    {
     "name": "stdout",
     "output_type": "stream",
     "text": [
      "Test score for lsa method: 0.4444444444444445\n",
      "Test score for lda method: 0.16666666666666666\n",
      "Test score for nmf method: 0.22222222222222224\n"
     ]
    }
   ],
   "source": [
    "rand_for_clf.score()"
   ]
  },
  {
   "cell_type": "markdown",
   "metadata": {},
   "source": [
    "# Failure Analysis"
   ]
  },
  {
   "cell_type": "markdown",
   "metadata": {},
   "source": [
    "# Conclusions\n",
    "Self-explanatory"
   ]
  },
  {
   "cell_type": "code",
   "execution_count": 145,
   "metadata": {},
   "outputs": [],
   "source": [
    "import winsound\n",
    "frequency = np.random.randint(2000, 4000, 50)  # Set Frequency To 2500 Hertz\n",
    "duration = 25  # Set Duration To 1000 ms == 1 second\n",
    "for each in frequency:\n",
    "    winsound.Beep(each, duration)"
   ]
  },
  {
   "cell_type": "markdown",
   "metadata": {},
   "source": [
    "# Header"
   ]
  },
  {
   "cell_type": "code",
   "execution_count": null,
   "metadata": {},
   "outputs": [],
   "source": []
  }
 ],
 "metadata": {
  "kernelspec": {
   "display_name": "Python 3",
   "language": "python",
   "name": "python3"
  },
  "language_info": {
   "codemirror_mode": {
    "name": "ipython",
    "version": 3
   },
   "file_extension": ".py",
   "mimetype": "text/x-python",
   "name": "python",
   "nbconvert_exporter": "python",
   "pygments_lexer": "ipython3",
   "version": "3.6.4"
  }
 },
 "nbformat": 4,
 "nbformat_minor": 2
}
