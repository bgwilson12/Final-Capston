{
 "cells": [
  {
   "cell_type": "code",
   "execution_count": 1,
   "metadata": {},
   "outputs": [],
   "source": [
    "import pandas as pd\n",
    "import numpy as np\n",
    "import matplotlib.pyplot as plt\n",
    "import seaborn as sns\n",
    "import pickle\n",
    "import spacy\n",
    "import re"
   ]
  },
  {
   "cell_type": "markdown",
   "metadata": {},
   "source": [
    "# Introduction"
   ]
  },
  {
   "cell_type": "markdown",
   "metadata": {},
   "source": [
    "# Wrangling the Data\n",
    "The data used in this project comes from a couple of different Scrapy Spiders that I wrote for several sites, including one for the original dataset at [UK Essays](https://www.ukessays.com) website. They are called UK_pro_scraper and UK_student_scraper and can be found in this github repository. In an attempt to make my notebook more compact, I have also separated out the preprocessing and cleaning of each dataset. It is a little tedious and repetetive, but if you would like to see my steps, they are in a file called 'Text Preprocessing.ipynb', also located in this repository. The final output of that notebook is a dataframe, saved to file using pickle.\n",
    "\n",
    "We will pick up where that file left off by loading all of our datasets into this notebook with pickle."
   ]
  },
  {
   "cell_type": "code",
   "execution_count": 2,
   "metadata": {},
   "outputs": [
    {
     "data": {
      "text/html": [
       "<div>\n",
       "<style scoped>\n",
       "    .dataframe tbody tr th:only-of-type {\n",
       "        vertical-align: middle;\n",
       "    }\n",
       "\n",
       "    .dataframe tbody tr th {\n",
       "        vertical-align: top;\n",
       "    }\n",
       "\n",
       "    .dataframe thead th {\n",
       "        text-align: right;\n",
       "    }\n",
       "</style>\n",
       "<table border=\"1\" class=\"dataframe\">\n",
       "  <thead>\n",
       "    <tr style=\"text-align: right;\">\n",
       "      <th></th>\n",
       "      <th>subject</th>\n",
       "      <th>joined</th>\n",
       "      <th>student</th>\n",
       "      <th>tokens</th>\n",
       "      <th>lemmas</th>\n",
       "    </tr>\n",
       "  </thead>\n",
       "  <tbody>\n",
       "    <tr>\n",
       "      <th>0</th>\n",
       "      <td>nursing</td>\n",
       "      <td>Total Word Count: This report has been prepare...</td>\n",
       "      <td>student</td>\n",
       "      <td>(Total, Word, Count, :, This, report, has, bee...</td>\n",
       "      <td>total word count : this report have be prepare...</td>\n",
       "    </tr>\n",
       "    <tr>\n",
       "      <th>1</th>\n",
       "      <td>nursing</td>\n",
       "      <td>Leadership has been described as \"a relational...</td>\n",
       "      <td>student</td>\n",
       "      <td>(Leadership, has, been, described, as, \", a, r...</td>\n",
       "      <td>leadership have be describe as \" a relational ...</td>\n",
       "    </tr>\n",
       "    <tr>\n",
       "      <th>2</th>\n",
       "      <td>nursing</td>\n",
       "      <td>Depression among pregnant adolescents as well ...</td>\n",
       "      <td>student</td>\n",
       "      <td>(Depression, among, pregnant, adolescents, as,...</td>\n",
       "      <td>depression among pregnant adolescent as well a...</td>\n",
       "    </tr>\n",
       "    <tr>\n",
       "      <th>3</th>\n",
       "      <td>nursing</td>\n",
       "      <td>Davidson, E., Daly, J., Brady, R. &amp; Higgins, P...</td>\n",
       "      <td>student</td>\n",
       "      <td>(Davidson, ,, E., ,, Daly, ,, J., ,, Brady, ,,...</td>\n",
       "      <td>davidson , e. , daly , j. , brady , r. &amp; higgi...</td>\n",
       "    </tr>\n",
       "    <tr>\n",
       "      <th>4</th>\n",
       "      <td>nursing</td>\n",
       "      <td>Idiopathic pulmonary fibrosis (IPF) is a devas...</td>\n",
       "      <td>student</td>\n",
       "      <td>(Idiopathic, pulmonary, fibrosis, (, IPF, ), i...</td>\n",
       "      <td>idiopathic pulmonary fibrosis ( ipf ) be a dev...</td>\n",
       "    </tr>\n",
       "  </tbody>\n",
       "</table>\n",
       "</div>"
      ],
      "text/plain": [
       "   subject                                             joined  student  \\\n",
       "0  nursing  Total Word Count: This report has been prepare...  student   \n",
       "1  nursing  Leadership has been described as \"a relational...  student   \n",
       "2  nursing  Depression among pregnant adolescents as well ...  student   \n",
       "3  nursing  Davidson, E., Daly, J., Brady, R. & Higgins, P...  student   \n",
       "4  nursing  Idiopathic pulmonary fibrosis (IPF) is a devas...  student   \n",
       "\n",
       "                                              tokens  \\\n",
       "0  (Total, Word, Count, :, This, report, has, bee...   \n",
       "1  (Leadership, has, been, described, as, \", a, r...   \n",
       "2  (Depression, among, pregnant, adolescents, as,...   \n",
       "3  (Davidson, ,, E., ,, Daly, ,, J., ,, Brady, ,,...   \n",
       "4  (Idiopathic, pulmonary, fibrosis, (, IPF, ), i...   \n",
       "\n",
       "                                              lemmas  \n",
       "0  total word count : this report have be prepare...  \n",
       "1  leadership have be describe as \" a relational ...  \n",
       "2  depression among pregnant adolescent as well a...  \n",
       "3  davidson , e. , daly , j. , brady , r. & higgi...  \n",
       "4  idiopathic pulmonary fibrosis ( ipf ) be a dev...  "
      ]
     },
     "execution_count": 2,
     "metadata": {},
     "output_type": "execute_result"
    }
   ],
   "source": [
    "df_features = pickle.load(open('../df_features.pkl', 'rb'))\n",
    "df_features.head()"
   ]
  },
  {
   "cell_type": "markdown",
   "metadata": {},
   "source": [
    "A little background, in case you decided not to look at the preprocessing steps. I'll talk about each column and describe the data in each one.\n",
    "* **Subject:** Each essay was pulled from one of three subjects \\[Nursing, Business, Law\\] because these three subjects were the only subjects available in the professional samples for the original dataset (UK Essays). \n",
    "* **Joined:** The text in this column is the full text concatenated together. Original data from scrapy usually came in as a list of paragraph length strings, so this is what is left of the original data after preprocessing and before tokenization/lemmatization.\n",
    "* **Student:** This is the target column. An essay was either written by a student (all student essays are from UK essays), or written by a professional. The two corresponding values, then, are 'student' and 'pro'.\n",
    "* **Tokens:** I used the SpaCy Tokenizer to parse the text and split each word from punctuation, clean up raw values like tabs and newlines, and to tag each word with its part of speech (noun, verb, pronoun, etc.)\n",
    "* **Lemmas:** A SpaCy token object has a '.lemma' attribute, which is the only reason I tokenized it. For those unfamiliar, Lemmatizaition is a way of cutting words down to their roots so that you can have less features in word vectors. For instance the words 'is', are', and 'am' will all be changed to the verb 'be'. Modifiers are also cut off (I don't know the exact name of these things), for example 'cleaning', 'cleans', and 'cleaned' will all be changed to 'clean'. Stemming is a less robust method that relies on the last couple of letters in a word instead of its part of speech to cut the word down to its root. I don't have an example for this. "
   ]
  },
  {
   "cell_type": "code",
   "execution_count": 527,
   "metadata": {},
   "outputs": [
    {
     "data": {
      "image/png": "[encoded data removed]",
      "text/plain": [
       "<matplotlib.figure.Figure at 0x1c98dc365f8>"
      ]
     },
     "metadata": {},
     "output_type": "display_data"
    }
   ],
   "source": [
    "sns.countplot(x='subject', hue='student', data=df_features, dodge=False)\n",
    "plt.title('Targets Broken Down by Subject')\n",
    "plt.savefig('subject_target_breakdown.png')\n",
    "plt.show()"
   ]
  },
  {
   "cell_type": "code",
   "execution_count": 526,
   "metadata": {},
   "outputs": [
    {
     "data": {
      "text/plain": [
       "student    618\n",
       "pro        112\n",
       "Name: student, dtype: int64"
      ]
     },
     "execution_count": 526,
     "metadata": {},
     "output_type": "execute_result"
    }
   ],
   "source": [
    "df_features.student.value_counts()"
   ]
  },
  {
   "cell_type": "markdown",
   "metadata": {},
   "source": [
    "Unfortunately, due to some inconsistency in the way the student essays were formatted, many Law essays had to be thrown out. I think we still have enough to work with, especially since our dataset is a little bit imbalanced anyways. "
   ]
  },
  {
   "cell_type": "code",
   "execution_count": 4,
   "metadata": {},
   "outputs": [],
   "source": [
    "from sklearn.feature_extraction.text import TfidfVectorizer\n",
    "\n",
    "# Creating the tf-idf matrix.\n",
    "vectorizer = TfidfVectorizer(stop_words='english', sublinear_tf=True)\n",
    "essays_tfidf = vectorizer.fit_transform(df_features.lemmas)\n",
    "# essays_tfidf = vectorizer.fit_transform(df_features.joined)\n",
    "\n",
    "\n",
    "# Getting the word list.\n",
    "terms = vectorizer.get_feature_names()"
   ]
  },
  {
   "cell_type": "markdown",
   "metadata": {},
   "source": [
    "You'll notice in the cell above that I tried two different ways of vectorizing the text. One with lemmatization, one without. Lemmatization reduces Doc2Vec's ability to classify the texts, but improves all of the other methods drastically."
   ]
  },
  {
   "cell_type": "markdown",
   "metadata": {},
   "source": [
    "## Unsupervised Clustering\n",
    "In this section, we will reduce dimensionality using the following unsupervised methods:\n",
    "- LSA\n",
    "- LDA\n",
    "- NNMF\n",
    "- Doc2Vec"
   ]
  },
  {
   "cell_type": "markdown",
   "metadata": {},
   "source": [
    "## Doc2Vec\n",
    "All of the Doc2Vec analysis required its own text cleaner and a separate pipeline. This algorithm is traditionally very data hungry, so after my initially poor results, I decided not to move forward with it due to the size of our dataset."
   ]
  },
  {
   "cell_type": "code",
   "execution_count": 529,
   "metadata": {},
   "outputs": [],
   "source": [
    "from nltk import RegexpTokenizer\n",
    "from nltk.corpus import stopwords\n",
    "\n",
    "tokenizer = RegexpTokenizer(r'\\w+')\n",
    "stopword_set = set(stopwords.words('english'))\n",
    "\n",
    "def nlp_clean(data):\n",
    "    \n",
    "    new_data = []\n",
    "    for d in data:\n",
    "        new_str = d.lower()\n",
    "        dlist = tokenizer.tokenize(new_str)\n",
    "        dlist = list(set(dlist).difference(stopword_set))\n",
    "        new_data.append(dlist)\n",
    "    return new_data"
   ]
  },
  {
   "cell_type": "code",
   "execution_count": 530,
   "metadata": {},
   "outputs": [],
   "source": [
    "class LabeledLineSentence(object):\n",
    "    \n",
    "    def __init__(self, doc_list, labels_list):\n",
    "        \n",
    "        self.labels_list = labels_list\n",
    "        self.doc_list = doc_list\n",
    "        \n",
    "    def __iter__(self):\n",
    "        # Create an iterable of TaggedDocuments\n",
    "        # Don't know why, just following the documentation\n",
    "        for idx, doc in enumerate(self.doc_list):\n",
    "            yield gensim.models.doc2vec.TaggedDocument(doc,\n",
    "                                                       [self.labels_list[idx]])"
   ]
  },
  {
   "cell_type": "markdown",
   "metadata": {},
   "source": [
    "Doc2Vec needs to have its own special datatype, called a TaggedDocument, in order to fit the data. The above class was taken from a Gensim tutorial on Doc2Vec, and provides a way to read data from disk using this generator. However, our dataset is super small and fits comfortably on my 16GB of RAM."
   ]
  },
  {
   "cell_type": "code",
   "execution_count": 531,
   "metadata": {},
   "outputs": [],
   "source": [
    "data = df_features.joined.tolist()\n",
    "names = df_features.subject.tolist()"
   ]
  },
  {
   "cell_type": "code",
   "execution_count": 532,
   "metadata": {},
   "outputs": [],
   "source": [
    "data = nlp_clean(data)"
   ]
  },
  {
   "cell_type": "code",
   "execution_count": 533,
   "metadata": {},
   "outputs": [],
   "source": [
    "from gensim.models import Doc2Vec\n",
    "import gensim\n",
    "\n",
    "# Creating our document iterable here, using the yields (technically a generator?)\n",
    "it = LabeledLineSentence(data, names)\n",
    "\n",
    "# Initialize model and build vocab\n",
    "model = Doc2Vec(vector_size=50, window=8, min_count=2, \n",
    "                workers=3, alpha=0.025, min_alpha=0.005)\n",
    "model.build_vocab(it)\n",
    "\n",
    "# Training the model\n",
    "model.train(it, total_examples=len(df_features), epochs=10)\n",
    "\n",
    "model.save('doc2vec.model')"
   ]
  },
  {
   "cell_type": "markdown",
   "metadata": {},
   "source": [
    "Hyperparameters were mostly tuned by hand for this method."
   ]
  },
  {
   "cell_type": "code",
   "execution_count": 534,
   "metadata": {},
   "outputs": [],
   "source": [
    "# This function reports the top n_top results for a random search\n",
    "def report(results, n_top=5):\n",
    "    for i in range(1, n_top + 1):\n",
    "        candidates = np.flatnonzero(results['rank_test_score'] == i)\n",
    "        for candidate in candidates[:3]:\n",
    "            print(\"Model with rank: {0}\".format(i))\n",
    "            print(\"Mean validation score: {0:.3f} (std: {1:.3f})\".format(\n",
    "                  results['mean_test_score'][candidate],\n",
    "                  results['std_test_score'][candidate]))\n",
    "            print(\"Parameters: {0}\".format(results['params'][candidate]))\n",
    "            print(\"\")"
   ]
  },
  {
   "cell_type": "code",
   "execution_count": 567,
   "metadata": {},
   "outputs": [],
   "source": [
    "from sklearn.svm import SVC\n",
    "from sklearn.model_selection import train_test_split\n",
    "from sklearn.model_selection import cross_val_score\n",
    "from sklearn.model_selection import RandomizedSearchCV\n",
    "from sklearn.metrics import make_scorer, f1_score\n",
    "f1_scorer = make_scorer(f1_score, pos_label='pro')\n",
    "from scipy.stats import uniform as sp_uniform\n",
    "\n",
    "X = [model.infer_vector(df_features.joined[i]) for i in range(len(df_features))]\n",
    "X_train_docvec, X_test_docvec, y_train_docvec, y_test_docvec = train_test_split(X,\n",
    "                                                                               df_features.student,\n",
    "                                                                               test_size = 0.2,\n",
    "                                                                                stratify=df_features.student)\n"
   ]
  },
  {
   "cell_type": "code",
   "execution_count": 568,
   "metadata": {},
   "outputs": [
    {
     "data": {
      "text/plain": [
       "student    494\n",
       "pro         90\n",
       "Name: student, dtype: int64"
      ]
     },
     "execution_count": 568,
     "metadata": {},
     "output_type": "execute_result"
    }
   ],
   "source": [
    "y_train_docvec.value_counts()"
   ]
  },
  {
   "cell_type": "code",
   "execution_count": 581,
   "metadata": {},
   "outputs": [
    {
     "data": {
      "text/html": [
       "<div>\n",
       "<style scoped>\n",
       "    .dataframe tbody tr th:only-of-type {\n",
       "        vertical-align: middle;\n",
       "    }\n",
       "\n",
       "    .dataframe tbody tr th {\n",
       "        vertical-align: top;\n",
       "    }\n",
       "\n",
       "    .dataframe thead th {\n",
       "        text-align: right;\n",
       "    }\n",
       "</style>\n",
       "<table border=\"1\" class=\"dataframe\">\n",
       "  <thead>\n",
       "    <tr style=\"text-align: right;\">\n",
       "      <th></th>\n",
       "      <th>0</th>\n",
       "      <th>1</th>\n",
       "      <th>2</th>\n",
       "      <th>3</th>\n",
       "      <th>4</th>\n",
       "      <th>5</th>\n",
       "      <th>6</th>\n",
       "      <th>7</th>\n",
       "      <th>8</th>\n",
       "      <th>9</th>\n",
       "      <th>...</th>\n",
       "      <th>43</th>\n",
       "      <th>44</th>\n",
       "      <th>45</th>\n",
       "      <th>46</th>\n",
       "      <th>47</th>\n",
       "      <th>48</th>\n",
       "      <th>49</th>\n",
       "      <th>target</th>\n",
       "      <th>test</th>\n",
       "      <th>method</th>\n",
       "    </tr>\n",
       "  </thead>\n",
       "  <tbody>\n",
       "    <tr>\n",
       "      <th>0</th>\n",
       "      <td>-2.573046</td>\n",
       "      <td>0.246818</td>\n",
       "      <td>4.163503</td>\n",
       "      <td>9.109872</td>\n",
       "      <td>6.777288</td>\n",
       "      <td>3.975235</td>\n",
       "      <td>-4.385602</td>\n",
       "      <td>3.372586</td>\n",
       "      <td>19.046492</td>\n",
       "      <td>6.966911</td>\n",
       "      <td>...</td>\n",
       "      <td>8.697882</td>\n",
       "      <td>-8.558159</td>\n",
       "      <td>-16.934288</td>\n",
       "      <td>0.181909</td>\n",
       "      <td>-1.581980</td>\n",
       "      <td>-3.498368</td>\n",
       "      <td>-12.198542</td>\n",
       "      <td>student</td>\n",
       "      <td>0</td>\n",
       "      <td>doc</td>\n",
       "    </tr>\n",
       "    <tr>\n",
       "      <th>1</th>\n",
       "      <td>-1.369201</td>\n",
       "      <td>0.433742</td>\n",
       "      <td>2.963048</td>\n",
       "      <td>5.898821</td>\n",
       "      <td>5.853118</td>\n",
       "      <td>7.435981</td>\n",
       "      <td>-5.064857</td>\n",
       "      <td>6.041371</td>\n",
       "      <td>19.689259</td>\n",
       "      <td>7.817863</td>\n",
       "      <td>...</td>\n",
       "      <td>11.231800</td>\n",
       "      <td>-7.252870</td>\n",
       "      <td>-16.214956</td>\n",
       "      <td>0.296150</td>\n",
       "      <td>-0.030713</td>\n",
       "      <td>-4.118734</td>\n",
       "      <td>-12.612487</td>\n",
       "      <td>student</td>\n",
       "      <td>0</td>\n",
       "      <td>doc</td>\n",
       "    </tr>\n",
       "    <tr>\n",
       "      <th>2</th>\n",
       "      <td>-3.236900</td>\n",
       "      <td>0.988278</td>\n",
       "      <td>4.662866</td>\n",
       "      <td>6.275690</td>\n",
       "      <td>4.586920</td>\n",
       "      <td>7.540801</td>\n",
       "      <td>-5.773782</td>\n",
       "      <td>2.778496</td>\n",
       "      <td>19.210239</td>\n",
       "      <td>6.535793</td>\n",
       "      <td>...</td>\n",
       "      <td>9.079895</td>\n",
       "      <td>-7.613696</td>\n",
       "      <td>-15.103765</td>\n",
       "      <td>-1.044320</td>\n",
       "      <td>1.177577</td>\n",
       "      <td>-4.049994</td>\n",
       "      <td>-11.371288</td>\n",
       "      <td>student</td>\n",
       "      <td>0</td>\n",
       "      <td>doc</td>\n",
       "    </tr>\n",
       "    <tr>\n",
       "      <th>3</th>\n",
       "      <td>-3.737182</td>\n",
       "      <td>0.493197</td>\n",
       "      <td>7.239084</td>\n",
       "      <td>5.112769</td>\n",
       "      <td>5.451595</td>\n",
       "      <td>9.099748</td>\n",
       "      <td>-6.563784</td>\n",
       "      <td>5.581265</td>\n",
       "      <td>20.280502</td>\n",
       "      <td>6.719222</td>\n",
       "      <td>...</td>\n",
       "      <td>11.989456</td>\n",
       "      <td>-8.024485</td>\n",
       "      <td>-17.704367</td>\n",
       "      <td>-3.775067</td>\n",
       "      <td>-0.438089</td>\n",
       "      <td>-4.521161</td>\n",
       "      <td>-12.696242</td>\n",
       "      <td>student</td>\n",
       "      <td>0</td>\n",
       "      <td>doc</td>\n",
       "    </tr>\n",
       "    <tr>\n",
       "      <th>4</th>\n",
       "      <td>-2.085998</td>\n",
       "      <td>1.091257</td>\n",
       "      <td>3.241959</td>\n",
       "      <td>5.787794</td>\n",
       "      <td>6.868362</td>\n",
       "      <td>7.622766</td>\n",
       "      <td>-4.922379</td>\n",
       "      <td>4.182214</td>\n",
       "      <td>18.157978</td>\n",
       "      <td>7.176729</td>\n",
       "      <td>...</td>\n",
       "      <td>9.926769</td>\n",
       "      <td>-7.341763</td>\n",
       "      <td>-14.291899</td>\n",
       "      <td>1.234094</td>\n",
       "      <td>-0.013085</td>\n",
       "      <td>-4.504693</td>\n",
       "      <td>-11.643137</td>\n",
       "      <td>pro</td>\n",
       "      <td>0</td>\n",
       "      <td>doc</td>\n",
       "    </tr>\n",
       "  </tbody>\n",
       "</table>\n",
       "<p>5 rows × 53 columns</p>\n",
       "</div>"
      ],
      "text/plain": [
       "          0         1         2         3         4         5         6  \\\n",
       "0 -2.573046  0.246818  4.163503  9.109872  6.777288  3.975235 -4.385602   \n",
       "1 -1.369201  0.433742  2.963048  5.898821  5.853118  7.435981 -5.064857   \n",
       "2 -3.236900  0.988278  4.662866  6.275690  4.586920  7.540801 -5.773782   \n",
       "3 -3.737182  0.493197  7.239084  5.112769  5.451595  9.099748 -6.563784   \n",
       "4 -2.085998  1.091257  3.241959  5.787794  6.868362  7.622766 -4.922379   \n",
       "\n",
       "          7          8         9   ...           43        44         45  \\\n",
       "0  3.372586  19.046492  6.966911   ...     8.697882 -8.558159 -16.934288   \n",
       "1  6.041371  19.689259  7.817863   ...    11.231800 -7.252870 -16.214956   \n",
       "2  2.778496  19.210239  6.535793   ...     9.079895 -7.613696 -15.103765   \n",
       "3  5.581265  20.280502  6.719222   ...    11.989456 -8.024485 -17.704367   \n",
       "4  4.182214  18.157978  7.176729   ...     9.926769 -7.341763 -14.291899   \n",
       "\n",
       "         46        47        48         49   target  test  method  \n",
       "0  0.181909 -1.581980 -3.498368 -12.198542  student     0     doc  \n",
       "1  0.296150 -0.030713 -4.118734 -12.612487  student     0     doc  \n",
       "2 -1.044320  1.177577 -4.049994 -11.371288  student     0     doc  \n",
       "3 -3.775067 -0.438089 -4.521161 -12.696242  student     0     doc  \n",
       "4  1.234094 -0.013085 -4.504693 -11.643137      pro     0     doc  \n",
       "\n",
       "[5 rows x 53 columns]"
      ]
     },
     "execution_count": 581,
     "metadata": {},
     "output_type": "execute_result"
    }
   ],
   "source": [
    "doc_df = pd.DataFrame(X_train_docvec)\n",
    "doc_df['target'] = y_train_docvec\n",
    "doc_df['target'] = doc_df['target'].map(lambda x: 'student' if x == 'student' else 'pro')\n",
    "doc_df['test'] = 0\n",
    "doc_df['method'] = 'doc'\n",
    "\n",
    "temp_df = pd.DataFrame(X_test_docvec)\n",
    "temp_df['target'] = y_test_docvec\n",
    "temp_df['target'] = temp_df['target'].map(lambda x: 'student' if x == 'student' else 'pro')\n",
    "temp_df['test'] = 1\n",
    "temp_df['method'] = 'doc'\n",
    "doc_df = doc_df.append(temp_df, ignore_index=True)\n",
    "doc_df.head()"
   ]
  },
  {
   "cell_type": "code",
   "execution_count": 582,
   "metadata": {},
   "outputs": [
    {
     "data": {
      "text/plain": [
       "0    584\n",
       "1    146\n",
       "Name: test, dtype: int64"
      ]
     },
     "execution_count": 582,
     "metadata": {},
     "output_type": "execute_result"
    }
   ],
   "source": [
    "doc_df.test.value_counts()"
   ]
  },
  {
   "cell_type": "code",
   "execution_count": 583,
   "metadata": {},
   "outputs": [
    {
     "data": {
      "image/png": "[encoded data removed]",
      "text/plain": [
       "<matplotlib.figure.Figure at 0x1c97b88bfd0>"
      ]
     },
     "metadata": {},
     "output_type": "display_data"
    },
    {
     "name": "stdout",
     "output_type": "stream",
     "text": [
      "        Training Score: 0.666       \n",
      "        Validation Score: 0.346     \n"
     ]
    }
   ],
   "source": [
    "param_dist = {'C':['uniform',(0.001, 3.0)]}\n",
    "n_iter = 30\n",
    "svc = SVC(class_weight='balanced')\n",
    "svc_search = RandomSearch(svc, params=param_dist, \n",
    "                             n_iter=50, scoring=f1_scorer)\n",
    "\n",
    "\n",
    "svc_search.fit(doc_df)          \n",
    "svc_search.print_score_report()"
   ]
  },
  {
   "cell_type": "code",
   "execution_count": 584,
   "metadata": {},
   "outputs": [
    {
     "name": "stdout",
     "output_type": "stream",
     "text": [
      "Model with rank: 1\n",
      "Mean validation score: 0.532 (std: 0.046)\n",
      "Parameters: {'n_neighbors': 6, 'weights': 'uniform'}\n",
      "\n",
      "Model with rank: 1\n",
      "Mean validation score: 0.532 (std: 0.046)\n",
      "Parameters: {'n_neighbors': 6, 'weights': 'uniform'}\n",
      "\n",
      "Model with rank: 1\n",
      "Mean validation score: 0.532 (std: 0.046)\n",
      "Parameters: {'n_neighbors': 6, 'weights': 'uniform'}\n",
      "\n",
      "Model with rank: 4\n",
      "Mean validation score: 0.511 (std: 0.051)\n",
      "Parameters: {'n_neighbors': 4, 'weights': 'uniform'}\n",
      "\n",
      "Model with rank: 4\n",
      "Mean validation score: 0.511 (std: 0.051)\n",
      "Parameters: {'n_neighbors': 4, 'weights': 'uniform'}\n",
      "\n"
     ]
    }
   ],
   "source": [
    "from sklearn.neighbors import KNeighborsClassifier\n",
    "from scipy.stats import randint as sp_randint\n",
    "\n",
    "param_dist = {'n_neighbors':sp_randint(1, 10),\n",
    "              'weights':['uniform', 'distance']}\n",
    "n_iter = 30\n",
    "knn = KNeighborsClassifier()\n",
    "knn_search = RandomizedSearchCV(knn, param_distributions=param_dist, \n",
    "                             n_iter=n_iter, scoring=f1_scorer,\n",
    "                             n_jobs=-1)\n",
    "\n",
    "\n",
    "knn_search.fit(X_train_docvec, y_train_docvec)          \n",
    "report(knn_search.cv_results_)"
   ]
  },
  {
   "cell_type": "code",
   "execution_count": 15,
   "metadata": {},
   "outputs": [],
   "source": [
    "n_components = 50"
   ]
  },
  {
   "cell_type": "markdown",
   "metadata": {},
   "source": [
    "I have decided on 50 componenents a little bit arbitrarily. Using more than this has no effect on any of the results, and has been a pretty reliable number in the past."
   ]
  },
  {
   "cell_type": "code",
   "execution_count": 16,
   "metadata": {
    "collapsed": true,
    "deletable": true,
    "editable": true
   },
   "outputs": [],
   "source": [
    "# LSA\n",
    "\n",
    "from sklearn.decomposition import TruncatedSVD\n",
    "from sklearn.pipeline import make_pipeline\n",
    "from sklearn.preprocessing import Normalizer\n",
    "\n",
    "svd= TruncatedSVD(n_components)\n",
    "lsa = make_pipeline(svd, Normalizer(copy=False))\n",
    "essays_lsa = lsa.fit_transform(essays_tfidf)"
   ]
  },
  {
   "cell_type": "code",
   "execution_count": 17,
   "metadata": {
    "collapsed": false,
    "deletable": true,
    "editable": true
   },
   "outputs": [
    {
     "name": "stderr",
     "output_type": "stream",
     "text": [
      "C:\\Users\\bretw\\AppData\\Local\\Continuum\\anaconda3\\lib\\site-packages\\sklearn\\decomposition\\online_lda.py:536: DeprecationWarning: The default value for 'learning_method' will be changed from 'online' to 'batch' in the release 0.20. This warning was introduced in 0.18.\n",
      "  DeprecationWarning)\n"
     ]
    }
   ],
   "source": [
    "# LDA\n",
    "from sklearn.decomposition import LatentDirichletAllocation as LDA\n",
    "\n",
    "lda = LDA(n_components=n_components, \n",
    "          doc_topic_prior=None, # Prior = 1/n_documents\n",
    "          topic_word_prior=1/n_components,\n",
    "          learning_decay=0.7, # Convergence rate.\n",
    "          learning_offset=10.0, # Causes earlier iterations to have less influence on the learning\n",
    "          max_iter=10, # when to stop even if the model is not converging (to prevent running forever)\n",
    "          evaluate_every=-1, # Do not evaluate perplexity, as it slows training time.\n",
    "          mean_change_tol=0.001, # Stop updating the document topic distribution in the E-step when mean change is < tol\n",
    "          max_doc_update_iter=100, # When to stop updating the document topic distribution in the E-step even if tol is not reached\n",
    "          n_jobs=-1, # Use all available CPUs to speed up processing time.\n",
    "          verbose=0, # amount of output to give while iterating\n",
    "          random_state=0\n",
    "         )\n",
    "\n",
    "essays_lda = lda.fit_transform(essays_tfidf) \n"
   ]
  },
  {
   "cell_type": "code",
   "execution_count": 18,
   "metadata": {
    "collapsed": true,
    "deletable": true,
    "editable": true
   },
   "outputs": [],
   "source": [
    "# NNMF\n",
    "\n",
    "from sklearn.decomposition import NMF\n",
    "\n",
    "nmf = NMF(alpha=0.0, \n",
    "          init='nndsvdar', # how starting value are calculated\n",
    "          l1_ratio=0.0, # Sets whether regularization is L2 (0), L1 (1), or a combination (values between 0 and 1)\n",
    "          max_iter=200, # when to stop even if the model is not converging (to prevent running forever)\n",
    "          n_components=n_components, \n",
    "          random_state=0, \n",
    "          solver='cd', # Use Coordinate Descent to solve\n",
    "          tol=0.0001, # model will stop if tfidf-WH <= tol\n",
    "          verbose=0 # amount of output to give while iterating\n",
    "         )\n",
    "essays_nmf = nmf.fit_transform(essays_tfidf) \n"
   ]
  },
  {
   "cell_type": "markdown",
   "metadata": {},
   "source": [
    "# Modeling\n",
    "In this section, we will attempt to classify the data in as many ways as we can think of!\n",
    "- Compare accuracy, f1, confusion matrix\n",
    "- Try LSA,LDA, nnmf one at a time\n",
    "    "
   ]
  },
  {
   "cell_type": "markdown",
   "metadata": {},
   "source": [
    "In the following cell, I have packed all three of the unsupervised outputs into one dataframe in order to feed it more efficiently into a custom class that will generate results for all three, side-by-side. It is a little bit clunky to look at, bu basically all I have done is break each dataset into train and test splits, and added two additional columns called method and test. They indicate which data belongs to which method, as well as if it belongs to the test set or the training set."
   ]
  },
  {
   "cell_type": "code",
   "execution_count": 19,
   "metadata": {},
   "outputs": [
    {
     "name": "stdout",
     "output_type": "stream",
     "text": [
      "730.0\n"
     ]
    },
    {
     "data": {
      "text/html": [
       "<div>\n",
       "<style scoped>\n",
       "    .dataframe tbody tr th:only-of-type {\n",
       "        vertical-align: middle;\n",
       "    }\n",
       "\n",
       "    .dataframe tbody tr th {\n",
       "        vertical-align: top;\n",
       "    }\n",
       "\n",
       "    .dataframe thead th {\n",
       "        text-align: right;\n",
       "    }\n",
       "</style>\n",
       "<table border=\"1\" class=\"dataframe\">\n",
       "  <thead>\n",
       "    <tr style=\"text-align: right;\">\n",
       "      <th></th>\n",
       "      <th>0</th>\n",
       "      <th>1</th>\n",
       "      <th>2</th>\n",
       "      <th>3</th>\n",
       "      <th>4</th>\n",
       "      <th>5</th>\n",
       "      <th>6</th>\n",
       "      <th>7</th>\n",
       "      <th>8</th>\n",
       "      <th>9</th>\n",
       "      <th>...</th>\n",
       "      <th>43</th>\n",
       "      <th>44</th>\n",
       "      <th>45</th>\n",
       "      <th>46</th>\n",
       "      <th>47</th>\n",
       "      <th>48</th>\n",
       "      <th>49</th>\n",
       "      <th>target</th>\n",
       "      <th>test</th>\n",
       "      <th>method</th>\n",
       "    </tr>\n",
       "  </thead>\n",
       "  <tbody>\n",
       "    <tr>\n",
       "      <th>0</th>\n",
       "      <td>0.785115</td>\n",
       "      <td>-0.164523</td>\n",
       "      <td>-0.00952048</td>\n",
       "      <td>0.0735985</td>\n",
       "      <td>0.301925</td>\n",
       "      <td>-0.0926955</td>\n",
       "      <td>0.0442399</td>\n",
       "      <td>0.0164873</td>\n",
       "      <td>-0.11659</td>\n",
       "      <td>0.126724</td>\n",
       "      <td>...</td>\n",
       "      <td>-0.0157787</td>\n",
       "      <td>0.0679339</td>\n",
       "      <td>0.00549483</td>\n",
       "      <td>-0.105635</td>\n",
       "      <td>0.0130594</td>\n",
       "      <td>-0.00169317</td>\n",
       "      <td>-0.0565193</td>\n",
       "      <td>student</td>\n",
       "      <td>0</td>\n",
       "      <td>lsa</td>\n",
       "    </tr>\n",
       "    <tr>\n",
       "      <th>1</th>\n",
       "      <td>0.562808</td>\n",
       "      <td>-0.137363</td>\n",
       "      <td>0.0599365</td>\n",
       "      <td>0.0171604</td>\n",
       "      <td>-0.128064</td>\n",
       "      <td>0.0292084</td>\n",
       "      <td>0.0710008</td>\n",
       "      <td>-0.0221945</td>\n",
       "      <td>-0.389115</td>\n",
       "      <td>0.0910589</td>\n",
       "      <td>...</td>\n",
       "      <td>0.237277</td>\n",
       "      <td>-0.106184</td>\n",
       "      <td>0.00250128</td>\n",
       "      <td>-0.0567713</td>\n",
       "      <td>0.0697015</td>\n",
       "      <td>-0.258017</td>\n",
       "      <td>-0.0763964</td>\n",
       "      <td>pro</td>\n",
       "      <td>0</td>\n",
       "      <td>lsa</td>\n",
       "    </tr>\n",
       "    <tr>\n",
       "      <th>2</th>\n",
       "      <td>0.721463</td>\n",
       "      <td>0.350559</td>\n",
       "      <td>-0.134512</td>\n",
       "      <td>-0.0923412</td>\n",
       "      <td>0.230676</td>\n",
       "      <td>0.0579614</td>\n",
       "      <td>0.154315</td>\n",
       "      <td>-0.0693565</td>\n",
       "      <td>-0.042255</td>\n",
       "      <td>-0.0510895</td>\n",
       "      <td>...</td>\n",
       "      <td>0.0517471</td>\n",
       "      <td>-0.105865</td>\n",
       "      <td>-0.0803959</td>\n",
       "      <td>0.207157</td>\n",
       "      <td>0.0116383</td>\n",
       "      <td>-0.0894696</td>\n",
       "      <td>-0.0662505</td>\n",
       "      <td>student</td>\n",
       "      <td>0</td>\n",
       "      <td>lsa</td>\n",
       "    </tr>\n",
       "    <tr>\n",
       "      <th>3</th>\n",
       "      <td>0.54096</td>\n",
       "      <td>0.359591</td>\n",
       "      <td>-0.12489</td>\n",
       "      <td>0.118133</td>\n",
       "      <td>0.214989</td>\n",
       "      <td>-0.31223</td>\n",
       "      <td>0.305237</td>\n",
       "      <td>0.00634222</td>\n",
       "      <td>0.0715107</td>\n",
       "      <td>-0.163399</td>\n",
       "      <td>...</td>\n",
       "      <td>0.0114089</td>\n",
       "      <td>0.0503208</td>\n",
       "      <td>0.232363</td>\n",
       "      <td>0.110342</td>\n",
       "      <td>0.0113904</td>\n",
       "      <td>0.030096</td>\n",
       "      <td>-0.0213729</td>\n",
       "      <td>student</td>\n",
       "      <td>0</td>\n",
       "      <td>lsa</td>\n",
       "    </tr>\n",
       "    <tr>\n",
       "      <th>4</th>\n",
       "      <td>0.379796</td>\n",
       "      <td>0.404427</td>\n",
       "      <td>-0.148599</td>\n",
       "      <td>0.270323</td>\n",
       "      <td>-0.283336</td>\n",
       "      <td>-0.0664504</td>\n",
       "      <td>-0.00375481</td>\n",
       "      <td>0.23951</td>\n",
       "      <td>0.0887958</td>\n",
       "      <td>-0.0911244</td>\n",
       "      <td>...</td>\n",
       "      <td>-0.116746</td>\n",
       "      <td>0.301664</td>\n",
       "      <td>-0.0250439</td>\n",
       "      <td>-0.196527</td>\n",
       "      <td>0.198361</td>\n",
       "      <td>0.0613054</td>\n",
       "      <td>-0.0377885</td>\n",
       "      <td>student</td>\n",
       "      <td>0</td>\n",
       "      <td>lsa</td>\n",
       "    </tr>\n",
       "  </tbody>\n",
       "</table>\n",
       "<p>5 rows × 53 columns</p>\n",
       "</div>"
      ],
      "text/plain": [
       "          0         1           2          3         4          5           6  \\\n",
       "0  0.785115 -0.164523 -0.00952048  0.0735985  0.301925 -0.0926955   0.0442399   \n",
       "1  0.562808 -0.137363   0.0599365  0.0171604 -0.128064  0.0292084   0.0710008   \n",
       "2  0.721463  0.350559   -0.134512 -0.0923412  0.230676  0.0579614    0.154315   \n",
       "3   0.54096  0.359591    -0.12489   0.118133  0.214989   -0.31223    0.305237   \n",
       "4  0.379796  0.404427   -0.148599   0.270323 -0.283336 -0.0664504 -0.00375481   \n",
       "\n",
       "            7          8          9  ...           43         44          45  \\\n",
       "0   0.0164873   -0.11659   0.126724  ...   -0.0157787  0.0679339  0.00549483   \n",
       "1  -0.0221945  -0.389115  0.0910589  ...     0.237277  -0.106184  0.00250128   \n",
       "2  -0.0693565  -0.042255 -0.0510895  ...    0.0517471  -0.105865  -0.0803959   \n",
       "3  0.00634222  0.0715107  -0.163399  ...    0.0114089  0.0503208    0.232363   \n",
       "4     0.23951  0.0887958 -0.0911244  ...    -0.116746   0.301664  -0.0250439   \n",
       "\n",
       "          46         47          48         49   target test method  \n",
       "0  -0.105635  0.0130594 -0.00169317 -0.0565193  student    0    lsa  \n",
       "1 -0.0567713  0.0697015   -0.258017 -0.0763964      pro    0    lsa  \n",
       "2   0.207157  0.0116383  -0.0894696 -0.0662505  student    0    lsa  \n",
       "3   0.110342  0.0113904    0.030096 -0.0213729  student    0    lsa  \n",
       "4  -0.196527   0.198361   0.0613054 -0.0377885  student    0    lsa  \n",
       "\n",
       "[5 rows x 53 columns]"
      ]
     },
     "execution_count": 19,
     "metadata": {},
     "output_type": "execute_result"
    }
   ],
   "source": [
    "from sklearn.model_selection import train_test_split\n",
    "\n",
    "X_train_lda, X_test_lda, y_train_lda, y_test_lda = train_test_split(essays_lda, \n",
    "                                                                    df_features.student, \n",
    "                                                                    test_size=0.2, \n",
    "                                                                    stratify=df_features.student)\n",
    "\n",
    "X_train_lsa, X_test_lsa, y_train_lsa, y_test_lsa = train_test_split(essays_lsa,\n",
    "                                                                    df_features.student,\n",
    "                                                                    test_size=0.2,\n",
    "                                                                    stratify=df_features.student)\n",
    "\n",
    "X_train_nmf, X_test_nmf, y_train_nmf, y_test_nmf = train_test_split(essays_nmf,\n",
    "                                                                    df_features.student,\n",
    "                                                                    test_size=0.2,\n",
    "                                                                    stratify=df_features.student)\n",
    "\n",
    "# This is going to be a pain in the ass. I hope it actually ends up saving me time. \n",
    "# I'm going to concatenate all of these dataframes together so that I can pass them into\n",
    "# a custom class, along with an estimator. The object will spit out training metrics.\n",
    "\n",
    "# Latent Semantic Analysis\n",
    "reduced_train_lsa = pd.DataFrame(data=np.append(X_train_lsa, \n",
    "                                                y_train_lsa[:, np.newaxis],\n",
    "                                                1))\n",
    "reduced_train_lsa['test'] = 0\n",
    "reduced_test_lsa = pd.DataFrame(data=np.append(X_test_lsa, \n",
    "                                                y_test_lsa[:, np.newaxis],\n",
    "                                                1))\n",
    "reduced_test_lsa['test'] = 1\n",
    "reduced_lsa = reduced_train_lsa.append(reduced_test_lsa, ignore_index=True)\n",
    "reduced_lsa['method'] = 'lsa'\n",
    "reduced_lsa.rename(columns={n_components:'target'}, inplace=True)\n",
    "\n",
    "\n",
    "\n",
    "\n",
    "# Latent Dirichlet Analysis\n",
    "reduced_train_lda = pd.DataFrame(data=np.append(X_train_lda, \n",
    "                                                y_train_lda[:, np.newaxis],\n",
    "                                                1))\n",
    "reduced_train_lda['test'] = 0\n",
    "reduced_test_lda = pd.DataFrame(data=np.append(X_test_lda, \n",
    "                                                y_test_lda[:, np.newaxis],\n",
    "                                                1))\n",
    "reduced_test_lda['test'] = 1\n",
    "reduced_lda = reduced_train_lda.append(reduced_test_lda, ignore_index=True)\n",
    "reduced_lda['method'] = 'lda'\n",
    "reduced_lda.rename(columns={n_components:'target'}, inplace=True)\n",
    "\n",
    "\n",
    "\n",
    "# Non-Negative Matrix Factorization\n",
    "reduced_train_nmf = pd.DataFrame(data=np.append(X_train_nmf, \n",
    "                                                y_train_nmf[:, np.newaxis],\n",
    "                                                1))\n",
    "reduced_train_nmf['test'] = 0\n",
    "reduced_test_nmf = pd.DataFrame(data=np.append(X_test_nmf, \n",
    "                                                y_test_nmf[:, np.newaxis],\n",
    "                                                1))\n",
    "reduced_test_nmf['test'] = 1\n",
    "reduced_nmf = reduced_train_nmf.append(reduced_test_nmf, ignore_index=True)\n",
    "reduced_nmf['method'] = 'nmf'\n",
    "reduced_nmf.rename(columns={n_components:'target'}, inplace=True)\n",
    "\n",
    "# Putting it all together now:\n",
    "\n",
    "reduced_data = reduced_lsa.copy()\n",
    "reduced_data = reduced_data.append(reduced_lda, ignore_index=True)\n",
    "reduced_data = reduced_data.append(reduced_nmf, ignore_index=True)\n",
    "reduced_data.reset_index(inplace=True, drop=True)\n",
    "# reduced_data.target = reduced_data.target.astype(np.int64) #map(lambda x: int(x))\n",
    "print(reduced_data.shape[0] / 3)\n",
    "reduced_data.head()"
   ]
  },
  {
   "cell_type": "markdown",
   "metadata": {},
   "source": [
    "I noticed during RandomizedSearchCV that my validation folds were scoring terribly, and decided I didn't want to use cross validation. However, SKLearn does not have a regular RandomizedSearch, so I wrote my own! It takes as input a dataframe in the format described above (columns = [1, 2, 3, ... , n, target, test, method]). It splits the training set into train and validation sets, then outputs for each method a confusion matrix and its train/validation scores. Right now, there are only a few things hard-coded into the class, but they can very easily be changed to dynamically match the number of methods and the number of components per method. I am very proud of the way this thing turned out, and it runs pretty fast too!"
   ]
  },
  {
   "cell_type": "code",
   "execution_count": 600,
   "metadata": {},
   "outputs": [],
   "source": [
    "import warnings\n",
    "from sklearn.metrics import confusion_matrix\n",
    "import itertools\n",
    "\n",
    "class RandomSearch(object):\n",
    "    def __init__(self, estimator, params, cnf_matrix=True, **kwargs):\n",
    "        self.estimator = estimator\n",
    "        self.params = params\n",
    "        self.kwargs = kwargs\n",
    "        self.x_data = {'train':[], 'val':[], 'test':[]}\n",
    "        self.y_data = {'train':[], 'val':[], 'test':[]}\n",
    "        self.param_dict = {}\n",
    "        \n",
    "        \n",
    "    def fit(self, data):\n",
    "        self.methods = data.method.unique().tolist()\n",
    "        self.data = data\n",
    "        # First, unpack our dataset into all the parts we will need\n",
    "        for method in self.methods:\n",
    "            x_train, x_val, y_train, y_val = train_test_split(data[(data['test']==0) & (data['method'] == method)].iloc[:, :50], # Make this dynamic\n",
    "                                                              data[(data['test']==0) & (data['method'] == method)]['target'],\n",
    "                                                              test_size=0.2,\n",
    "                                                              stratify=data[(data['test']==0) & (data['method'] == method)]['target'])\n",
    "            # Store each chunk into appropriate variable as a list\n",
    "            self.x_data['train'].append(x_train)\n",
    "            self.x_data['val'].append(x_val)\n",
    "            self.x_data['test'].append(data[(data['test']==1) & (data['method'] == method)].iloc[:, :50])\n",
    "            self.y_data['train'].append(y_train)\n",
    "            self.y_data['val'].append(y_val)\n",
    "            self.y_data['test'].append(data[(data['test']==1) & (data['method'] == method)]['target'])\n",
    "        \n",
    "        # This will be where we store all of our results\n",
    "        self.results = {'n_methods': len(self.methods)}\n",
    "        methods_ = {}\n",
    "        for method in self.methods:\n",
    "            methods_[method] = {'train':[], 'val':[], 'test':[]}\n",
    "        self.results['scores_'] = methods_.copy()\n",
    "        self.results['saved_params'] = []\n",
    "        # Now we can unpack our parameter distributions\n",
    "        self.n_iter = self.kwargs.pop('n_iter')\n",
    "        for param in self.params:\n",
    "            self.param_dict[param] = self.unpack_dists(self.params[param], self.n_iter)\n",
    "        \n",
    "        for i, method in enumerate(self.methods):\n",
    "            # Initialize a temp container for each iterations random parameters\n",
    "            self.temp_params = {}\n",
    "            \n",
    "            for j in range(self.n_iter):\n",
    "                \n",
    "                # Take out one from each of the param distributions passed\n",
    "                for param in self.param_dict:\n",
    "                    self.temp_params[param] = self.param_dict[param][j]\n",
    "                \n",
    "                # Yay for keyword arguments. The double stars unpack the temp_dict as arguments\n",
    "                self.estimator.set_params(**self.temp_params)\n",
    "                \n",
    "                # Train our classifier, and save all of its parameters to the results\n",
    "                self.estimator.fit(self.x_data['train'][i], self.y_data['train'][i])\n",
    "                self.results['saved_params'].append(self.estimator.get_params())\n",
    "                \n",
    "                # Generate score data for train, val, and test sets\n",
    "                for option in ['train', 'test', 'val']:\n",
    "                    self.generate_score_data(self.estimator, i, option)\n",
    "                \n",
    "                \n",
    "    def unpack_dists(self, declaration, n_iter):\n",
    "        if type(declaration[1]) == tuple:\n",
    "            if declaration[0] == 'uniform':\n",
    "                return np.random.uniform(declaration[1][0], declaration[1][1], n_iter)\n",
    "            elif declaration[0] == 'randint':\n",
    "                return np.random.randint(declaration[1][0], declaration[1][1], n_iter)\n",
    "        else:\n",
    "            return np.random.choice(declaration, n_iter)\n",
    "            \n",
    "    def generate_score_data(self, estimator, i, option, refit=False):\n",
    "        # Initialize x/y data from self\n",
    "        x = self.x_data[option][i]\n",
    "        y = self.y_data[option][i]\n",
    "        \n",
    "        # Use custom scoring function if specified, and catch annoying warnings.\n",
    "        if self.kwargs['scoring']:\n",
    "            with warnings.catch_warnings():\n",
    "                warnings.simplefilter(\"ignore\")\n",
    "                scoring_function = self.kwargs['scoring']\n",
    "                score_ = scoring_function(estimator, x, y)\n",
    "        else:\n",
    "            # Or use the default scoring method if none specified\n",
    "            score_ = estimator.score(x, y)\n",
    "        self.results['scores_'][self.methods[i]][option].append(score_)\n",
    "\n",
    "        \n",
    "    def print_score_report(self, test_set=False):\n",
    "        self.best_index = []\n",
    "        methods_ = {}\n",
    "        for method in self.methods:\n",
    "            methods_[method] = {'train':None, 'val':None, 'test':None}\n",
    "        best_scores = methods_.copy()\n",
    "        self.results['best_scores'] = best_scores.copy()     \n",
    "\n",
    "        for i, method in enumerate(self.methods):\n",
    "            self.best_index.append(np.argmax(self.results['scores_'][method]['val']))\n",
    "            for option in ['train', 'val', 'test']:\n",
    "                self.results['best_scores'][method][option] = self.results['scores_'][method][option][self.best_index[i]]\n",
    "\n",
    "        print_row = []\n",
    "        if not test_set:\n",
    "            # Let's start with the confusion matrix\n",
    "            cnf_matrix = []\n",
    "            for i in range(self.results['n_methods']):\n",
    "                x, y = self.x_data['val'][i], self.y_data['val'][i]\n",
    "                self.estimator.fit(x, y)\n",
    "                cnf_matrix.append(confusion_matrix(y, self.estimator.predict(x)))\n",
    "            \n",
    "            self.plot_confusion_matrix(cnf_matrix, classes=['pro', 'student'])\n",
    "            print_row.extend([[self.results['best_scores'][method][option] \n",
    "                              for method in self.methods] \n",
    "                              for option in ['train', 'val']])\n",
    "            formatting_string = ['        Training Score: ', '        Validation Score: ']\n",
    "            for i, row in enumerate(print_row):\n",
    "                row = [formatting_string[i]+str(score)[:5] for score in row]\n",
    "                print(''.join(word.ljust(36) for word in row))\n",
    "        else:\n",
    "            # Let's start with the confusion matrix\n",
    "            cnf_matrix = []\n",
    "            for i in range(self.results['n_methods']):\n",
    "                x, y = self.x_data['test'][i], self.y_data['test'][i]\n",
    "                self.estimator.fit(x, y)\n",
    "                cnf_matrix.append(confusion_matrix(y, self.estimator.predict(x)))\n",
    "            \n",
    "            self.plot_confusion_matrix(cnf_matrix, classes=['pro', 'student'])\n",
    "            print_row.extend([[self.results['best_scores'][method][option] \n",
    "                              for method in self.methods] \n",
    "                              for option in ['test']])\n",
    "            formatting_string = ['        Testing Score: ']\n",
    "            for i, row in enumerate(print_row):\n",
    "                row = [formatting_string[i]+str(score)[:5] for score in row]\n",
    "                print(''.join(word.ljust(36) for word in row))\n",
    "            \n",
    "            \n",
    "    def plot_confusion_matrix(self, cm, classes,\n",
    "                              normalize=False,\n",
    "                              title='Confusion matrix',\n",
    "                              cmap=plt.cm.Blues):\n",
    "        \"\"\"\n",
    "        This function prints and plots the confusion matrix.\n",
    "        Normalization can be applied by setting `normalize=True`.\n",
    "        \"\"\"\n",
    "        plt.figure(figsize=(15,5))\n",
    "        for k in range(1, self.results['n_methods']+1):\n",
    "            plt.subplot(1, 3, k)\n",
    "            plt.imshow(cm[k-1], interpolation='nearest', cmap=cmap)\n",
    "            plt.title('{}'.format(self.methods[k-1].upper()))\n",
    "            plt.colorbar()\n",
    "            tick_marks = np.arange(len(classes))\n",
    "            plt.xticks(tick_marks, classes, rotation=45)\n",
    "            plt.yticks(tick_marks, classes)\n",
    "\n",
    "            fmt = '.2f' if normalize else 'd'\n",
    "            thresh = cm[k-1].max() / 2.\n",
    "            for i, j in itertools.product(range(cm[k-1].shape[0]), range(cm[k-1].shape[1])):\n",
    "                plt.text(j, i, format(cm[k-1][i, j], fmt),\n",
    "                         horizontalalignment=\"center\",\n",
    "                         color=\"white\" if cm[k-1][i, j] > thresh else \"black\")\n",
    "\n",
    "            plt.tight_layout()\n",
    "            plt.ylabel('True label')\n",
    "            plt.xlabel('Predicted label')\n",
    "        plt.savefig('../{}results.PNG'.format(str(test.estimator.__class__).split('.')[-1][:-2]))\n",
    "        \n",
    "        plt.show()\n",
    "\n",
    "\n",
    "# # For testing purposes\n",
    "# param_dist = {'C':['uniform', (0.001, 2.0)]}\n",
    "# svc = SVC(class_weight='balanced')\n",
    "# test = RandomSearch(svc, param_dist, n_iter=2,\n",
    "#                     scoring=f1_scorer)\n",
    "# test.fit(reduced_data)\n",
    "# test.print_score_report()"
   ]
  },
  {
   "cell_type": "markdown",
   "metadata": {},
   "source": [
    "### Naive Bayes on tfidf vector"
   ]
  },
  {
   "cell_type": "code",
   "execution_count": 601,
   "metadata": {},
   "outputs": [
    {
     "name": "stdout",
     "output_type": "stream",
     "text": [
      "Model with rank: 1\n",
      "Mean validation score: 0.056 (std: 0.048)\n",
      "Parameters: {'alpha': 0.06345830091813626}\n",
      "\n",
      "Model with rank: 2\n",
      "Mean validation score: 0.000 (std: 0.000)\n",
      "Parameters: {'alpha': 9.867935058519459}\n",
      "\n",
      "Model with rank: 2\n",
      "Mean validation score: 0.000 (std: 0.000)\n",
      "Parameters: {'alpha': 1.2551875272891724}\n",
      "\n",
      "Model with rank: 2\n",
      "Mean validation score: 0.000 (std: 0.000)\n",
      "Parameters: {'alpha': 2.0392858556741205}\n",
      "\n"
     ]
    }
   ],
   "source": [
    "from sklearn.naive_bayes import MultinomialNB\n",
    "from sklearn.model_selection import RandomizedSearchCV\n",
    "\n",
    "param_dist = {'alpha':np.random.uniform(0.001, 10, 30)}\n",
    "n_iter = 30\n",
    "mnb = MultinomialNB()\n",
    "mnb_search = RandomizedSearchCV(mnb, param_distributions=param_dist, \n",
    "                             n_iter=n_iter, scoring=f1_scorer,\n",
    "                             n_jobs=-1)\n",
    "\n",
    "mnb_search.fit(essays_tfidf, df_features.student)\n",
    "report(mnb_search.cv_results_)"
   ]
  },
  {
   "cell_type": "markdown",
   "metadata": {},
   "source": [
    "## LinearSVC"
   ]
  },
  {
   "cell_type": "code",
   "execution_count": 619,
   "metadata": {},
   "outputs": [
    {
     "data": {
      "image/png": "[encoded data removed]",
      "text/plain": [
       "<matplotlib.figure.Figure at 0x1c90599ab38>"
      ]
     },
     "metadata": {},
     "output_type": "display_data"
    },
    {
     "name": "stdout",
     "output_type": "stream",
     "text": [
      "        Training Score: 0.750               Training Score: 0.528               Training Score: 0.513       \n",
      "        Validation Score: 0.685             Validation Score: 0.424             Validation Score: 0.488     \n"
     ]
    }
   ],
   "source": [
    "from sklearn.svm import LinearSVC\n",
    "\n",
    "param_dist = {'C':['uniform', (0.001, 2.0)]}\n",
    "lin_svc = LinearSVC(class_weight='balanced')\n",
    "lsvc_clf = RandomSearch(lin_svc, param_dist, n_iter=50,\n",
    "                        scoring=f1_scorer)\n",
    "\n",
    "lsvc_clf.fit(reduced_data)\n",
    "lsvc_clf.print_score_report()"
   ]
  },
  {
   "cell_type": "markdown",
   "metadata": {},
   "source": [
    "### SVC"
   ]
  },
  {
   "cell_type": "code",
   "execution_count": 603,
   "metadata": {},
   "outputs": [
    {
     "data": {
      "image/png": "[encoded data removed]",
      "text/plain": [
       "<matplotlib.figure.Figure at 0x1c9791a5f60>"
      ]
     },
     "metadata": {},
     "output_type": "display_data"
    },
    {
     "name": "stdout",
     "output_type": "stream",
     "text": [
      "        Training Score: 0.556               Training Score: 0.267               Training Score: 0.267       \n",
      "        Validation Score: 0.666             Validation Score: 0.266             Validation Score: 0.266     \n"
     ]
    }
   ],
   "source": [
    "from sklearn.svm import SVC\n",
    "\n",
    "param_dist = {'C':['uniform', (0.001, 2.0)]}\n",
    "svc = SVC(class_weight='balanced')\n",
    "svc_clf = RandomSearch(svc, param_dist, n_iter=50,\n",
    "                       scoring=f1_scorer)\n",
    "\n",
    "svc_clf.fit(reduced_data)\n",
    "svc_clf.print_score_report()"
   ]
  },
  {
   "cell_type": "markdown",
   "metadata": {},
   "source": [
    "### K-Nearest Neighbors"
   ]
  },
  {
   "cell_type": "code",
   "execution_count": 604,
   "metadata": {},
   "outputs": [
    {
     "data": {
      "image/png": "[encoded data removed]",
      "text/plain": [
       "<matplotlib.figure.Figure at 0x1c98dc01780>"
      ]
     },
     "metadata": {},
     "output_type": "display_data"
    },
    {
     "name": "stdout",
     "output_type": "stream",
     "text": [
      "        Training Score: 0.695               Training Score: 0.554               Training Score: 1.0         \n",
      "        Validation Score: 0.551             Validation Score: 0.482             Validation Score: 0.529     \n"
     ]
    }
   ],
   "source": [
    "from sklearn.neighbors import KNeighborsClassifier\n",
    "from scipy.stats import randint as sp_randint\n",
    "\n",
    "param_dist = {'n_neighbors':['randint', (1, 15)],\n",
    "              'weights':['uniform', 'distance']}\n",
    "\n",
    "knn = KNeighborsClassifier()\n",
    "knn_clf = RandomSearch(knn, param_dist, n_iter=30,\n",
    "                        scoring=f1_scorer)\n",
    "\n",
    "knn_clf.fit(reduced_data)\n",
    "knn_clf.print_score_report()"
   ]
  },
  {
   "cell_type": "markdown",
   "metadata": {},
   "source": [
    "### Random Forest"
   ]
  },
  {
   "cell_type": "code",
   "execution_count": 605,
   "metadata": {},
   "outputs": [
    {
     "data": {
      "image/png": "[encoded data removed]",
      "text/plain": [
       "<matplotlib.figure.Figure at 0x1c979076d30>"
      ]
     },
     "metadata": {},
     "output_type": "display_data"
    },
    {
     "name": "stdout",
     "output_type": "stream",
     "text": [
      "        Training Score: 1.0                 Training Score: 0.920               Training Score: 1.0         \n",
      "        Validation Score: 0.347             Validation Score: 0.514             Validation Score: 0.466     \n"
     ]
    }
   ],
   "source": [
    "from sklearn.ensemble import RandomForestClassifier\n",
    "from scipy.stats import randint as sp_randint\n",
    "\n",
    "param_dist = {'n_estimators':['randint',(5, 200)],\n",
    "              'n_jobs':[5,5]}\n",
    "\n",
    "rf = RandomForestClassifier(class_weight='balanced')\n",
    "rf_clf = RandomSearch(rf, param_dist, n_iter=30,\n",
    "                        scoring=f1_scorer)\n",
    "\n",
    "rf_clf.fit(reduced_data)\n",
    "rf_clf.print_score_report()"
   ]
  },
  {
   "cell_type": "markdown",
   "metadata": {},
   "source": [
    "Holy Overfitting, Batman!"
   ]
  },
  {
   "cell_type": "markdown",
   "metadata": {},
   "source": [
    "# Gradient Boosted Random Forest Classifier"
   ]
  },
  {
   "cell_type": "code",
   "execution_count": 606,
   "metadata": {},
   "outputs": [
    {
     "data": {
      "image/png": "[encoded data removed]",
      "text/plain": [
       "<matplotlib.figure.Figure at 0x1c97808b588>"
      ]
     },
     "metadata": {},
     "output_type": "display_data"
    },
    {
     "name": "stdout",
     "output_type": "stream",
     "text": [
      "        Training Score: 1.0                 Training Score: 0.641               Training Score: 1.0         \n",
      "        Validation Score: 0.551             Validation Score: 0.518             Validation Score: 0.482     \n"
     ]
    }
   ],
   "source": [
    "from sklearn.ensemble import GradientBoostingClassifier\n",
    "\n",
    "param_dist = {'n_estimators':['randint',(50, 300)],\n",
    "              'learning_rate':['uniform', (0.01, .7)]}\n",
    "\n",
    "gbc = GradientBoostingClassifier()\n",
    "gbc_clf = RandomSearch(gbc, param_dist, n_iter=50,\n",
    "                        scoring=f1_scorer)\n",
    "\n",
    "gbc_clf.fit(reduced_data)\n",
    "gbc_clf.print_score_report()"
   ]
  },
  {
   "cell_type": "code",
   "execution_count": 613,
   "metadata": {},
   "outputs": [
    {
     "data": {
      "image/png": "[encoded data removed]",
      "text/plain": [
       "<matplotlib.figure.Figure at 0x1c97b95fba8>"
      ]
     },
     "metadata": {},
     "output_type": "display_data"
    },
    {
     "name": "stdout",
     "output_type": "stream",
     "text": [
      "        Training Score: 1.0                 Training Score: 0.606               Training Score: 1.0         \n",
      "        Validation Score: 0.689             Validation Score: 0.538             Validation Score: 0.551     \n"
     ]
    }
   ],
   "source": [
    "from sklearn.ensemble import BaggingClassifier\n",
    "\n",
    "param_dist = {'n_estimators':['randint',(5, 25)], 'max_samples':['uniform', (0.3, 1.0)], \n",
    "              'max_features':['uniform',(0.3, 1.0)], 'bootstrap':[True, False], \n",
    "              'bootstrap_features':[True, False]}\n",
    "\n",
    "bag = BaggingClassifier()\n",
    "bag_clf = RandomSearch(bag, param_dist, n_iter=250,\n",
    "                        scoring=f1_scorer)\n",
    "\n",
    "bag_clf.fit(reduced_data)\n",
    "bag_clf.print_score_report()"
   ]
  },
  {
   "cell_type": "code",
   "execution_count": 608,
   "metadata": {},
   "outputs": [
    {
     "data": {
      "image/png": "[encoded data removed]",
      "text/plain": [
       "<matplotlib.figure.Figure at 0x1c96e0c4b70>"
      ]
     },
     "metadata": {},
     "output_type": "display_data"
    },
    {
     "name": "stdout",
     "output_type": "stream",
     "text": [
      "        Training Score: 1.0                 Training Score: 1.0                 Training Score: 1.0         \n",
      "        Validation Score: 0.461             Validation Score: 0.432             Validation Score: 0.620     \n"
     ]
    }
   ],
   "source": [
    "from sklearn.ensemble import AdaBoostClassifier\n",
    "\n",
    "param_dist = {'algorithm':['SAMME.R', 'SAMME.R']}\n",
    "\n",
    "ada = AdaBoostClassifier(bag)\n",
    "ada_clf = RandomSearch(ada, param_dist, n_iter=50,\n",
    "                        scoring=f1_scorer)\n",
    "\n",
    "ada_clf.fit(reduced_data)\n",
    "ada_clf.print_score_report()"
   ]
  },
  {
   "cell_type": "code",
   "execution_count": 586,
   "metadata": {},
   "outputs": [
    {
     "ename": "TypeError",
     "evalue": "'NoneType' object is not subscriptable",
     "output_type": "error",
     "traceback": [
      "\u001b[1;31m---------------------------------------------------------------------------\u001b[0m",
      "\u001b[1;31mTypeError\u001b[0m                                 Traceback (most recent call last)",
      "\u001b[1;32m<ipython-input-586-5c5defb54eda>\u001b[0m in \u001b[0;36m<module>\u001b[1;34m()\u001b[0m\n\u001b[0;32m      7\u001b[0m                         scoring=f1_scorer)\n\u001b[0;32m      8\u001b[0m \u001b[1;33m\u001b[0m\u001b[0m\n\u001b[1;32m----> 9\u001b[1;33m \u001b[0mmlp_clf\u001b[0m\u001b[1;33m.\u001b[0m\u001b[0mfit\u001b[0m\u001b[1;33m(\u001b[0m\u001b[0mreduced_data\u001b[0m\u001b[1;33m)\u001b[0m\u001b[1;33m\u001b[0m\u001b[0m\n\u001b[0m\u001b[0;32m     10\u001b[0m \u001b[0mmlp_clf\u001b[0m\u001b[1;33m.\u001b[0m\u001b[0mprint_score_report\u001b[0m\u001b[1;33m(\u001b[0m\u001b[1;33m)\u001b[0m\u001b[1;33m\u001b[0m\u001b[0m\n",
      "\u001b[1;32m<ipython-input-502-21c3c1b24b43>\u001b[0m in \u001b[0;36mfit\u001b[1;34m(self, data)\u001b[0m\n\u001b[0;32m     50\u001b[0m                 \u001b[1;31m# Take out one from each of the param distributions passed\u001b[0m\u001b[1;33m\u001b[0m\u001b[1;33m\u001b[0m\u001b[0m\n\u001b[0;32m     51\u001b[0m                 \u001b[1;32mfor\u001b[0m \u001b[0mparam\u001b[0m \u001b[1;32min\u001b[0m \u001b[0mself\u001b[0m\u001b[1;33m.\u001b[0m\u001b[0mparam_dict\u001b[0m\u001b[1;33m:\u001b[0m\u001b[1;33m\u001b[0m\u001b[0m\n\u001b[1;32m---> 52\u001b[1;33m                     \u001b[0mself\u001b[0m\u001b[1;33m.\u001b[0m\u001b[0mtemp_params\u001b[0m\u001b[1;33m[\u001b[0m\u001b[0mparam\u001b[0m\u001b[1;33m]\u001b[0m \u001b[1;33m=\u001b[0m \u001b[0mself\u001b[0m\u001b[1;33m.\u001b[0m\u001b[0mparam_dict\u001b[0m\u001b[1;33m[\u001b[0m\u001b[0mparam\u001b[0m\u001b[1;33m]\u001b[0m\u001b[1;33m[\u001b[0m\u001b[0mj\u001b[0m\u001b[1;33m]\u001b[0m\u001b[1;33m\u001b[0m\u001b[0m\n\u001b[0m\u001b[0;32m     53\u001b[0m \u001b[1;33m\u001b[0m\u001b[0m\n\u001b[0;32m     54\u001b[0m                 \u001b[1;31m# Yay for keyword arguments. The double stars unpack the temp_dict as arguments\u001b[0m\u001b[1;33m\u001b[0m\u001b[1;33m\u001b[0m\u001b[0m\n",
      "\u001b[1;31mTypeError\u001b[0m: 'NoneType' object is not subscriptable"
     ]
    }
   ],
   "source": [
    "from sklearn.neural_network import MLPClassifier\n",
    "\n",
    "param_dist = {'hidden_layer_sizes':[(500, 50, 5,),(750, 100,),(1000, 50,),(1000,)]}\n",
    "\n",
    "mlp = MLPClassifier()\n",
    "mlp_clf = RandomSearch(mlp, param_dist, n_iter=50,\n",
    "                        scoring=f1_scorer)\n",
    "\n",
    "mlp_clf.fit(reduced_data)\n",
    "mlp_clf.print_score_report()"
   ]
  },
  {
   "cell_type": "markdown",
   "metadata": {},
   "source": [
    "Sklearn's random search had trouble with changing the hidden_layer_sizes as well... I will have to figure this out at a later time."
   ]
  },
  {
   "cell_type": "markdown",
   "metadata": {},
   "source": [
    "# Failure Analysis"
   ]
  },
  {
   "cell_type": "code",
   "execution_count": 615,
   "metadata": {},
   "outputs": [
    {
     "data": {
      "image/png": "[encoded data removed]",
      "text/plain": [
       "<matplotlib.figure.Figure at 0x1c97fc515f8>"
      ]
     },
     "metadata": {},
     "output_type": "display_data"
    },
    {
     "name": "stdout",
     "output_type": "stream",
     "text": [
      "        Testing Score: 0.612                Testing Score: 0.488                Testing Score: 0.419        \n"
     ]
    }
   ],
   "source": [
    "# LINEAR SVC TEST SCORE\n",
    "lsvc_clf.print_score_report(test_set=True)"
   ]
  },
  {
   "cell_type": "code",
   "execution_count": 614,
   "metadata": {},
   "outputs": [
    {
     "data": {
      "image/png": "[encoded data removed]",
      "text/plain": [
       "<matplotlib.figure.Figure at 0x1c978f7f518>"
      ]
     },
     "metadata": {},
     "output_type": "display_data"
    },
    {
     "name": "stdout",
     "output_type": "stream",
     "text": [
      "        Testing Score: 0.484                Testing Score: 0.261                Testing Score: 0.261        \n"
     ]
    }
   ],
   "source": [
    "# SVC TEST SCORE\n",
    "svc_clf.print_score_report(test_set=True)"
   ]
  },
  {
   "cell_type": "code",
   "execution_count": 616,
   "metadata": {},
   "outputs": [
    {
     "data": {
      "image/png": "[encoded data removed]",
      "text/plain": [
       "<matplotlib.figure.Figure at 0x1c984636710>"
      ]
     },
     "metadata": {},
     "output_type": "display_data"
    },
    {
     "name": "stdout",
     "output_type": "stream",
     "text": [
      "        Testing Score: 0.322                Testing Score: 0.461                Testing Score: 0.275        \n"
     ]
    }
   ],
   "source": [
    "# KNN TEST SCORE\n",
    "knn_clf.print_score_report(test_set=True)"
   ]
  },
  {
   "cell_type": "code",
   "execution_count": 513,
   "metadata": {},
   "outputs": [
    {
     "data": {
      "image/png": "[encoded data removed]",
      "text/plain": [
       "<matplotlib.figure.Figure at 0x1c97b986588>"
      ]
     },
     "metadata": {},
     "output_type": "display_data"
    },
    {
     "name": "stdout",
     "output_type": "stream",
     "text": [
      "        Testing Score: 0.484                Testing Score: 0.266                Testing Score: 0.125        \n"
     ]
    }
   ],
   "source": [
    "# RANDOM FOREST TEST SCORE\n",
    "rf_clf.print_score_report(test_set=True)"
   ]
  },
  {
   "cell_type": "code",
   "execution_count": 514,
   "metadata": {},
   "outputs": [
    {
     "data": {
      "image/png": "[encoded data removed]",
      "text/plain": [
       "<matplotlib.figure.Figure at 0x1c98d4a3c18>"
      ]
     },
     "metadata": {},
     "output_type": "display_data"
    },
    {
     "name": "stdout",
     "output_type": "stream",
     "text": [
      "        Testing Score: 0.486                Testing Score: 0.352                Testing Score: 0.199        \n"
     ]
    }
   ],
   "source": [
    "# GRADIENT BOOSTED CLASSIFIER\n",
    "gbc_clf.print_score_report(test_set=True)"
   ]
  },
  {
   "cell_type": "code",
   "execution_count": 617,
   "metadata": {},
   "outputs": [
    {
     "data": {
      "image/png": "[encoded data removed]",
      "text/plain": [
       "<matplotlib.figure.Figure at 0x1c98464a828>"
      ]
     },
     "metadata": {},
     "output_type": "display_data"
    },
    {
     "name": "stdout",
     "output_type": "stream",
     "text": [
      "        Testing Score: 0.437                Testing Score: 0.388                Testing Score: 0.324        \n"
     ]
    }
   ],
   "source": [
    "# BAGGING CLASSIFIER\n",
    "bag_clf.print_score_report(test_set=True)"
   ]
  },
  {
   "cell_type": "code",
   "execution_count": 618,
   "metadata": {},
   "outputs": [
    {
     "data": {
      "image/png": "[encoded data removed]",
      "text/plain": [
       "<matplotlib.figure.Figure at 0x1c9838e39b0>"
      ]
     },
     "metadata": {},
     "output_type": "display_data"
    },
    {
     "name": "stdout",
     "output_type": "stream",
     "text": [
      "        Testing Score: 0.312                Testing Score: 0.479                Testing Score: 0.486        \n"
     ]
    }
   ],
   "source": [
    "# ADA BOOSTED CLASSIFIER\n",
    "ada_clf.print_score_report(test_set=True)"
   ]
  },
  {
   "cell_type": "code",
   "execution_count": null,
   "metadata": {},
   "outputs": [],
   "source": []
  },
  {
   "cell_type": "code",
   "execution_count": null,
   "metadata": {},
   "outputs": [],
   "source": []
  },
  {
   "cell_type": "markdown",
   "metadata": {},
   "source": [
    "# Conclusions\n",
    "Self-explanatory"
   ]
  },
  {
   "cell_type": "code",
   "execution_count": 70,
   "metadata": {},
   "outputs": [],
   "source": [
    "import winsound\n",
    "frequency = np.random.randint(2000, 4000, 50)  # Set Frequency To 2500 Hertz\n",
    "duration = 25  # Set Duration To 1000 ms == 1 second\n",
    "for each in frequency:\n",
    "    winsound.Beep(each, duration)"
   ]
  },
  {
   "cell_type": "markdown",
   "metadata": {},
   "source": [
    "# Header"
   ]
  },
  {
   "cell_type": "code",
   "execution_count": null,
   "metadata": {},
   "outputs": [],
   "source": []
  },
  {
   "cell_type": "code",
   "execution_count": null,
   "metadata": {},
   "outputs": [],
   "source": []
  },
  {
   "cell_type": "code",
   "execution_count": null,
   "metadata": {},
   "outputs": [],
   "source": []
  },
  {
   "cell_type": "code",
   "execution_count": null,
   "metadata": {},
   "outputs": [],
   "source": []
  },
  {
   "cell_type": "code",
   "execution_count": null,
   "metadata": {},
   "outputs": [],
   "source": []
  },
  {
   "cell_type": "code",
   "execution_count": null,
   "metadata": {},
   "outputs": [],
   "source": []
  },
  {
   "cell_type": "code",
   "execution_count": null,
   "metadata": {},
   "outputs": [],
   "source": []
  },
  {
   "cell_type": "code",
   "execution_count": null,
   "metadata": {},
   "outputs": [],
   "source": []
  },
  {
   "cell_type": "code",
   "execution_count": null,
   "metadata": {},
   "outputs": [],
   "source": []
  }
 ],
 "metadata": {
  "kernelspec": {
   "display_name": "Python 3",
   "language": "python",
   "name": "python3"
  },
  "language_info": {
   "codemirror_mode": {
    "name": "ipython",
    "version": 3
   },
   "file_extension": ".py",
   "mimetype": "text/x-python",
   "name": "python",
   "nbconvert_exporter": "python",
   "pygments_lexer": "ipython3",
   "version": "3.6.4"
  }
 },
 "nbformat": 4,
 "nbformat_minor": 2
}
