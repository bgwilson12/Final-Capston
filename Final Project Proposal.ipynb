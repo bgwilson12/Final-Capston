{
 "cells": [
  {
   "cell_type": "markdown",
   "metadata": {},
   "source": [
    "## Final Project Proposal\n",
    "The following is my final capstone project proposal for the review of the Thinkful Data Science Bootcamp Staff. I have included the prompts given in the assignment and will answer each of them individually.\n",
    "\n",
    "#### What is the problem you are attempting to solve?\n",
    "There are hundreds of pay-to-use websites called \"Essay Mills\" that offer a variety of services to students. Some of these services include:\n",
    "- Shopping for a pre-written essay (purchasing it means they will take the essay down from their services in order to fool anti-plagiarism services).\n",
    "- Paying a proffessional author to write an original essay (sometimes not original, depending on how sketchy the site is)\n",
    "- Paying to have a pre-written essay rewritten, just for you, in order to fool anti-plagiarism services.\n",
    "\n",
    "\n",
    "\n",
    "#### How is your solution valuable?\n",
    "These sites are a huge pain for universities, because as long as the site is actually writing original content for students, they are able to fool anti-plagiarism services. One could argue that sites like these are degrading to the higher education system as a whole, diminishing the value of a student's degree. Some may argue that learning to write an essay about how Plato had it all wrong is not a useful skill for most industries. However, in the same way that math classes give english majors an understanding of scientific views of the world, learning to write a good paper can teach a STEM major how to communicate. A friend of mine, who is a former Google employee has told me stories of MIT graduates that were absolute geniuses; these same professionals were incapable of explaining their work, making them about as useful as a calculator from a business standpoint. \n",
    "\n",
    "#### What is your data source and how will you access it?\n",
    "My data source is https://www.ukessays.com/essays/philosophy/ and I will be using a Scrapy spider. I was going to break the student essays into chunks that were roughly equal to the size of the professional samples. In addition, I want to cluster the essays in such that I could throw out clusters that consist only of student samples, if needed. I would do some research into how often students use these sites in order to figure out the proper ratio of student samples to professional samples.\n",
    "\n",
    "#### What techniques from the course do you anticipate using?\n",
    "I anticipate using most of the sklearn classification algorithms, in addition to unsupervised clustering, nltk for text parsing/tokenization, and Word2Vec or Doc2Vec.\n",
    "\n",
    "#### What do you anticipate to be the biggest challenge you’ll face?\n",
    "I anticipate the biggest challenge I will face will be having enough data, and using Scrapy to gather it. I feel very confident in my ability to process/analyze large volumes of text, given my previous project experiences. If I decide to use Word or Doc 2Vec, I may run into difficulties there. I attempted to use Doc2Vec on my supervised capstone, only to get poor results. I did not realize at the time that the use case for Doc2Vec was slightly different than what I was attempting to do."
   ]
  }
 ],
 "metadata": {
  "kernelspec": {
   "display_name": "Python 3",
   "language": "python",
   "name": "python3"
  },
  "language_info": {
   "codemirror_mode": {
    "name": "ipython",
    "version": 3
   },
   "file_extension": ".py",
   "mimetype": "text/x-python",
   "name": "python",
   "nbconvert_exporter": "python",
   "pygments_lexer": "ipython3",
   "version": "3.6.4"
  }
 },
 "nbformat": 4,
 "nbformat_minor": 2
}
